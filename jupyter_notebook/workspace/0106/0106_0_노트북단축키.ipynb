{
 "cells": [
  {
   "cell_type": "markdown",
   "id": "8ccad0e7",
   "metadata": {},
   "source": [
    "0. 셀 실행\n",
    "    - ctrl + enter : 현재 셀 실행\n",
    "    - shift + enter : 현재 셀 실행, 포커스를 다음셀로 이동(다음셀이 없으면 빈셀을 하나 추가)\n",
    "    "
   ]
  },
  {
   "cell_type": "markdown",
   "id": "27c829cb",
   "metadata": {},
   "source": [
    "     \n",
    "1. 명령(선택) 모드\n",
    "    - Esc 또는 ctrl+m을 눌러서 셀 테두리가 파란색이 된 상태(선택모드)\n",
    "\n",
    "    - 위로 셀 추가 : a\n",
    "    - 아래로셀 추가 : b  \n",
    "    - 선택 셀 삭제 : dd  d키를 두번 누름\n",
    "    - 선택 셀 잘라내기 : x\n",
    "    - 선택 셀 복사 : c  \n",
    "    - 붙여넣기 : p\n",
    "    - 선택셀과 아래 셀 합치기: shift + m\n",
    "    - 실행결과 열기 / 닫기 : o\n",
    "    - MarkDown으로 변경 : m    \n",
    "    - code로 변경 : y\n",
    "    - 파일 저장 : ctrl + s \n",
    "    - 선택된 셀의 입력모드로 돌아가기 enter"
   ]
  },
  {
   "cell_type": "markdown",
   "id": "e4920f95",
   "metadata": {},
   "source": [
    "2. 편집 모드\n"
   ]
  }
 ],
 "metadata": {
  "kernelspec": {
   "display_name": "Python 3 (ipykernel)",
   "language": "python",
   "name": "python3"
  },
  "language_info": {
   "codemirror_mode": {
    "name": "ipython",
    "version": 3
   },
   "file_extension": ".py",
   "mimetype": "text/x-python",
   "name": "python",
   "nbconvert_exporter": "python",
   "pygments_lexer": "ipython3",
   "version": "3.9.7"
  }
 },
 "nbformat": 4,
 "nbformat_minor": 5
}
