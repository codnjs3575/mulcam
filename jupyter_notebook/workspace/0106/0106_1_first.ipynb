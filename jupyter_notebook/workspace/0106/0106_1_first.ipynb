{
 "cells": [
  {
   "cell_type": "markdown",
   "id": "28451f55",
   "metadata": {},
   "source": [
    "# 01/06 first_\n",
    "- **anaconda** 설치\n",
    "    - 경로를 `터미널`로 연 다음 jupyter notebook 실행\n",
    "\n",
    "\n",
    "- **jupyter notebook** 설치\n",
    "    - `python 3` 파일 만들기\n",
    "    \n",
    "    - `명령어 사용` (명령모드)(선택모드)(파란색)\n",
    "        - shift + m : 셀 합치기\n",
    "        - a : 위로 셀 생성\n",
    "        - b : 아래로 셀 생성\n",
    "        - dd : 셀 지우기\n",
    "        - x / c / v : 잘라내기 / 복사 / 붙여넣기\n",
    "        - m : markdown\n",
    "        - y : code\n",
    "    \n",
    "    - `명령어 사용` (입력모드)(초록색)\n",
    "        - command + enter, shift + enter, option + enter\n",
    "        - option + shift + - : 셀 나누기\n",
    "        - ctrl + a : 선택 셀의 전체 코드 선택 \n",
    "        - ctrl + z : 선택 셀 내 실행 취소 \n",
    "        - ctrl + y : 선택 셀 내 다시 실행  \n",
    "        - ctrl + / : 커서 위치 주석 처리 \n",
    "        - ctrl + enter : 선택 셀 코드 실행\n",
    "        - shift+enter : 선택 셀 코드 실행 후 다음 cell로 이동(없으면 새로추가)\n"
   ]
  },
  {
   "cell_type": "code",
   "execution_count": 13,
   "id": "4559fa8c",
   "metadata": {},
   "outputs": [
    {
     "data": {
      "text/plain": [
       "7"
      ]
     },
     "execution_count": 13,
     "metadata": {},
     "output_type": "execute_result"
    }
   ],
   "source": [
    "3+4"
   ]
  },
  {
   "cell_type": "code",
   "execution_count": 12,
   "id": "8a755e4f",
   "metadata": {},
   "outputs": [
    {
     "data": {
      "text/plain": [
       "5050"
      ]
     },
     "execution_count": 12,
     "metadata": {},
     "output_type": "execute_result"
    }
   ],
   "source": [
    "sum = 0\n",
    "for i in range(1,101):\n",
    "    sum += i\n",
    "sum"
   ]
  }
 ],
 "metadata": {
  "kernelspec": {
   "display_name": "Python 3 (ipykernel)",
   "language": "python",
   "name": "python3"
  },
  "language_info": {
   "codemirror_mode": {
    "name": "ipython",
    "version": 3
   },
   "file_extension": ".py",
   "mimetype": "text/x-python",
   "name": "python",
   "nbconvert_exporter": "python",
   "pygments_lexer": "ipython3",
   "version": "3.9.7"
  }
 },
 "nbformat": 4,
 "nbformat_minor": 5
}
