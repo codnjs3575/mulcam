{
 "cells": [
  {
   "cell_type": "code",
   "execution_count": 1,
   "id": "890d1d40",
   "metadata": {},
   "outputs": [],
   "source": [
    "import numpy as np"
   ]
  },
  {
   "cell_type": "code",
   "execution_count": 2,
   "id": "6a934190",
   "metadata": {},
   "outputs": [
    {
     "data": {
      "text/plain": [
       "'1.20.3'"
      ]
     },
     "execution_count": 2,
     "metadata": {},
     "output_type": "execute_result"
    }
   ],
   "source": [
    "np.__version__"
   ]
  },
  {
   "cell_type": "code",
   "execution_count": 3,
   "id": "cb9cb89a",
   "metadata": {},
   "outputs": [
    {
     "data": {
      "text/plain": [
       "[1, 2, 3]"
      ]
     },
     "execution_count": 3,
     "metadata": {},
     "output_type": "execute_result"
    }
   ],
   "source": [
    "data1 = [1,2,3]\n",
    "data1"
   ]
  },
  {
   "cell_type": "code",
   "execution_count": 5,
   "id": "35bbd8a4",
   "metadata": {},
   "outputs": [
    {
     "data": {
      "text/plain": [
       "[1, 2, 3, 3.5, 5]"
      ]
     },
     "execution_count": 5,
     "metadata": {},
     "output_type": "execute_result"
    }
   ],
   "source": [
    "data2 = [1,2,3,3.5,5]\n",
    "data2"
   ]
  },
  {
   "cell_type": "code",
   "execution_count": 6,
   "id": "0450ba4b",
   "metadata": {},
   "outputs": [
    {
     "data": {
      "text/plain": [
       "array([1, 2, 3])"
      ]
     },
     "execution_count": 6,
     "metadata": {},
     "output_type": "execute_result"
    }
   ],
   "source": [
    "arr1 = np.array(data1)\n",
    "arr1"
   ]
  },
  {
   "cell_type": "code",
   "execution_count": 7,
   "id": "4dabfbca",
   "metadata": {
    "scrolled": false
   },
   "outputs": [
    {
     "data": {
      "text/plain": [
       "(dtype('int64'), (3,))"
      ]
     },
     "execution_count": 7,
     "metadata": {},
     "output_type": "execute_result"
    }
   ],
   "source": [
    "(arr1.dtype,arr1.shape)"
   ]
  },
  {
   "cell_type": "markdown",
   "id": "d4240167",
   "metadata": {},
   "source": [
    "# 1. numpy 자료형\n",
    "## float : 실수"
   ]
  },
  {
   "cell_type": "code",
   "execution_count": 10,
   "id": "3132f1cd",
   "metadata": {},
   "outputs": [
    {
     "data": {
      "text/plain": [
       "(array([1. , 2. , 3. , 3.5, 5. ]), dtype('float64'), (5,))"
      ]
     },
     "execution_count": 10,
     "metadata": {},
     "output_type": "execute_result"
    }
   ],
   "source": [
    "arr2 = np.array([1,2,3,3.5,5])\n",
    "arr2,arr2.dtype,arr2.shape"
   ]
  },
  {
   "cell_type": "markdown",
   "id": "6ac721d4",
   "metadata": {},
   "source": [
    "## int : 정수"
   ]
  },
  {
   "cell_type": "code",
   "execution_count": 15,
   "id": "82ffb539",
   "metadata": {},
   "outputs": [
    {
     "data": {
      "text/plain": [
       "(array([1, 2, 3, 4, 5]), dtype('int64'), (5,))"
      ]
     },
     "execution_count": 15,
     "metadata": {},
     "output_type": "execute_result"
    }
   ],
   "source": [
    "arr3 = np.array([1,2,3,4,5])\n",
    "arr3,arr3.dtype,arr3.shape"
   ]
  },
  {
   "cell_type": "code",
   "execution_count": 18,
   "id": "ef393a28",
   "metadata": {
    "scrolled": true
   },
   "outputs": [
    {
     "data": {
      "text/plain": [
       "(array([[ 1,  2,  3],\n",
       "        [ 4,  5,  6],\n",
       "        [ 7,  8,  9],\n",
       "        [10, 11, 12]]),\n",
       " dtype('int64'),\n",
       " (4, 3))"
      ]
     },
     "execution_count": 18,
     "metadata": {},
     "output_type": "execute_result"
    }
   ],
   "source": [
    "arr4 = np.array([[1,2,3],[4,5,6],[7,8,9],[10,11,12]])\n",
    "arr4,arr4.dtype,arr4.shape"
   ]
  },
  {
   "cell_type": "markdown",
   "id": "fa79c601",
   "metadata": {},
   "source": [
    "## complex : 복소수"
   ]
  },
  {
   "cell_type": "code",
   "execution_count": 20,
   "id": "7ee0f53f",
   "metadata": {
    "scrolled": false
   },
   "outputs": [
    {
     "data": {
      "text/plain": [
       "(array([5.+2.j]), dtype('complex128'), (1,))"
      ]
     },
     "execution_count": 20,
     "metadata": {},
     "output_type": "execute_result"
    }
   ],
   "source": [
    "arr5 = np.array([5+2j])\n",
    "arr5,arr5.dtype,arr5.shape"
   ]
  },
  {
   "cell_type": "markdown",
   "id": "50f6c477",
   "metadata": {},
   "source": [
    "## bool : 불리언"
   ]
  },
  {
   "cell_type": "code",
   "execution_count": 21,
   "id": "a04404e9",
   "metadata": {},
   "outputs": [
    {
     "data": {
      "text/plain": [
       "(array([ True]), dtype('bool'), (1,))"
      ]
     },
     "execution_count": 21,
     "metadata": {},
     "output_type": "execute_result"
    }
   ],
   "source": [
    "arr6 = np.array([True])\n",
    "arr6,arr6.dtype,arr6.shape"
   ]
  },
  {
   "cell_type": "markdown",
   "id": "33bb117c",
   "metadata": {},
   "source": [
    "## string : 문자열"
   ]
  },
  {
   "cell_type": "code",
   "execution_count": 22,
   "id": "6830e0bd",
   "metadata": {},
   "outputs": [
    {
     "data": {
      "text/plain": [
       "(array(['a'], dtype='<U1'), dtype('<U1'), (1,))"
      ]
     },
     "execution_count": 22,
     "metadata": {},
     "output_type": "execute_result"
    }
   ],
   "source": [
    "arr7 = np.array(['a'])\n",
    "arr7,arr7.dtype,arr7.shape"
   ]
  },
  {
   "cell_type": "markdown",
   "id": "32c084a1",
   "metadata": {},
   "source": [
    "## object : 파이썬 오브젝트"
   ]
  },
  {
   "cell_type": "code",
   "execution_count": 33,
   "id": "59caa603",
   "metadata": {},
   "outputs": [
    {
     "data": {
      "text/plain": [
       "(array([1, 0.1, 'one!'], dtype=object), dtype('O'), (3,))"
      ]
     },
     "execution_count": 33,
     "metadata": {},
     "output_type": "execute_result"
    }
   ],
   "source": [
    "arr8 = np.array([1, 0.1, 'one!'], dtype=object)\n",
    "\n",
    "arr8,arr8.dtype,arr8.shape"
   ]
  },
  {
   "cell_type": "code",
   "execution_count": 34,
   "id": "c9ad50b9",
   "metadata": {},
   "outputs": [
    {
     "data": {
      "text/plain": [
       "1"
      ]
     },
     "execution_count": 34,
     "metadata": {},
     "output_type": "execute_result"
    }
   ],
   "source": [
    "arr8[0]"
   ]
  },
  {
   "cell_type": "code",
   "execution_count": 35,
   "id": "e2829d4d",
   "metadata": {},
   "outputs": [
    {
     "data": {
      "text/plain": [
       "(0.1, 'one!')"
      ]
     },
     "execution_count": 35,
     "metadata": {},
     "output_type": "execute_result"
    }
   ],
   "source": [
    "arr8[1],arr8[2]"
   ]
  },
  {
   "cell_type": "code",
   "execution_count": 36,
   "id": "46f90c81",
   "metadata": {},
   "outputs": [
    {
     "data": {
      "text/plain": [
       "array([2, 0.2, 'one!one!'], dtype=object)"
      ]
     },
     "execution_count": 36,
     "metadata": {},
     "output_type": "execute_result"
    }
   ],
   "source": [
    "arr8 *2"
   ]
  },
  {
   "cell_type": "markdown",
   "id": "d3971014",
   "metadata": {},
   "source": [
    "---\n",
    "# 2. arange (start,end,step)(정수)"
   ]
  },
  {
   "cell_type": "code",
   "execution_count": 37,
   "id": "94f3a968",
   "metadata": {},
   "outputs": [
    {
     "data": {
      "text/plain": [
       "array([0, 1, 2, 3, 4, 5, 6, 7, 8, 9])"
      ]
     },
     "execution_count": 37,
     "metadata": {},
     "output_type": "execute_result"
    }
   ],
   "source": [
    "np.arange(10)"
   ]
  },
  {
   "cell_type": "code",
   "execution_count": 39,
   "id": "4c619d49",
   "metadata": {},
   "outputs": [
    {
     "data": {
      "text/plain": [
       "array([1, 3, 5, 7, 9])"
      ]
     },
     "execution_count": 39,
     "metadata": {},
     "output_type": "execute_result"
    }
   ],
   "source": [
    "np.arange(1,10,2)"
   ]
  },
  {
   "cell_type": "code",
   "execution_count": 40,
   "id": "4656dca3",
   "metadata": {},
   "outputs": [
    {
     "data": {
      "text/plain": [
       "array([[ 0,  1,  2,  3],\n",
       "       [ 4,  5,  6,  7],\n",
       "       [ 8,  9, 10, 11]])"
      ]
     },
     "execution_count": 40,
     "metadata": {},
     "output_type": "execute_result"
    }
   ],
   "source": [
    "np.arange(12).reshape(3,4)"
   ]
  },
  {
   "cell_type": "markdown",
   "id": "5edfe5cd",
   "metadata": {},
   "source": [
    "---\n",
    "# 3. linspace(start,stop,num=50)(실수)"
   ]
  },
  {
   "cell_type": "code",
   "execution_count": 41,
   "id": "e77b9117",
   "metadata": {},
   "outputs": [
    {
     "data": {
      "text/plain": [
       "array([ 1.,  2.,  3.,  4.,  5.,  6.,  7.,  8.,  9., 10.])"
      ]
     },
     "execution_count": 41,
     "metadata": {},
     "output_type": "execute_result"
    }
   ],
   "source": [
    "np.linspace(1,10,10) #1부터 10까지 10개"
   ]
  },
  {
   "cell_type": "code",
   "execution_count": 45,
   "id": "34ad992f",
   "metadata": {},
   "outputs": [
    {
     "data": {
      "text/plain": [
       "array([  1.  ,  25.75,  50.5 ,  75.25, 100.  ])"
      ]
     },
     "execution_count": 45,
     "metadata": {},
     "output_type": "execute_result"
    }
   ],
   "source": [
    "np.linspace(1,100,5) #1부터 100까지 5개"
   ]
  },
  {
   "cell_type": "markdown",
   "id": "84a87cab",
   "metadata": {},
   "source": [
    "---\n",
    "\n",
    "# 4. 특별한 형태의 배열 생성\n",
    "## 1) np.zeros(shape,dtype=float)"
   ]
  },
  {
   "cell_type": "code",
   "execution_count": 46,
   "id": "67f4ad26",
   "metadata": {},
   "outputs": [
    {
     "data": {
      "text/plain": [
       "array([0., 0., 0., 0., 0., 0., 0., 0., 0., 0.])"
      ]
     },
     "execution_count": 46,
     "metadata": {},
     "output_type": "execute_result"
    }
   ],
   "source": [
    "np.zeros(10)"
   ]
  },
  {
   "cell_type": "code",
   "execution_count": 47,
   "id": "a01ffd5d",
   "metadata": {},
   "outputs": [
    {
     "data": {
      "text/plain": [
       "array([[0, 0],\n",
       "       [0, 0],\n",
       "       [0, 0],\n",
       "       [0, 0]])"
      ]
     },
     "execution_count": 47,
     "metadata": {},
     "output_type": "execute_result"
    }
   ],
   "source": [
    "np.zeros((4,2),dtype=int)"
   ]
  },
  {
   "cell_type": "code",
   "execution_count": 50,
   "id": "038da0d1",
   "metadata": {},
   "outputs": [
    {
     "data": {
      "text/plain": [
       "array([[0., 0., 0., 0.],\n",
       "       [0., 0., 0., 0.]])"
      ]
     },
     "execution_count": 50,
     "metadata": {},
     "output_type": "execute_result"
    }
   ],
   "source": [
    "np.zeros((4,2)).reshape(2,4)"
   ]
  },
  {
   "cell_type": "markdown",
   "id": "d3d461b4",
   "metadata": {},
   "source": [
    "## 2) np.ones(shape,dtype=float)"
   ]
  },
  {
   "cell_type": "code",
   "execution_count": 51,
   "id": "0e07900d",
   "metadata": {},
   "outputs": [
    {
     "data": {
      "text/plain": [
       "array([1., 1., 1., 1., 1., 1., 1., 1., 1., 1.])"
      ]
     },
     "execution_count": 51,
     "metadata": {},
     "output_type": "execute_result"
    }
   ],
   "source": [
    "np.ones(10)"
   ]
  },
  {
   "cell_type": "code",
   "execution_count": 52,
   "id": "e61cdf7d",
   "metadata": {},
   "outputs": [
    {
     "data": {
      "text/plain": [
       "array([[1, 1],\n",
       "       [1, 1],\n",
       "       [1, 1],\n",
       "       [1, 1],\n",
       "       [1, 1]])"
      ]
     },
     "execution_count": 52,
     "metadata": {},
     "output_type": "execute_result"
    }
   ],
   "source": [
    "np.ones((5,2),dtype=int)"
   ]
  },
  {
   "cell_type": "markdown",
   "id": "3b3893c1",
   "metadata": {},
   "source": [
    "## 3) np.eye(n,m,k=K,dtype=float) #대각요소 1"
   ]
  },
  {
   "cell_type": "code",
   "execution_count": 53,
   "id": "8c358e2c",
   "metadata": {},
   "outputs": [
    {
     "data": {
      "text/plain": [
       "array([[1, 0, 0, 0, 0],\n",
       "       [0, 1, 0, 0, 0]])"
      ]
     },
     "execution_count": 53,
     "metadata": {},
     "output_type": "execute_result"
    }
   ],
   "source": [
    "np.eye(2,5,dtype=int)"
   ]
  },
  {
   "cell_type": "code",
   "execution_count": 54,
   "id": "49dde050",
   "metadata": {},
   "outputs": [
    {
     "data": {
      "text/plain": [
       "array([[0., 1., 0., 0.],\n",
       "       [0., 0., 1., 0.],\n",
       "       [0., 0., 0., 1.]])"
      ]
     },
     "execution_count": 54,
     "metadata": {},
     "output_type": "execute_result"
    }
   ],
   "source": [
    "np.eye(3,4,k=1)"
   ]
  },
  {
   "cell_type": "code",
   "execution_count": 55,
   "id": "713d8c79",
   "metadata": {},
   "outputs": [
    {
     "data": {
      "text/plain": [
       "array([[1., 0., 0., 0.],\n",
       "       [0., 1., 0., 0.],\n",
       "       [0., 0., 1., 0.],\n",
       "       [0., 0., 0., 1.]])"
      ]
     },
     "execution_count": 55,
     "metadata": {},
     "output_type": "execute_result"
    }
   ],
   "source": [
    "np.eye(4)"
   ]
  },
  {
   "cell_type": "code",
   "execution_count": 56,
   "id": "e2f30d12",
   "metadata": {},
   "outputs": [
    {
     "data": {
      "text/plain": [
       "array([[0., 0., 0., 0.],\n",
       "       [1., 0., 0., 0.],\n",
       "       [0., 1., 0., 0.],\n",
       "       [0., 0., 1., 0.]])"
      ]
     },
     "execution_count": 56,
     "metadata": {},
     "output_type": "execute_result"
    }
   ],
   "source": [
    "np.eye(4,k=-1)"
   ]
  },
  {
   "cell_type": "markdown",
   "id": "2bd1e357",
   "metadata": {},
   "source": [
    "## 4) np.identity(n,dtype=float) #대각요소 1"
   ]
  },
  {
   "cell_type": "code",
   "execution_count": 57,
   "id": "22f2f267",
   "metadata": {},
   "outputs": [
    {
     "data": {
      "text/plain": [
       "array([[1., 0., 0., 0.],\n",
       "       [0., 1., 0., 0.],\n",
       "       [0., 0., 1., 0.],\n",
       "       [0., 0., 0., 1.]])"
      ]
     },
     "execution_count": 57,
     "metadata": {},
     "output_type": "execute_result"
    }
   ],
   "source": [
    "np.identity(4)"
   ]
  },
  {
   "cell_type": "code",
   "execution_count": 58,
   "id": "31b3df8f",
   "metadata": {},
   "outputs": [
    {
     "data": {
      "text/plain": [
       "array([[1, 0, 0],\n",
       "       [0, 1, 0],\n",
       "       [0, 0, 1]])"
      ]
     },
     "execution_count": 58,
     "metadata": {},
     "output_type": "execute_result"
    }
   ],
   "source": [
    "np.identity(3,dtype=int)"
   ]
  },
  {
   "cell_type": "markdown",
   "id": "cc5e7049",
   "metadata": {},
   "source": [
    "## 5) np.empty(shape,dtype=float) #초기화 되지 않은 배열"
   ]
  },
  {
   "cell_type": "code",
   "execution_count": 59,
   "id": "6f8f04dd",
   "metadata": {},
   "outputs": [
    {
     "data": {
      "text/plain": [
       "array([  1.  ,  25.75,  50.5 ,  75.25, 100.  ])"
      ]
     },
     "execution_count": 59,
     "metadata": {},
     "output_type": "execute_result"
    }
   ],
   "source": [
    "np.empty(5)"
   ]
  },
  {
   "cell_type": "code",
   "execution_count": 70,
   "id": "9765b5ac",
   "metadata": {},
   "outputs": [
    {
     "data": {
      "text/plain": [
       "array([4607182418800017408, 4607182418800017408, 4607182418800017408,\n",
       "       4607182418800017408])"
      ]
     },
     "execution_count": 70,
     "metadata": {},
     "output_type": "execute_result"
    }
   ],
   "source": [
    "np.empty(4, dtype=int)"
   ]
  },
  {
   "cell_type": "markdown",
   "id": "1390c6a3",
   "metadata": {},
   "source": [
    "---\n",
    "# 5. 데이터 타입 변환 : astype() 함수"
   ]
  },
  {
   "cell_type": "markdown",
   "id": "392a879c",
   "metadata": {},
   "source": [
    "## 1) 데이터 형식 모음"
   ]
  },
  {
   "cell_type": "markdown",
   "id": "bb2ee298",
   "metadata": {},
   "source": [
    "### 1. 'i' : 부호가 있는 정수 int(8,16,32,64)\n",
    "### 2. 'u' : 부호가 없는 정수 uint(8,16,32,64) \n",
    "### 3. 'f' : 실수 float(16,32,64,128)\n",
    "### 4. 'c' : 복소수 complex(64,128,256)\n",
    "### 5. 'b' : 불리언 bool\n",
    "### 6. 'S'/'a' : 문자열 String_\n",
    "### 7. 'O' : 파이썬 오브젝트 object\n",
    "### 8. 'U' : 유니코드 unicode_\n",
    "### 9. 'M' : 날짜 datetime"
   ]
  },
  {
   "cell_type": "markdown",
   "id": "e9936ec2",
   "metadata": {},
   "source": [
    "## 2) 문자열 배열 -> 숫자형 배열"
   ]
  },
  {
   "cell_type": "code",
   "execution_count": 71,
   "id": "391a153b",
   "metadata": {},
   "outputs": [
    {
     "data": {
      "text/plain": [
       "array(['1.5', '0.62', '2', '3.14', '3.141592'], dtype='<U8')"
      ]
     },
     "execution_count": 71,
     "metadata": {},
     "output_type": "execute_result"
    }
   ],
   "source": [
    "str1 = np.array(['1.5','0.62','2','3.14','3.141592'])\n",
    "str1"
   ]
  },
  {
   "cell_type": "code",
   "execution_count": 72,
   "id": "b975126c",
   "metadata": {},
   "outputs": [
    {
     "data": {
      "text/plain": [
       "array([1.5     , 0.62    , 2.      , 3.14    , 3.141592])"
      ]
     },
     "execution_count": 72,
     "metadata": {},
     "output_type": "execute_result"
    }
   ],
   "source": [
    "num1 = str1.astype(float)\n",
    "num1"
   ]
  },
  {
   "cell_type": "markdown",
   "id": "d5b6ec5f",
   "metadata": {},
   "source": [
    "## 3) 실수형 배열 -> 정수형 배열"
   ]
  },
  {
   "cell_type": "code",
   "execution_count": 73,
   "id": "19fdc70c",
   "metadata": {},
   "outputs": [
    {
     "data": {
      "text/plain": [
       "array([10.   , 21.   ,  0.549,  4.75 ,  5.98 ])"
      ]
     },
     "execution_count": 73,
     "metadata": {},
     "output_type": "execute_result"
    }
   ],
   "source": [
    "numf = np.array([10,21,0.549,4.75,5.98])\n",
    "numf"
   ]
  },
  {
   "cell_type": "code",
   "execution_count": 74,
   "id": "f3f037d8",
   "metadata": {},
   "outputs": [
    {
     "data": {
      "text/plain": [
       "(array([10, 21,  0,  4,  5]), dtype('int64'))"
      ]
     },
     "execution_count": 74,
     "metadata": {},
     "output_type": "execute_result"
    }
   ],
   "source": [
    "numi = numf.astype(int)\n",
    "numi, numi.dtype"
   ]
  },
  {
   "cell_type": "markdown",
   "id": "ce2f6fec",
   "metadata": {},
   "source": [
    "## 4) 숫자형 배열 -> 문자형 배열"
   ]
  },
  {
   "cell_type": "code",
   "execution_count": 75,
   "id": "d230349b",
   "metadata": {},
   "outputs": [
    {
     "data": {
      "text/plain": [
       "array(['10.0', '21.0', '0.549', '4.75', '5.98'], dtype='<U32')"
      ]
     },
     "execution_count": 75,
     "metadata": {},
     "output_type": "execute_result"
    }
   ],
   "source": [
    "numf.astype('U')"
   ]
  },
  {
   "cell_type": "code",
   "execution_count": 76,
   "id": "5a30c530",
   "metadata": {},
   "outputs": [
    {
     "data": {
      "text/plain": [
       "array([b'10', b'21', b'0', b'4', b'5'], dtype='|S21')"
      ]
     },
     "execution_count": 76,
     "metadata": {},
     "output_type": "execute_result"
    }
   ],
   "source": [
    "numi.astype('S')"
   ]
  },
  {
   "cell_type": "markdown",
   "id": "e4ad9997",
   "metadata": {},
   "source": [
    "---\n",
    "# 6. 난수 배열"
   ]
  },
  {
   "cell_type": "markdown",
   "id": "5571979a",
   "metadata": {},
   "source": [
    "## 1) random.rand([d0, d1,...,dn])(실수)"
   ]
  },
  {
   "cell_type": "code",
   "execution_count": 77,
   "id": "e02d3e83",
   "metadata": {},
   "outputs": [
    {
     "data": {
      "text/plain": [
       "array([7.22284553e-01, 4.76956410e-02, 3.23495390e-01, 7.07763924e-01,\n",
       "       7.03910905e-01, 1.02091887e-01, 4.94007189e-01, 7.21485140e-01,\n",
       "       4.50543753e-04, 7.21448684e-01])"
      ]
     },
     "execution_count": 77,
     "metadata": {},
     "output_type": "execute_result"
    }
   ],
   "source": [
    "np.random.rand(10)"
   ]
  },
  {
   "cell_type": "code",
   "execution_count": 78,
   "id": "d1a9a34e",
   "metadata": {
    "scrolled": true
   },
   "outputs": [
    {
     "data": {
      "text/plain": [
       "array([[0.72644158, 0.89030507, 0.57594377, 0.56526431, 0.34155381],\n",
       "       [0.71805501, 0.20973023, 0.36435134, 0.74938855, 0.19409927]])"
      ]
     },
     "execution_count": 78,
     "metadata": {},
     "output_type": "execute_result"
    }
   ],
   "source": [
    "np.random.rand(2,5)"
   ]
  },
  {
   "cell_type": "code",
   "execution_count": 79,
   "id": "e47d2e4f",
   "metadata": {
    "scrolled": true
   },
   "outputs": [
    {
     "data": {
      "text/plain": [
       "array([[[0.83900541, 0.46164257, 0.97289911, 0.48929248],\n",
       "        [0.36891446, 0.54639295, 0.35612914, 0.16077698],\n",
       "        [0.46522856, 0.52948483, 0.29653611, 0.57831003]],\n",
       "\n",
       "       [[0.36226732, 0.86163887, 0.15114247, 0.67173504],\n",
       "        [0.34068759, 0.60180207, 0.91637989, 0.10213508],\n",
       "        [0.73949309, 0.73381806, 0.52760215, 0.82976519]]])"
      ]
     },
     "execution_count": 79,
     "metadata": {},
     "output_type": "execute_result"
    }
   ],
   "source": [
    "np.random.rand(2,3,4)"
   ]
  },
  {
   "cell_type": "code",
   "execution_count": 80,
   "id": "ac9eae9d",
   "metadata": {},
   "outputs": [
    {
     "data": {
      "text/plain": [
       "array([[[[0.2205113 , 0.29568044, 0.28910466, 0.05402562, 0.57859783],\n",
       "         [0.424811  , 0.41063803, 0.42164402, 0.02734786, 0.44007326],\n",
       "         [0.47761605, 0.2739387 , 0.13757604, 0.56964941, 0.73843779],\n",
       "         [0.42830519, 0.64735679, 0.64813313, 0.35463407, 0.10841718]],\n",
       "\n",
       "        [[0.00924213, 0.79198991, 0.0342641 , 0.89225064, 0.65988282],\n",
       "         [0.16123248, 0.47213816, 0.51580081, 0.75682897, 0.64853354],\n",
       "         [0.43144296, 0.89456342, 0.03863735, 0.60314367, 0.31350714],\n",
       "         [0.2447092 , 0.1997654 , 0.78873833, 0.92091016, 0.49069295]],\n",
       "\n",
       "        [[0.21711752, 0.93916994, 0.76580012, 0.83770506, 0.6184003 ],\n",
       "         [0.20388486, 0.63319047, 0.22759396, 0.98053289, 0.8221736 ],\n",
       "         [0.64886957, 0.21771402, 0.86552432, 0.29640234, 0.95048144],\n",
       "         [0.6436856 , 0.95765039, 0.7034945 , 0.21850192, 0.20000586]]],\n",
       "\n",
       "\n",
       "       [[[0.09692214, 0.63178621, 0.84353004, 0.07388363, 0.01701406],\n",
       "         [0.24845584, 0.45174564, 0.35856256, 0.18654354, 0.71306827],\n",
       "         [0.10927345, 0.43878663, 0.38223462, 0.24839079, 0.57791935],\n",
       "         [0.42010641, 0.41770943, 0.24884056, 0.59441191, 0.99075713]],\n",
       "\n",
       "        [[0.1640641 , 0.28439928, 0.5154264 , 0.22468569, 0.47408943],\n",
       "         [0.87060198, 0.74704493, 0.88135333, 0.49447038, 0.28628949],\n",
       "         [0.76245667, 0.36601106, 0.91157419, 0.46932404, 0.89847107],\n",
       "         [0.31648561, 0.70168991, 0.35557509, 0.08300427, 0.75218813]],\n",
       "\n",
       "        [[0.33534844, 0.69793365, 0.38856307, 0.46197183, 0.67001017],\n",
       "         [0.48654365, 0.3245816 , 0.24573776, 0.90565995, 0.90686698],\n",
       "         [0.18824791, 0.42389967, 0.63753655, 0.64847536, 0.72634221],\n",
       "         [0.34517767, 0.23549201, 0.03900326, 0.10403088, 0.04687319]]]])"
      ]
     },
     "execution_count": 80,
     "metadata": {},
     "output_type": "execute_result"
    }
   ],
   "source": [
    "np.random.rand(2,3,4,5)"
   ]
  },
  {
   "cell_type": "markdown",
   "id": "9dc092fc",
   "metadata": {},
   "source": [
    "## 2) random.randint([low,] high [,size])(정수)"
   ]
  },
  {
   "cell_type": "code",
   "execution_count": 81,
   "id": "2b3fa5c2",
   "metadata": {},
   "outputs": [
    {
     "data": {
      "text/plain": [
       "1"
      ]
     },
     "execution_count": 81,
     "metadata": {},
     "output_type": "execute_result"
    }
   ],
   "source": [
    "np.random.randint(10)"
   ]
  },
  {
   "cell_type": "code",
   "execution_count": 82,
   "id": "1798ca29",
   "metadata": {},
   "outputs": [
    {
     "data": {
      "text/plain": [
       "18"
      ]
     },
     "execution_count": 82,
     "metadata": {},
     "output_type": "execute_result"
    }
   ],
   "source": [
    "np.random.randint(10,20)"
   ]
  },
  {
   "cell_type": "code",
   "execution_count": 83,
   "id": "fca78b37",
   "metadata": {},
   "outputs": [
    {
     "data": {
      "text/plain": [
       "array([13, 13, 14])"
      ]
     },
     "execution_count": 83,
     "metadata": {},
     "output_type": "execute_result"
    }
   ],
   "source": [
    "np.random.randint(10,20,size=(3))"
   ]
  },
  {
   "cell_type": "code",
   "execution_count": 84,
   "id": "dbac10bb",
   "metadata": {},
   "outputs": [
    {
     "data": {
      "text/plain": [
       "array([9, 1, 9, 6, 4, 6, 3, 9, 9])"
      ]
     },
     "execution_count": 84,
     "metadata": {},
     "output_type": "execute_result"
    }
   ],
   "source": [
    "np.random.randint(1,10,size=9)"
   ]
  }
 ],
 "metadata": {
  "kernelspec": {
   "display_name": "Python 3 (ipykernel)",
   "language": "python",
   "name": "python3"
  },
  "language_info": {
   "codemirror_mode": {
    "name": "ipython",
    "version": 3
   },
   "file_extension": ".py",
   "mimetype": "text/x-python",
   "name": "python",
   "nbconvert_exporter": "python",
   "pygments_lexer": "ipython3",
   "version": "3.9.7"
  }
 },
 "nbformat": 4,
 "nbformat_minor": 5
}
