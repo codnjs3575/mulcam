{
 "cells": [
  {
   "cell_type": "markdown",
   "id": "3813d282",
   "metadata": {},
   "source": [
    "**<탐색적 데이터 분석 (EDA)>**\n",
    "- Exploring Data Analysis"
   ]
  },
  {
   "cell_type": "code",
   "execution_count": 63,
   "id": "ab158bad",
   "metadata": {},
   "outputs": [
    {
     "data": {
      "text/plain": [
       "'%.3f'"
      ]
     },
     "execution_count": 63,
     "metadata": {},
     "output_type": "execute_result"
    }
   ],
   "source": [
    "import numpy as np\n",
    "import pandas as pd\n",
    "import math\n",
    "from scipy.stats import *\n",
    "import scipy as sp\n",
    "import matplotlib.pyplot as plt\n",
    "\n",
    "# Jupyter Notebook의 출력을 소수점 이하 3자리로 제한\n",
    "%precision 3\n",
    "\n",
    "# Dataframe의 출력을 소수점 이하 3자리로 제한\n",
    "pd.set_option('precision', 3)"
   ]
  },
  {
   "cell_type": "code",
   "execution_count": 25,
   "id": "a5624a88",
   "metadata": {},
   "outputs": [],
   "source": [
    "# 여러 변수 출력 코드\n",
    "from IPython.core.interactiveshell import InteractiveShell\n",
    "InteractiveShell.ast_node_interactivity=\"all\""
   ]
  },
  {
   "cell_type": "markdown",
   "id": "2076e771",
   "metadata": {},
   "source": [
    "# SECTION 2.1 데이터 중심의 지표 (기술통계량)\n",
    "## 평균값\n",
    "### 산술 평균"
   ]
  },
  {
   "cell_type": "code",
   "execution_count": 1,
   "id": "e2040d4b",
   "metadata": {},
   "outputs": [],
   "source": [
    "x = [1,2,3,4,5]"
   ]
  },
  {
   "cell_type": "code",
   "execution_count": 6,
   "id": "07472a2f",
   "metadata": {
    "scrolled": true
   },
   "outputs": [
    {
     "data": {
      "text/plain": [
       "3.0"
      ]
     },
     "execution_count": 6,
     "metadata": {},
     "output_type": "execute_result"
    },
    {
     "data": {
      "text/plain": [
       "3.0"
      ]
     },
     "execution_count": 6,
     "metadata": {},
     "output_type": "execute_result"
    },
    {
     "data": {
      "text/plain": [
       "3.000"
      ]
     },
     "execution_count": 6,
     "metadata": {},
     "output_type": "execute_result"
    }
   ],
   "source": [
    "np.mean(x)\n",
    "np.array(x).mean()\n",
    "pd.Series(x).mean()"
   ]
  },
  {
   "cell_type": "code",
   "execution_count": 34,
   "id": "5ab9a7d3",
   "metadata": {
    "scrolled": true
   },
   "outputs": [
    {
     "data": {
      "text/html": [
       "<div>\n",
       "<style scoped>\n",
       "    .dataframe tbody tr th:only-of-type {\n",
       "        vertical-align: middle;\n",
       "    }\n",
       "\n",
       "    .dataframe tbody tr th {\n",
       "        vertical-align: top;\n",
       "    }\n",
       "\n",
       "    .dataframe thead th {\n",
       "        text-align: right;\n",
       "    }\n",
       "</style>\n",
       "<table border=\"1\" class=\"dataframe\">\n",
       "  <thead>\n",
       "    <tr style=\"text-align: right;\">\n",
       "      <th></th>\n",
       "      <th>english</th>\n",
       "      <th>mathematics</th>\n",
       "    </tr>\n",
       "    <tr>\n",
       "      <th>student number</th>\n",
       "      <th></th>\n",
       "      <th></th>\n",
       "    </tr>\n",
       "  </thead>\n",
       "  <tbody>\n",
       "    <tr>\n",
       "      <th>1</th>\n",
       "      <td>42</td>\n",
       "      <td>65</td>\n",
       "    </tr>\n",
       "    <tr>\n",
       "      <th>2</th>\n",
       "      <td>69</td>\n",
       "      <td>80</td>\n",
       "    </tr>\n",
       "    <tr>\n",
       "      <th>3</th>\n",
       "      <td>56</td>\n",
       "      <td>63</td>\n",
       "    </tr>\n",
       "    <tr>\n",
       "      <th>4</th>\n",
       "      <td>41</td>\n",
       "      <td>63</td>\n",
       "    </tr>\n",
       "    <tr>\n",
       "      <th>5</th>\n",
       "      <td>57</td>\n",
       "      <td>76</td>\n",
       "    </tr>\n",
       "  </tbody>\n",
       "</table>\n",
       "</div>"
      ],
      "text/plain": [
       "                english  mathematics\n",
       "student number                      \n",
       "1                    42           65\n",
       "2                    69           80\n",
       "3                    56           63\n",
       "4                    41           63\n",
       "5                    57           76"
      ]
     },
     "execution_count": 34,
     "metadata": {},
     "output_type": "execute_result"
    },
    {
     "data": {
      "text/plain": [
       "(50, 2)"
      ]
     },
     "execution_count": 34,
     "metadata": {},
     "output_type": "execute_result"
    },
    {
     "data": {
      "text/plain": [
       "58.380"
      ]
     },
     "execution_count": 34,
     "metadata": {},
     "output_type": "execute_result"
    },
    {
     "data": {
      "text/plain": [
       "58.380"
      ]
     },
     "execution_count": 34,
     "metadata": {},
     "output_type": "execute_result"
    },
    {
     "data": {
      "text/plain": [
       "58.380"
      ]
     },
     "execution_count": 34,
     "metadata": {},
     "output_type": "execute_result"
    },
    {
     "name": "stderr",
     "output_type": "stream",
     "text": [
      "/var/folders/qk/0ttws_bs3s1fydtrkp_804nc0000gn/T/ipykernel_40641/1842131238.py:17: DeprecationWarning: scipy.mean is deprecated and will be removed in SciPy 2.0.0, use numpy.mean instead\n",
      "  sp.mean(df['english'])\n"
     ]
    },
    {
     "data": {
      "text/plain": [
       "58.380"
      ]
     },
     "execution_count": 34,
     "metadata": {},
     "output_type": "execute_result"
    }
   ],
   "source": [
    "# 교재 p.31\n",
    "df = pd.read_csv('./data/ch2_scores_em.csv',\n",
    "                index_col='student number')\n",
    "df.head()\n",
    "df.shape\n",
    "# ---------영어 과목의 평균 계산---------\n",
    "# 1. sum(),len() 함수를 이용하여 산술평균 계산\n",
    "sum(df['english'])/len(df['english'])\n",
    "\n",
    "# 2. numpy의 mean() 함수를 이용하여 산술평균 계산\n",
    "np.mean(df['english'])\n",
    "\n",
    "# 3. pandas의 데이터프레임에서 mean() 함수를 이용하여 산술평균 계산\n",
    "df['english'].mean()\n",
    "\n",
    "# 4. scipy의 mean() 함수를 이용하여 산술평균 계산\n",
    "sp.mean(df['english'])"
   ]
  },
  {
   "cell_type": "markdown",
   "id": "6350be65",
   "metadata": {},
   "source": [
    "### 기하 평균\n",
    "- n개의 양수 값을 모두 곱한 것의 n 제곱근\n",
    "- 성장률의 평균\n",
    "\n",
    "<img src='./image/1_00004.png' width='40%' align='left'>"
   ]
  },
  {
   "cell_type": "code",
   "execution_count": 16,
   "id": "e552e93e",
   "metadata": {},
   "outputs": [
    {
     "data": {
      "text/plain": [
       "433.3333333333333"
      ]
     },
     "execution_count": 16,
     "metadata": {},
     "output_type": "execute_result"
    },
    {
     "data": {
      "text/plain": [
       "363.424"
      ]
     },
     "execution_count": 16,
     "metadata": {},
     "output_type": "execute_result"
    },
    {
     "data": {
      "text/plain": [
       "363.42411856642775"
      ]
     },
     "execution_count": 16,
     "metadata": {},
     "output_type": "execute_result"
    }
   ],
   "source": [
    "## 예제. 회사의 연 평균 매출 증가율 1차년도에 200%, 2차년도에 800%, 3차년도에 300% 성장 -> 3개년도의 연 평균 성장율은?\n",
    "\n",
    "data = [200,800,300]\n",
    "\n",
    "## 1. 산술평균 이용 \n",
    "np.mean(data) # 433.33333 -> 맞지 않음\n",
    "\n",
    "## 2. 기하평균 이용 \n",
    "# 방법 1\n",
    "# math.prod(data) : data를 다 곱해줌\n",
    "math.prod(data) ** (1/len(data)) # 363.424\n",
    "\n",
    "# 방법 2\n",
    "# scipy.stats.gmean(a[,axis,dtype,weights]) 이용하여 기하 평균 계산\n",
    "gmean(data)"
   ]
  },
  {
   "cell_type": "markdown",
   "id": "52673017",
   "metadata": {},
   "source": [
    "### 조화 평균\n",
    "- 비율 및 변화율에 대한 평균 계산할 때 사용\n",
    "- (역수들의 산술평균)의 역수를 취한 값\n",
    "\n",
    "<img src='./image/1_00005.png' width='30%' align='left'>"
   ]
  },
  {
   "cell_type": "code",
   "execution_count": 17,
   "id": "6bdab44d",
   "metadata": {},
   "outputs": [],
   "source": [
    "## 예제. 100km 떨어진 도시까지 차로 다녀오면서 가는 길에는 시속 80km, 오는 길은 시속 120km로 달렸을 때 평균 속력은 얼마나 되는가?\n",
    "#       움직인 거리 : 200km, \n",
    "#       움직인 시간 : 100/80 + 100/120 \n"
   ]
  },
  {
   "cell_type": "markdown",
   "id": "0939640d",
   "metadata": {},
   "source": [
    "<img src='./image/1_00006.png' width='50%' align='left'>"
   ]
  },
  {
   "cell_type": "code",
   "execution_count": 19,
   "id": "be3d2efa",
   "metadata": {},
   "outputs": [
    {
     "data": {
      "text/plain": [
       "95.99999999999999"
      ]
     },
     "execution_count": 19,
     "metadata": {},
     "output_type": "execute_result"
    },
    {
     "data": {
      "text/plain": [
       "95.99999999999999"
      ]
     },
     "execution_count": 19,
     "metadata": {},
     "output_type": "execute_result"
    }
   ],
   "source": [
    "# 방법 1\n",
    "data = np.array([80,120])\n",
    "len(data) / np.sum(1/data) # 역수의 합을 분모, 총 길이(거리)를 분자\n",
    "\n",
    "# 방법 2\n",
    "# scipt.stat.hmean(a[,axis,dtype]) 이용하여 조화평균 계산\n",
    "hmean(data)"
   ]
  },
  {
   "cell_type": "markdown",
   "id": "dcc465cf",
   "metadata": {},
   "source": [
    "### 가중 평균\n",
    "- 가중치가 있는 값들의 평균"
   ]
  },
  {
   "cell_type": "code",
   "execution_count": 21,
   "id": "68556ef8",
   "metadata": {
    "scrolled": true
   },
   "outputs": [
    {
     "data": {
      "text/plain": [
       "5.5"
      ]
     },
     "execution_count": 21,
     "metadata": {},
     "output_type": "execute_result"
    },
    {
     "data": {
      "text/plain": [
       "4.0"
      ]
     },
     "execution_count": 21,
     "metadata": {},
     "output_type": "execute_result"
    }
   ],
   "source": [
    "# 1. 산술평균 이용\n",
    "np.average(np.arange(1,11)) # 5.5\n",
    "\n",
    "# 2. 가중치 부여한 가중 평균 이용\n",
    "np.average(np.arange(1,11), weights = np.arange(10,0,-1))"
   ]
  },
  {
   "cell_type": "markdown",
   "id": "439d14a4",
   "metadata": {},
   "source": [
    "## 중앙값\n",
    "- 중앙에 위치하는 값, 이상치에 영향을 받지 않음\n",
    "\n",
    "<img src='./image/1_00007.png' width='50%' align='left'>"
   ]
  },
  {
   "cell_type": "code",
   "execution_count": 22,
   "id": "ac57a3d1",
   "metadata": {},
   "outputs": [
    {
     "data": {
      "text/plain": [
       "array([42, 69, 56, 41, 57, 48, 65, 49, 65, 58, 70, 47, 51, 64, 62, 70, 71,\n",
       "       68, 73, 37, 65, 65, 61, 52, 57, 57, 75, 61, 47, 54, 66, 54, 54, 42,\n",
       "       37, 79, 56, 62, 62, 55, 63, 57, 57, 67, 55, 45, 66, 55, 64, 66])"
      ]
     },
     "execution_count": 22,
     "metadata": {},
     "output_type": "execute_result"
    }
   ],
   "source": [
    "# 1. 예제 데이터 생성\n",
    "scores = np.array(df['english'])\n",
    "scores"
   ]
  },
  {
   "cell_type": "code",
   "execution_count": 29,
   "id": "4059b2f6",
   "metadata": {},
   "outputs": [
    {
     "data": {
      "text/plain": [
       "array([37, 37, 41, 42, 42, 45, 47, 47, 48, 49, 51, 52, 54, 54, 54, 55, 55,\n",
       "       55, 56, 56, 57, 57, 57, 57, 57, 58, 61, 61, 62, 62, 62, 63, 64, 64,\n",
       "       65, 65, 65, 65, 66, 66, 66, 67, 68, 69, 70, 70, 71, 73, 75, 79])"
      ]
     },
     "execution_count": 29,
     "metadata": {},
     "output_type": "execute_result"
    },
    {
     "data": {
      "text/plain": [
       "50"
      ]
     },
     "execution_count": 29,
     "metadata": {},
     "output_type": "execute_result"
    }
   ],
   "source": [
    "# 2. 순서 통계량\n",
    "sorted_scores = np.sort(scores)\n",
    "sorted_scores\n",
    "n = len(sorted_scores)\n",
    "n"
   ]
  },
  {
   "cell_type": "code",
   "execution_count": 34,
   "id": "dbccd8be",
   "metadata": {},
   "outputs": [
    {
     "data": {
      "text/plain": [
       "(57, 58)"
      ]
     },
     "execution_count": 34,
     "metadata": {},
     "output_type": "execute_result"
    },
    {
     "data": {
      "text/plain": [
       "57.5"
      ]
     },
     "execution_count": 34,
     "metadata": {},
     "output_type": "execute_result"
    },
    {
     "data": {
      "text/plain": [
       "57.5"
      ]
     },
     "execution_count": 34,
     "metadata": {},
     "output_type": "execute_result"
    }
   ],
   "source": [
    "# 3. 중앙값 추출하기\n",
    "# 방법 1\n",
    "if n%2 == 0 :\n",
    "    x1 = sorted_scores[(n//2) - 1]\n",
    "    x2 = sorted_scores[(n//2)]\n",
    "    median = (x1 + x2) / 2\n",
    "    x1,x2 \n",
    "else :\n",
    "    median = sorted_scores[(n+1//2) - 1]\n",
    "median\n",
    "\n",
    "# 방법 2\n",
    "np.median(sorted_scores)"
   ]
  },
  {
   "cell_type": "markdown",
   "id": "eaa1c1ad",
   "metadata": {},
   "source": [
    "### +) 절사 평균\n",
    "- 평균의 장점 + 중앙값의 장점\n",
    "- 상위 절사비율(%)와 하위 절사비율(%)의 값을 배제하고 산술평균"
   ]
  },
  {
   "cell_type": "code",
   "execution_count": 36,
   "id": "3b971b9e",
   "metadata": {},
   "outputs": [
    {
     "data": {
      "text/plain": [
       "array([20894314.237, 20218254.925, 20048248.734, 19068253.648,\n",
       "       19861305.899, 19822620.51 , 19958629.259, 19686499.662,\n",
       "       19978090.916, 19761390.985])"
      ]
     },
     "execution_count": 36,
     "metadata": {},
     "output_type": "execute_result"
    },
    {
     "data": {
      "text/plain": [
       "19945681.462796967"
      ]
     },
     "execution_count": 36,
     "metadata": {},
     "output_type": "execute_result"
    },
    {
     "data": {
      "text/plain": [
       "29649189.567125708"
      ]
     },
     "execution_count": 36,
     "metadata": {},
     "output_type": "execute_result"
    },
    {
     "data": {
      "text/plain": [
       "19919743.318406537"
      ]
     },
     "execution_count": 36,
     "metadata": {},
     "output_type": "execute_result"
    },
    {
     "data": {
      "text/plain": [
       "19941471.081213262"
      ]
     },
     "execution_count": 36,
     "metadata": {},
     "output_type": "execute_result"
    }
   ],
   "source": [
    "## 예제\n",
    "# 1. 평균 2백만원, 표준편차 50만원인 정규분포를 따르는 소득 데이터 100개 생성\n",
    "np.random.seed(3)\n",
    "income = np.random.normal(20000000,500000,100) # 평균, 표준편차, 개수\n",
    "income[:10]\n",
    "\n",
    "# 2. 산술 평균 계산\n",
    "np.mean(income)\n",
    "\n",
    "# 3. 소득 10억인 사람 추가 후 산술 평균 계산 및 중앙값 추출\n",
    "income = np.append(income, 10**9)\n",
    "np.mean(income)\n",
    "np.median(income)\n",
    "\n",
    "# 4. 절사 평균 계산\n",
    "# scipy.stats.trim_mean(a, proportiontocut[,axis]) 이용\n",
    "trim_mean(income,0.2) # 절사비율 : 0.2"
   ]
  },
  {
   "cell_type": "markdown",
   "id": "153da93e",
   "metadata": {},
   "source": [
    "## 최빈값\n",
    "- 가장 많이 나타나는 값, 범주형 변수에 대해서만 적용\n",
    "- DataFrame, Series의 mode 메서드 사용"
   ]
  },
  {
   "cell_type": "code",
   "execution_count": 37,
   "id": "e0afa31e",
   "metadata": {},
   "outputs": [
    {
     "data": {
      "text/plain": [
       "array(['C', 'A', 'B', 'A', 'A', 'A', 'B', 'B', 'C', 'B'], dtype='<U1')"
      ]
     },
     "execution_count": 37,
     "metadata": {},
     "output_type": "execute_result"
    }
   ],
   "source": [
    "# 예제 데이터 생성\n",
    "np.random.seed(3)\n",
    "data = np.random.choice(['A','B','C'], 1000) # A,B,C 요소로 이뤄진 1000개의 데이터\n",
    "data[:10]"
   ]
  },
  {
   "cell_type": "code",
   "execution_count": 41,
   "id": "ee5a18c8",
   "metadata": {
    "scrolled": false
   },
   "outputs": [
    {
     "data": {
      "text/plain": [
       "ModeResult(mode=array(['A'], dtype='<U1'), count=array([350]))"
      ]
     },
     "execution_count": 41,
     "metadata": {},
     "output_type": "execute_result"
    },
    {
     "data": {
      "text/plain": [
       "array(['A'], dtype='<U1')"
      ]
     },
     "execution_count": 41,
     "metadata": {},
     "output_type": "execute_result"
    },
    {
     "data": {
      "text/plain": [
       "array([350])"
      ]
     },
     "execution_count": 41,
     "metadata": {},
     "output_type": "execute_result"
    },
    {
     "data": {
      "text/plain": [
       "A    350\n",
       "B    328\n",
       "C    322\n",
       "dtype: int64"
      ]
     },
     "execution_count": 41,
     "metadata": {},
     "output_type": "execute_result"
    },
    {
     "data": {
      "text/plain": [
       "'A'"
      ]
     },
     "execution_count": 41,
     "metadata": {},
     "output_type": "execute_result"
    },
    {
     "data": {
      "text/plain": [
       "350"
      ]
     },
     "execution_count": 41,
     "metadata": {},
     "output_type": "execute_result"
    }
   ],
   "source": [
    "# 방법 1\n",
    "# scipy.stats.mode(a[,axis,nan_policy]) 함수 이용\n",
    "mode(data) # 최빈값, 빈도\n",
    "mode(data).mode # 최빈값 \n",
    "mode(data).count # 빈도\n",
    "\n",
    "# 방법 2\n",
    "# pandas_Series의 value_counts()를 이용한 후 첫번째 결과가 최빈값\n",
    "pd.Series(data).value_counts()\n",
    "pd.Series(data).value_counts().index[0] # 최빈값 mode(data).mode\n",
    "pd.Series(data).value_counts()[0] # 빈도 mode(data).count"
   ]
  },
  {
   "cell_type": "markdown",
   "id": "c1a8991b",
   "metadata": {},
   "source": [
    "## + 최소값, 최대값"
   ]
  },
  {
   "cell_type": "code",
   "execution_count": 42,
   "id": "c3aa0cea",
   "metadata": {},
   "outputs": [
    {
     "data": {
      "text/plain": [
       "array([ 78.287, 119.947, 105.66 ,  69.874,  88.428, 133.029,  51.466,\n",
       "        91.422, 125.319,  82.665])"
      ]
     },
     "execution_count": 42,
     "metadata": {},
     "output_type": "execute_result"
    },
    {
     "data": {
      "text/plain": [
       "(35.37889984161376, 171.43158436052622)"
      ]
     },
     "execution_count": 42,
     "metadata": {},
     "output_type": "execute_result"
    },
    {
     "data": {
      "text/plain": [
       "35.37889984161376"
      ]
     },
     "execution_count": 42,
     "metadata": {},
     "output_type": "execute_result"
    },
    {
     "data": {
      "text/plain": [
       "171.43158436052622"
      ]
     },
     "execution_count": 42,
     "metadata": {},
     "output_type": "execute_result"
    }
   ],
   "source": [
    "# 예제 데이터 생성\n",
    "np.random.seed(123)\n",
    "data = np.random.normal(100, 20, size=1000) # 100, \n",
    "data[:10]\n",
    "\n",
    "# 방법 1. 데이터 정렬 후 인덱스를 활용한 최소값, 최대값 추출\n",
    "sorted(data)[0], sorted(data)[-1]\n",
    "\n",
    "# 방법 2. numpy의 min(), max() 함수 이용\n",
    "np.min(data)\n",
    "np.max(data)"
   ]
  },
  {
   "cell_type": "markdown",
   "id": "2c0d2d81",
   "metadata": {},
   "source": [
    "# SECTION 2.2 데이터의 산포도 지표 (변이통계량)\n",
    "- 데이터의 퍼짐 정도\n",
    "- 범위, 사분위간 범위, 표준편차, 분산, 변동계수 등"
   ]
  },
  {
   "cell_type": "code",
   "execution_count": 43,
   "id": "1c67093d",
   "metadata": {},
   "outputs": [],
   "source": [
    "import numpy as np\n",
    "# numpy float 출력옵션 변경\n",
    "# np.set_printoptions(precision=3)\n",
    "# np.set_printoptions(precision=20, suppress=True)\n",
    "# pd.options.display.float_format = '{:.2f}'.format\n",
    "np.set_printoptions(formatter={'float_kind': lambda x: \"{0:0.3f}\".format(x)})"
   ]
  },
  {
   "cell_type": "markdown",
   "id": "8c2c6e05",
   "metadata": {},
   "source": [
    "## 분산과 표준편차\n",
    "### 편차\n",
    "- 각 데이터가 평균으로부터 어느 정도 떨어져 있는가 ( xi - mean )\n",
    "- numpy의 브로드캐스트"
   ]
  },
  {
   "cell_type": "code",
   "execution_count": 58,
   "id": "9640e344",
   "metadata": {
    "scrolled": true
   },
   "outputs": [
    {
     "data": {
      "text/plain": [
       "array([-5.000, 5.000, 3.000, -1.000, -4.000, 1.000, 2.000, -2.000, -3.000,\n",
       "       4.000])"
      ]
     },
     "execution_count": 58,
     "metadata": {},
     "output_type": "execute_result"
    },
    {
     "data": {
      "text/plain": [
       "0.0"
      ]
     },
     "execution_count": 58,
     "metadata": {},
     "output_type": "execute_result"
    }
   ],
   "source": [
    "scores = [50,60,58,54,51,56,57,53,52,59]\n",
    "mean = np.mean(scores)\n",
    "deviation = scores - mean\n",
    "deviation\n",
    "np.mean(deviation) # 편차들의 합은 0"
   ]
  },
  {
   "cell_type": "markdown",
   "id": "98952ad5",
   "metadata": {},
   "source": [
    "### 분산\n",
    "- 평균을 중심으로 데이터가 퍼져있는 정도의 측도\n",
    "\n",
    "<img src='./image/2_00003.png' width='60%' align='left'>"
   ]
  },
  {
   "cell_type": "markdown",
   "id": "9113220e",
   "metadata": {},
   "source": [
    "**분산 계산 : var(a, ddof=0) 함수**\n",
    "- numpy.var(a[, axis, dtype, out, ddof, keepdims, where])\n",
    "- pandas.Series.var(axis=None, skipna=None, level=None, ddof=1, numeric_only=None, **kwargs)\n",
    "- ddof 인수: 델타 자유도\n",
    "    - ddof=0 : n개로 나눔 (Default) (표본분산)\n",
    "    - ddof=1 : n-1개로 나눔 (불편분산)"
   ]
  },
  {
   "cell_type": "code",
   "execution_count": 62,
   "id": "e30cfce6",
   "metadata": {
    "scrolled": true
   },
   "outputs": [
    {
     "data": {
      "text/plain": [
       "10.0"
      ]
     },
     "execution_count": 62,
     "metadata": {},
     "output_type": "execute_result"
    },
    {
     "data": {
      "text/plain": [
       "8.0"
      ]
     },
     "execution_count": 62,
     "metadata": {},
     "output_type": "execute_result"
    },
    {
     "data": {
      "text/plain": [
       "8.0"
      ]
     },
     "execution_count": 62,
     "metadata": {},
     "output_type": "execute_result"
    },
    {
     "data": {
      "text/plain": [
       "8.0"
      ]
     },
     "execution_count": 62,
     "metadata": {},
     "output_type": "execute_result"
    },
    {
     "data": {
      "text/plain": [
       "8.000"
      ]
     },
     "execution_count": 62,
     "metadata": {},
     "output_type": "execute_result"
    }
   ],
   "source": [
    "# 예제 데이터\n",
    "# x = [1,2,3,4,5]\n",
    "x = [1,3,5,7,9]\n",
    "\n",
    "# 1. ddof = 1 => n-1개로 나눔\n",
    "np.var(x, ddof=1)\n",
    "\n",
    "# 2. ddof = 0 => n개로 나눔\n",
    "np.var(x, ddof=0)\n",
    "np.var(x)\n",
    "np.array(x).var()\n",
    "pd.Series(x).var(ddof=0)"
   ]
  },
  {
   "cell_type": "markdown",
   "id": "17b7ef05",
   "metadata": {},
   "source": [
    "### 표준편차\n",
    "- 분산의 제곱근\n",
    "\n",
    "**표준편차 계산: std(a, ddof=0) 함수 사용**\n",
    "- 데이터의 단위와 동일하게 만듦\n",
    "    - 분산에서 제곱의 영향을 없앤 지표\n",
    "- 분산과 표준편차가 크면 클수록 산포가 크다\n",
    "\n",
    "- **numpy.std**(a[, axis, dtype, out, ddof, keepdims,where])\n",
    "- **pandas.Series.std**(axis=None, skipna=None, level=None, ddof=1, numeric_only=None, **kwargs)\n",
    "- ddof 인수 :\n",
    "    - 기본값은 0 => 모집단 분산\n",
    "    - 표본 분산의 경우 1로 설정\n",
    "    \n",
    "<img src='./image/2_00004.png' width='70%'>"
   ]
  },
  {
   "cell_type": "markdown",
   "id": "17c3e300",
   "metadata": {},
   "source": [
    "## 범위와 사분위 범위\n",
    "### 범위\n",
    "- 데이터의 최대값과 최솟값의 차이\n",
    "- 데이터가 퍼져있는 정도를 나타내는 가장 간단한 방법\n",
    "- 이상값에 영향 받음\n",
    "\n",
    "**범위(R) = 최댓값 - 최솟값**\n"
   ]
  },
  {
   "cell_type": "code",
   "execution_count": 15,
   "id": "63f1f2b4",
   "metadata": {},
   "outputs": [
    {
     "data": {
      "text/plain": [
       "array([ 78.287, 119.947, 105.66 ,  69.874,  88.428, 133.029,  51.466,\n",
       "        91.422, 125.319,  82.665])"
      ]
     },
     "execution_count": 15,
     "metadata": {},
     "output_type": "execute_result"
    }
   ],
   "source": [
    "## 1. 예제 데이터 생성\n",
    "np.random.seed(123)\n",
    "data = np.random.normal(100,20,size=1000) # 평균, 표준편차, 개수를 이용해 정규분포 생성\n",
    "data[:10]"
   ]
  },
  {
   "cell_type": "code",
   "execution_count": 16,
   "id": "c1f7c192",
   "metadata": {},
   "outputs": [
    {
     "data": {
      "text/plain": [
       "(171.43158436052622, 35.37889984161376)"
      ]
     },
     "execution_count": 16,
     "metadata": {},
     "output_type": "execute_result"
    },
    {
     "data": {
      "text/plain": [
       "136.05268451891246"
      ]
     },
     "execution_count": 16,
     "metadata": {},
     "output_type": "execute_result"
    },
    {
     "data": {
      "text/plain": [
       "136.05268451891246"
      ]
     },
     "execution_count": 16,
     "metadata": {},
     "output_type": "execute_result"
    }
   ],
   "source": [
    "## 2. 범위 계산  \n",
    "np.max(data), np.min(data)\n",
    "# 방법 1. 최댓값 - 최솟값\n",
    "np.max(data) - np.min(data)\n",
    "\n",
    "# 방법 2. numpy의 ptp(a[,axis,out,keepdims]) 함수 이용하여 범위 계산\n",
    "np.ptp(data)"
   ]
  },
  {
   "cell_type": "markdown",
   "id": "270081b1",
   "metadata": {},
   "source": [
    "### 중간 범위\n",
    "- 최댓값과 최솟값의 평균"
   ]
  },
  {
   "cell_type": "code",
   "execution_count": 17,
   "id": "416c5acd",
   "metadata": {},
   "outputs": [
    {
     "data": {
      "text/plain": [
       "103.40524210106999"
      ]
     },
     "execution_count": 17,
     "metadata": {},
     "output_type": "execute_result"
    }
   ],
   "source": [
    "## 중간 범위 계산\n",
    "(np.max(data)+np.min(data))/2"
   ]
  },
  {
   "cell_type": "markdown",
   "id": "ee195b90",
   "metadata": {},
   "source": [
    "### 사분위수와 백분위수\n",
    "#### 사분위수(Quartile)\n",
    "- 자료를 크기 순으로 늘어 놓은 수를 4등분한 뒤, 각각의 경계에 있는 수\n",
    "    - 제 1사분위수 (하사분위수,Q1) : (n+1)¼ = (n+1)25/100 번쩨 순위 값\n",
    "    - 제 2사분위수 (중위수,Q2) : ½ 번째 값\n",
    "    - 제 3사분위수 (상사분위수,Q3) : (n+1)¾ = (n+1)75/100 번째 순위 값\n",
    "    \n",
    "#### 백분위수(percentile)\n",
    "- 자료를 크기 순으로 늘어 놓은 수를 100등분한 뒤, 각각의 경계에 있는 수\n",
    "    - 제 25백분위수 : (n+1)¼ = (n+1)25/100 번쩨 순위 값\n",
    "    - 제 50백분위수 : ½ 번째 값\n",
    "    - 제 75백분위수 : (n+1)¾ = (n+1)75/100 번째 순위 값\n",
    "    \n",
    "    \n",
    "\n",
    "**numpy.percentile(a, q[,axis,out, ...]) 함수 이용하여 사분위수, 백분위수 계산**"
   ]
  },
  {
   "cell_type": "code",
   "execution_count": 18,
   "id": "a69912c0",
   "metadata": {
    "scrolled": true
   },
   "outputs": [
    {
     "data": {
      "text/plain": [
       "array([ 78.287, 119.947, 105.66 ,  69.874,  88.428, 133.029,  51.466,\n",
       "        91.422, 125.319,  82.665])"
      ]
     },
     "execution_count": 18,
     "metadata": {},
     "output_type": "execute_result"
    }
   ],
   "source": [
    "data[:10]"
   ]
  },
  {
   "cell_type": "code",
   "execution_count": 19,
   "id": "19dd7dfa",
   "metadata": {},
   "outputs": [
    {
     "data": {
      "text/plain": [
       "86.30886819268538"
      ]
     },
     "execution_count": 19,
     "metadata": {},
     "output_type": "execute_result"
    },
    {
     "data": {
      "text/plain": [
       "99.17628889574436"
      ]
     },
     "execution_count": 19,
     "metadata": {},
     "output_type": "execute_result"
    },
    {
     "data": {
      "text/plain": [
       "113.37731495435875"
      ]
     },
     "execution_count": 19,
     "metadata": {},
     "output_type": "execute_result"
    }
   ],
   "source": [
    "# 1. 제 1사분위수, 제 25백분위수\n",
    "np.percentile(data,25)\n",
    "\n",
    "# 2. 제 2사분위수, 제 50백분위수\n",
    "np.percentile(data,50)\n",
    "\n",
    "# 3. 제 3사분위수, 제 75백분위수\n",
    "np.percentile(data,75)"
   ]
  },
  {
   "cell_type": "markdown",
   "id": "3218bbd5",
   "metadata": {},
   "source": [
    "#### 사분위간 범위(interquartile range : IQR)\n",
    "- IQR = Q₃ - Q₁"
   ]
  },
  {
   "cell_type": "code",
   "execution_count": 22,
   "id": "be3b11be",
   "metadata": {},
   "outputs": [
    {
     "data": {
      "text/plain": [
       "27.06844676167337"
      ]
     },
     "execution_count": 22,
     "metadata": {},
     "output_type": "execute_result"
    },
    {
     "data": {
      "text/plain": [
       "27.06844676167337"
      ]
     },
     "execution_count": 22,
     "metadata": {},
     "output_type": "execute_result"
    }
   ],
   "source": [
    "## IQR 계산\n",
    "# 방법 1. numpy.quantile() 이용\n",
    "np.quantile(data,0.75) - np.quantile(data,0.25)\n",
    "\n",
    "# 방법 2. scipt.stats.iqr(x[,axis,rng,scale,nan_policy, ... ]) 이용\n",
    "iqr(data)"
   ]
  },
  {
   "cell_type": "markdown",
   "id": "e5ad1d00",
   "metadata": {},
   "source": [
    "#### 사분위수 편차\n",
    "- 범위(range)의 문제점을 보완한 척도 \n",
    "- 사분위간 범위(IQR)을 2로 나눈 값 즉, IQR의 평균\n",
    "\n",
    "<img src='./image/2_00002.png' width='70%'>"
   ]
  },
  {
   "cell_type": "code",
   "execution_count": 23,
   "id": "e04cd7b7",
   "metadata": {},
   "outputs": [
    {
     "data": {
      "text/plain": [
       "13.534223380836686"
      ]
     },
     "execution_count": 23,
     "metadata": {},
     "output_type": "execute_result"
    },
    {
     "data": {
      "text/plain": [
       "13.534223380836686"
      ]
     },
     "execution_count": 23,
     "metadata": {},
     "output_type": "execute_result"
    }
   ],
   "source": [
    "## 사분위수 편차 계산\n",
    "# 방법 1. numpy.quantile() 이용\n",
    "(np.quantile(data,0.75) - np.quantile(data,0.25)) / 2\n",
    "\n",
    "# 방법 2. scipt.stats.iqr(x[, axis, rng, scale, ana_policy, ...]) 이용\n",
    "iqr(data)/2"
   ]
  },
  {
   "cell_type": "markdown",
   "id": "682fce05",
   "metadata": {},
   "source": [
    "### 5가 통계량\n",
    "- 최소값, 제1사분위수, 중위수, 제3사분위수, 최대값\n",
    "- 상자-수렴그림(boxplot)"
   ]
  },
  {
   "cell_type": "code",
   "execution_count": 26,
   "id": "3e6a313f",
   "metadata": {},
   "outputs": [
    {
     "data": {
      "text/plain": [
       "{'whiskers': [<matplotlib.lines.Line2D at 0x7f7f7107af40>,\n",
       "  <matplotlib.lines.Line2D at 0x7f7f7107aa60>],\n",
       " 'caps': [<matplotlib.lines.Line2D at 0x7f7f7107a640>,\n",
       "  <matplotlib.lines.Line2D at 0x7f7f438dcbb0>],\n",
       " 'boxes': [<matplotlib.lines.Line2D at 0x7f7f7107a190>],\n",
       " 'medians': [<matplotlib.lines.Line2D at 0x7f7f438dcd60>],\n",
       " 'fliers': [<matplotlib.lines.Line2D at 0x7f7f438dcd90>],\n",
       " 'means': []}"
      ]
     },
     "execution_count": 26,
     "metadata": {},
     "output_type": "execute_result"
    },
    {
     "data": {
      "image/png": "[encoded data removed]",
      "text/plain": [
       "<Figure size 432x288 with 1 Axes>"
      ]
     },
     "metadata": {
      "needs_background": "light"
     },
     "output_type": "display_data"
    }
   ],
   "source": [
    "plt.boxplot(data)"
   ]
  },
  {
   "cell_type": "markdown",
   "id": "f392124f",
   "metadata": {},
   "source": [
    "### 변동계수(CV : Coefficient of Variable)\n",
    "- 표본 표준편차를 표본평균으로 나눈 값 또는 그 값에 100을 곱한 값\n",
    "- **상대표준편차**\n",
    "- 서로 다른 평균/표준편차를 갖는 여러 데이터의 **흩어진 정도**를 비교할 때 사용\n",
    "    - ex) 1억 중 만원 vs 10만원 중 만원\n",
    "    - ex) A집단의 표준편차 = 2kg, B집단의 표준편차 = 3cm 누가 더 중심에 몰려 있나?"
   ]
  },
  {
   "cell_type": "markdown",
   "id": "dcef63e7",
   "metadata": {},
   "source": [
    "- 변동계수 값이 크다 => 흩어진 정도가 상대적으로 크다!\n",
    "\n",
    "    |  구분  |          몸무게(kg)         | 평균 | 표준편차 | 변동계수 |\n",
    "    |:------:|:---------------------------:|:----:|:--------:|:--------:|\n",
    "    | 신생아 | 2.4 / 2.9 / 2.1 / 4.2 / 4.5 | 3.22 |   1.08   |    33    |\n",
    "    |  성인  |  67.2 / 73 / 69 / 64 / 62.4 | 67.1 |   4.19   |     6    |\n",
    "    "
   ]
  },
  {
   "cell_type": "markdown",
   "id": "1a49d7db",
   "metadata": {},
   "source": [
    "- 변동계수 계산\n",
    "    - scipy.stats.variation(a, axis=0, nan_policy='propagate', ddof=0, *, keepdims=False)\n",
    "    - np.std(x, axis=axis, ddof=ddof) / np.mean(x)"
   ]
  },
  {
   "cell_type": "code",
   "execution_count": 58,
   "id": "45cea9c8",
   "metadata": {},
   "outputs": [
    {
     "name": "stdout",
     "output_type": "stream",
     "text": [
      "----평균----\n"
     ]
    },
    {
     "data": {
      "text/plain": [
       "72.0"
      ]
     },
     "execution_count": 58,
     "metadata": {},
     "output_type": "execute_result"
    },
    {
     "data": {
      "text/plain": [
       "49.0"
      ]
     },
     "execution_count": 58,
     "metadata": {},
     "output_type": "execute_result"
    },
    {
     "name": "stdout",
     "output_type": "stream",
     "text": [
      "--표본 표준편차--\n"
     ]
    },
    {
     "data": {
      "text/plain": [
       "4.242640687119285"
      ]
     },
     "execution_count": 58,
     "metadata": {},
     "output_type": "execute_result"
    },
    {
     "data": {
      "text/plain": [
       "3.22490309931942"
      ]
     },
     "execution_count": 58,
     "metadata": {},
     "output_type": "execute_result"
    },
    {
     "name": "stdout",
     "output_type": "stream",
     "text": [
      "변동계수(남자) 0.05892556509887895\n",
      "변동계수(여자) 0.06581434896570246\n",
      "변동계수(남자) 0.05892556509887895\n",
      "변동계수(여자) 0.06581434896570246\n"
     ]
    }
   ],
   "source": [
    "### 예제 1 남녀의 몸무게 변동계수 비교\n",
    "## 1. 예제 데이터 생성 및 평균/표준편차 확인\n",
    "men = [72,74,77,68,66,75]\n",
    "women = [45,48,52,53,46,50]\n",
    "\n",
    "print('----평균----')\n",
    "np.mean(men)\n",
    "np.mean(women)\n",
    "print('--표본 표준편차--')\n",
    "np.std(men, ddof=1)\n",
    "np.std(women, ddof=1)\n",
    "\n",
    "## 2. 변동계수 계산\n",
    "# 방법 1. np.std(x, axis=axis, ddof=ddof) / np.mean(x) 이용\n",
    "# 표준편차 / 평균 직접 계산\n",
    "print('변동계수(남자)', np.std(men, ddof=1) /np.mean(men))\n",
    "print('변동계수(여자)', np.std(women, ddof=1) /np.mean(women))\n",
    "\n",
    "# 방법 2. #scipy.stats.variation(a, axis=0, nan_policy='propagate', ddof=0, *, keepdims=False))\n",
    "print('변동계수(남자)',variation(men, ddof=1))\n",
    "print('변동계수(여자)',variation(women, ddof=1))\n"
   ]
  },
  {
   "cell_type": "code",
   "execution_count": 61,
   "id": "e6f70f09",
   "metadata": {},
   "outputs": [
    {
     "name": "stdout",
     "output_type": "stream",
     "text": [
      "----평균----\n"
     ]
    },
    {
     "data": {
      "text/plain": [
       "3.22"
      ]
     },
     "execution_count": 61,
     "metadata": {},
     "output_type": "execute_result"
    },
    {
     "data": {
      "text/plain": [
       "67.11999999999999"
      ]
     },
     "execution_count": 61,
     "metadata": {},
     "output_type": "execute_result"
    },
    {
     "name": "stdout",
     "output_type": "stream",
     "text": [
      "--표본 표준편차--\n"
     ]
    },
    {
     "data": {
      "text/plain": [
       "1.0756393447619885"
      ]
     },
     "execution_count": 61,
     "metadata": {},
     "output_type": "execute_result"
    },
    {
     "data": {
      "text/plain": [
       "4.187123117368296"
      ]
     },
     "execution_count": 61,
     "metadata": {},
     "output_type": "execute_result"
    },
    {
     "name": "stdout",
     "output_type": "stream",
     "text": [
      "변동계수(남자) 33.40494859509281\n",
      "변동계수(여자) 6.238264477604734\n",
      "변동계수(남자) 33.40494859509281\n",
      "변동계수(여자) 6.238264477604734\n"
     ]
    }
   ],
   "source": [
    "### 예제 2 신생아와 성인의 몸무게 변동계수 비교\n",
    "## 1. 예제 데이터 생성 및 평균/표준편차 확인\n",
    "baby_w = [2.4, 2.9, 2.1, 4.2, 4.5]\n",
    "adult_w = [67.2, 73, 69, 64, 62.4]\n",
    "\n",
    "print('----평균----')\n",
    "np.mean(baby_w)\n",
    "np.mean(adult_w)\n",
    "print('--표본 표준편차--')\n",
    "np.std(baby_w, ddof=1)\n",
    "np.std(adult_w, ddof=1)\n",
    "\n",
    "## 2. 변동계수 계산\n",
    "# 방법 1. np.std(x, axis=axis, ddof=ddof) / np.mean(x) 이용\n",
    "# 표준편차 / 평균 직접 계산\n",
    "print('변동계수(남자)', np.std(baby_w, ddof=1) /np.mean(baby_w) * 100)\n",
    "print('변동계수(여자)', np.std(adult_w, ddof=1) /np.mean(adult_w) * 100)\n",
    "\n",
    "# 방법 2. #scipy.stats.variation(a, axis=0, nan_policy='propagate', ddof=0, *, keepdims=False))\n",
    "print('변동계수(남자)',variation(baby_w, ddof=1) * 100)\n",
    "print('변동계수(여자)',variation(adult_w, ddof=1) * 100)"
   ]
  },
  {
   "cell_type": "markdown",
   "id": "5e9a8c7f",
   "metadata": {},
   "source": [
    "## 데이터의 지표 정리\n",
    "- 관측값수, 범위, 평균, 분산, 왜도, 첨도 계산\n",
    "\n",
    "\n",
    "- **pandas.Series.describe(percentiles=None, include=None, exclude=None, datatime_is_numeric=False)**\n",
    "- **pandas.DataFrame.describe(percentiles=None, include=None, exclude=None, datatime_is_numeric=False)**\n",
    "- **scipy.stats.descirbe(a[,axis,ddof=1,bias,nan_policy])**"
   ]
  },
  {
   "cell_type": "code",
   "execution_count": 27,
   "id": "2e000ca7",
   "metadata": {},
   "outputs": [
    {
     "data": {
      "text/plain": [
       "array([ 78.287, 119.947, 105.66 ,  69.874,  88.428, 133.029,  51.466,\n",
       "        91.422, 125.319,  82.665])"
      ]
     },
     "execution_count": 27,
     "metadata": {},
     "output_type": "execute_result"
    }
   ],
   "source": [
    "data[:10]"
   ]
  },
  {
   "cell_type": "code",
   "execution_count": 36,
   "id": "1272b4cb",
   "metadata": {},
   "outputs": [],
   "source": [
    "df = pd.read_csv('./data/ch2_scores_em.csv',\n",
    "                index_col = 'student number')"
   ]
  },
  {
   "cell_type": "code",
   "execution_count": 55,
   "id": "fb31da6a",
   "metadata": {},
   "outputs": [
    {
     "name": "stdout",
     "output_type": "stream",
     "text": [
      "---pandas.Series.describe()---\n",
      "describe(data) : DescribeResult(nobs=1000, minmax=(35.37889984161376, 171.43158436052622), mean=99.20871727838417, variance=401.03130940853094, skewness=-0.029040113501245676, kurtosis=-0.02543852877769215)\n",
      "\n",
      "\n",
      "describe(df[\"english\"]) : DescribeResult(nobs=50, minmax=(37, 79), mean=58.38, variance=96.03632653061224, skewness=-0.3167932532496243, kurtosis=-0.38870454364589113)\n",
      "\n",
      "---pandas.DataFrame.describe()---\n"
     ]
    },
    {
     "data": {
      "text/plain": [
       "count    50.00\n",
       "mean     58.38\n",
       "std       9.80\n",
       "min      37.00\n",
       "25%      54.00\n",
       "50%      57.50\n",
       "75%      65.00\n",
       "max      79.00\n",
       "Name: english, dtype: float64"
      ]
     },
     "execution_count": 55,
     "metadata": {},
     "output_type": "execute_result"
    },
    {
     "data": {
      "text/plain": [
       "count    50.00\n",
       "mean     58.38\n",
       "std       9.80\n",
       "min      37.00\n",
       "25%      54.00\n",
       "50%      57.50\n",
       "75%      65.00\n",
       "max      79.00\n",
       "Name: english, dtype: float64"
      ]
     },
     "execution_count": 55,
     "metadata": {},
     "output_type": "execute_result"
    },
    {
     "name": "stdout",
     "output_type": "stream",
     "text": [
      "---scipy.stats.describe()---\n"
     ]
    },
    {
     "data": {
      "text/plain": [
       "DescribeResult(nobs=50, minmax=(37, 79), mean=58.38, variance=94.1156, skewness=-0.3167932532496243, kurtosis=-0.38870454364589113)"
      ]
     },
     "execution_count": 55,
     "metadata": {},
     "output_type": "execute_result"
    }
   ],
   "source": [
    "# 방법 1. pd.Series.describe()\n",
    "print('---pandas.Series.describe()---')\n",
    "print(f'describe(data) : {describe(data)}')\n",
    "print()\n",
    "print()\n",
    "print(f'describe(df[\"english\"]) : {describe(df[\"english\"])}')\n",
    "print()\n",
    "\n",
    "\n",
    "# 방법 2. pandas.DataFrame.describe()\n",
    "print('---pandas.DataFrame.describe()---')\n",
    "pd.DataFrame.describe(df['english'])\n",
    "df['english'].describe()\n",
    "\n",
    "\n",
    "# 방법 3.scipy.stats.descirbe()\n",
    "print('---scipy.stats.describe()---')\n",
    "sp.stats.describe(df['english'], ddof=0) # ddof = 0 : 모집단 데이터에 대한 기술통계량\n",
    "\n",
    "\n",
    "# nobs : 관측치의 수\n",
    "# minmax : 최소값, 최대값\n",
    "# mean : 평균\n",
    "# variance : 분산\n",
    "# skewness : 왜도\n",
    "# kurtosis : 첨도"
   ]
  },
  {
   "cell_type": "markdown",
   "id": "f7f20884",
   "metadata": {},
   "source": [
    "# SECTION 2.3 데이터의 정규화"
   ]
  },
  {
   "cell_type": "code",
   "execution_count": null,
   "id": "71323402",
   "metadata": {},
   "outputs": [],
   "source": []
  },
  {
   "cell_type": "code",
   "execution_count": null,
   "id": "1dcf963e",
   "metadata": {},
   "outputs": [],
   "source": []
  },
  {
   "cell_type": "code",
   "execution_count": null,
   "id": "cedefe47",
   "metadata": {},
   "outputs": [],
   "source": []
  },
  {
   "cell_type": "code",
   "execution_count": null,
   "id": "ef570f89",
   "metadata": {},
   "outputs": [],
   "source": []
  }
 ],
 "metadata": {
  "kernelspec": {
   "display_name": "Python 3 (ipykernel)",
   "language": "python",
   "name": "python3"
  },
  "language_info": {
   "codemirror_mode": {
    "name": "ipython",
    "version": 3
   },
   "file_extension": ".py",
   "mimetype": "text/x-python",
   "name": "python",
   "nbconvert_exporter": "python",
   "pygments_lexer": "ipython3",
   "version": "3.9.7"
  },
  "toc": {
   "base_numbering": 1,
   "nav_menu": {},
   "number_sections": true,
   "sideBar": true,
   "skip_h1_title": false,
   "title_cell": "Table of Contents",
   "title_sidebar": "Contents",
   "toc_cell": false,
   "toc_position": {
    "height": "695.556px",
    "left": "29px",
    "top": "53.994px",
    "width": "320px"
   },
   "toc_section_display": true,
   "toc_window_display": true
  }
 },
 "nbformat": 4,
 "nbformat_minor": 5
}
