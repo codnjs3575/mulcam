{
 "cells": [
  {
   "cell_type": "code",
   "execution_count": 1,
   "id": "54c3cf0c",
   "metadata": {},
   "outputs": [],
   "source": [
    "import numpy as np\n",
    "import pandas as pd\n",
    "import math\n",
    "from scipy.stats import *\n",
    "import scipy as sp\n",
    "import matplotlib.pyplot as plt\n",
    "\n",
    "# 그래프가 Jupyter notebook 위에 표시\n",
    "%matplotlib inline\n",
    "# Jupyter Notebook의 출력을 소수점 이하 3자리로 제한\n",
    "%precision 3\n",
    "\n",
    "# Dataframe의 출력을 소수점 이하 3자리로 제한\n",
    "pd.set_option('precision', 3)"
   ]
  },
  {
   "cell_type": "code",
   "execution_count": 2,
   "id": "6c128420",
   "metadata": {},
   "outputs": [],
   "source": [
    "# 여러 변수 출력 코드\n",
    "from IPython.core.interactiveshell import InteractiveShell\n",
    "InteractiveShell.ast_node_interactivity=\"all\""
   ]
  },
  {
   "cell_type": "code",
   "execution_count": 3,
   "id": "adb859f9",
   "metadata": {},
   "outputs": [
    {
     "data": {
      "text/html": [
       "<div>\n",
       "<style scoped>\n",
       "    .dataframe tbody tr th:only-of-type {\n",
       "        vertical-align: middle;\n",
       "    }\n",
       "\n",
       "    .dataframe tbody tr th {\n",
       "        vertical-align: top;\n",
       "    }\n",
       "\n",
       "    .dataframe thead th {\n",
       "        text-align: right;\n",
       "    }\n",
       "</style>\n",
       "<table border=\"1\" class=\"dataframe\">\n",
       "  <thead>\n",
       "    <tr style=\"text-align: right;\">\n",
       "      <th></th>\n",
       "      <th>english</th>\n",
       "      <th>mathematics</th>\n",
       "    </tr>\n",
       "    <tr>\n",
       "      <th>student</th>\n",
       "      <th></th>\n",
       "      <th></th>\n",
       "    </tr>\n",
       "  </thead>\n",
       "  <tbody>\n",
       "    <tr>\n",
       "      <th>A</th>\n",
       "      <td>42</td>\n",
       "      <td>65</td>\n",
       "    </tr>\n",
       "    <tr>\n",
       "      <th>B</th>\n",
       "      <td>69</td>\n",
       "      <td>80</td>\n",
       "    </tr>\n",
       "    <tr>\n",
       "      <th>C</th>\n",
       "      <td>56</td>\n",
       "      <td>63</td>\n",
       "    </tr>\n",
       "    <tr>\n",
       "      <th>D</th>\n",
       "      <td>41</td>\n",
       "      <td>63</td>\n",
       "    </tr>\n",
       "    <tr>\n",
       "      <th>E</th>\n",
       "      <td>57</td>\n",
       "      <td>76</td>\n",
       "    </tr>\n",
       "    <tr>\n",
       "      <th>F</th>\n",
       "      <td>48</td>\n",
       "      <td>60</td>\n",
       "    </tr>\n",
       "    <tr>\n",
       "      <th>G</th>\n",
       "      <td>65</td>\n",
       "      <td>81</td>\n",
       "    </tr>\n",
       "    <tr>\n",
       "      <th>H</th>\n",
       "      <td>49</td>\n",
       "      <td>66</td>\n",
       "    </tr>\n",
       "    <tr>\n",
       "      <th>I</th>\n",
       "      <td>65</td>\n",
       "      <td>78</td>\n",
       "    </tr>\n",
       "    <tr>\n",
       "      <th>J</th>\n",
       "      <td>58</td>\n",
       "      <td>82</td>\n",
       "    </tr>\n",
       "  </tbody>\n",
       "</table>\n",
       "</div>"
      ],
      "text/plain": [
       "         english  mathematics\n",
       "student                      \n",
       "A             42           65\n",
       "B             69           80\n",
       "C             56           63\n",
       "D             41           63\n",
       "E             57           76\n",
       "F             48           60\n",
       "G             65           81\n",
       "H             49           66\n",
       "I             65           78\n",
       "J             58           82"
      ]
     },
     "execution_count": 3,
     "metadata": {},
     "output_type": "execute_result"
    }
   ],
   "source": [
    "df = pd.read_csv('./data/ch2_scores_em.csv',\n",
    "                index_col='student number')\n",
    "en_scores = np.array(df['english'])[:10]\n",
    "ma_scores = np.array(df['mathematics'])[:10]\n",
    "scores_df = pd.DataFrame({'english':en_scores,\n",
    "                         'mathematics':ma_scores},\n",
    "                         index=pd.Index(['A','B','C','D','E','F','G','H','I','J'],\n",
    "                                       name='student'))\n",
    "scores_df"
   ]
  },
  {
   "cell_type": "markdown",
   "id": "da4f9266",
   "metadata": {},
   "source": [
    "# CHAPTER 03 2차원 데이터 정리\n",
    "- 3.1 두 데이터 사이의 관계를 나타내는 지표\n",
    "- 3.2 2차원 데이터의 시각화\n",
    "- 3.3 앤스컴의 예"
   ]
  },
  {
   "cell_type": "markdown",
   "id": "4c6bcd67",
   "metadata": {
    "heading_collapsed": true
   },
   "source": [
    "## 두 데이터 사이의 관계를 나타내는 지표\n",
    "\n",
    "### 공분산\n",
    "- 두 변수 사이의 관계성 척도\n",
    "- 예) 영어/수학 점수의 공분산표 \n",
    "    - 직사각형 가로 : 영어 점수의 편차\n",
    "    - 직사각형 세로 : 수학 점수의 편차\n",
    "    \n",
    "<img src='./images/3_1_0001.png' width='500px' align='left'>"
   ]
  },
  {
   "cell_type": "code",
   "execution_count": 15,
   "id": "f9b2f4e8",
   "metadata": {
    "hidden": true
   },
   "outputs": [
    {
     "name": "stdout",
     "output_type": "stream",
     "text": [
      "1. 편차 직접 계산하여 공분산 구하기\n",
      "영어점수, 수학점수, 영어점수편차, 수학점수편차, 각 공분산 테이블\n"
     ]
    },
    {
     "data": {
      "text/html": [
       "<div>\n",
       "<style scoped>\n",
       "    .dataframe tbody tr th:only-of-type {\n",
       "        vertical-align: middle;\n",
       "    }\n",
       "\n",
       "    .dataframe tbody tr th {\n",
       "        vertical-align: top;\n",
       "    }\n",
       "\n",
       "    .dataframe thead th {\n",
       "        text-align: right;\n",
       "    }\n",
       "</style>\n",
       "<table border=\"1\" class=\"dataframe\">\n",
       "  <thead>\n",
       "    <tr style=\"text-align: right;\">\n",
       "      <th></th>\n",
       "      <th>english</th>\n",
       "      <th>mathematics</th>\n",
       "      <th>eng_dev.</th>\n",
       "      <th>math_dev.</th>\n",
       "      <th>productOfDev.</th>\n",
       "    </tr>\n",
       "    <tr>\n",
       "      <th>student number</th>\n",
       "      <th></th>\n",
       "      <th></th>\n",
       "      <th></th>\n",
       "      <th></th>\n",
       "      <th></th>\n",
       "    </tr>\n",
       "  </thead>\n",
       "  <tbody>\n",
       "    <tr>\n",
       "      <th>1</th>\n",
       "      <td>42</td>\n",
       "      <td>65</td>\n",
       "      <td>-16.38</td>\n",
       "      <td>-13.88</td>\n",
       "      <td>227.354</td>\n",
       "    </tr>\n",
       "    <tr>\n",
       "      <th>2</th>\n",
       "      <td>69</td>\n",
       "      <td>80</td>\n",
       "      <td>10.62</td>\n",
       "      <td>1.12</td>\n",
       "      <td>11.894</td>\n",
       "    </tr>\n",
       "    <tr>\n",
       "      <th>3</th>\n",
       "      <td>56</td>\n",
       "      <td>63</td>\n",
       "      <td>-2.38</td>\n",
       "      <td>-15.88</td>\n",
       "      <td>37.794</td>\n",
       "    </tr>\n",
       "    <tr>\n",
       "      <th>4</th>\n",
       "      <td>41</td>\n",
       "      <td>63</td>\n",
       "      <td>-17.38</td>\n",
       "      <td>-15.88</td>\n",
       "      <td>275.994</td>\n",
       "    </tr>\n",
       "    <tr>\n",
       "      <th>5</th>\n",
       "      <td>57</td>\n",
       "      <td>76</td>\n",
       "      <td>-1.38</td>\n",
       "      <td>-2.88</td>\n",
       "      <td>3.974</td>\n",
       "    </tr>\n",
       "  </tbody>\n",
       "</table>\n",
       "</div>"
      ],
      "text/plain": [
       "                english  mathematics  eng_dev.  math_dev.  productOfDev.\n",
       "student number                                                          \n",
       "1                    42           65    -16.38     -13.88        227.354\n",
       "2                    69           80     10.62       1.12         11.894\n",
       "3                    56           63     -2.38     -15.88         37.794\n",
       "4                    41           63    -17.38     -15.88        275.994\n",
       "5                    57           76     -1.38      -2.88          3.974"
      ]
     },
     "execution_count": 15,
     "metadata": {},
     "output_type": "execute_result"
    },
    {
     "name": "stdout",
     "output_type": "stream",
     "text": [
      "공분산 58.4856\n",
      "----------------------------------------------\n",
      "2. numpy.cov()으로 공분산 구하기\n"
     ]
    },
    {
     "data": {
      "text/plain": [
       "array([[94.116, 58.486],\n",
       "       [58.486, 69.386]])"
      ]
     },
     "execution_count": 15,
     "metadata": {},
     "output_type": "execute_result"
    },
    {
     "name": "stdout",
     "output_type": "stream",
     "text": [
      "대각요소(공분산) : 58.485600000000005 58.485600000000005\n",
      "영어과목의 분산 : 94.1156\n",
      "수학과목의 분산 : 69.38560000000001\n",
      "영어과목의 분산 확인 : 94.11560000000001\n",
      "수학과목의 분산 확인 : 69.38559999999995\n"
     ]
    }
   ],
   "source": [
    "## 공분산 구하기\n",
    "# 방법 1. 편차 직접 계산하여 공분산 구하기\n",
    "\n",
    "print('1. 편차 직접 계산하여 공분산 구하기')\n",
    "summary_df = df.copy()\n",
    "summary_df['eng_dev.'] = summary_df['english'] - summary_df['english'].mean() # 영어점수 편차\n",
    "summary_df['math_dev.'] = summary_df['mathematics'] - summary_df['mathematics'].mean() # 수학점수 편차\n",
    "summary_df['productOfDev.'] = summary_df['eng_dev.'] * summary_df['math_dev.'] # 각 공분산 구하기\n",
    "print('영어점수, 수학점수, 영어점수편차, 수학점수편차, 각 공분산 테이블')\n",
    "summary_df.head()\n",
    "\n",
    "print('공분산',summary_df['productOfDev.'].mean())\n",
    " # 공분산\n",
    "# 결과 : 58.486(>0)이므로 양의 상관관계\n",
    "print('----------------------------------------------')\n",
    "\n",
    "# 방법 2. numpy의 공분산 함수 : cov(data1, data2, ddof=)\n",
    "# 반환값 : 공분산 행렬 \n",
    "# 반환 행렬 중 [0,1]과 [1,0] 의 원소가 공분산 값\n",
    "print('2. numpy.cov()으로 공분산 구하기')\n",
    "cov_mat = np.cov(df['english'],df['mathematics'], ddof=0) # 모집단의 공분산\n",
    "cov_mat\n",
    "print('대각요소(공분산) :',cov_mat[0,1],cov_mat[1,0])\n",
    "print('영어과목의 분산 :',cov_mat[0,0])\n",
    "print('수학과목의 분산 :',cov_mat[1,1])\n",
    "print('영어과목의 분산 확인 :',np.var(df['english'],ddof=0))\n",
    "print('수학과목의 분산 확인 :',np.var(df['mathematics'],ddof=0))"
   ]
  },
  {
   "cell_type": "markdown",
   "id": "3034cdf2",
   "metadata": {
    "hidden": true
   },
   "source": [
    "### 상관계수\n",
    "- 공분산 : 각 데이터의 단위 제곱이므로 직관적으로 비교,이해가 어려움\n",
    "    - 예시) 키와 점수간의 공분산 (cm X 점수)\n",
    "- 상관계수 : 단위에 의존하지 않는 상관성을 나타내는 지표\n",
    "    - 공분산𝘅𝘆 ÷ (표준편차𝘅)(표준편차𝘆) -> 단위에 의존하지 않음\n",
    "    - 양의 상관관계 : 1에 가까움\n",
    "    - 음의 상관관계 : -1에 가까움\n",
    "    - 무상관관계 : 0\n",
    "\n",
    "<img src='./images/3_1_0002.png' width='500px' align='left'>  "
   ]
  },
  {
   "cell_type": "code",
   "execution_count": 34,
   "id": "37e32c2c",
   "metadata": {
    "hidden": true
   },
   "outputs": [
    {
     "name": "stdout",
     "output_type": "stream",
     "text": [
      "1. np.cov(x,y,ddof=0)-----------------\n"
     ]
    },
    {
     "data": {
      "text/plain": [
       "array([[1.165, 0.724],\n",
       "       [0.724, 0.859]])"
      ]
     },
     "execution_count": 34,
     "metadata": {},
     "output_type": "execute_result"
    },
    {
     "name": "stdout",
     "output_type": "stream",
     "text": [
      "- df['english'] : 1.1646518840307354\n",
      "- df['mathematics'] : 0.8586256663571502\n",
      "- 상관계수 : 0.7237414863069245, 0.7237414863069245\n",
      "\n",
      "2. np.corrcoef(x,y)-----------------\n"
     ]
    },
    {
     "data": {
      "text/plain": [
       "array([[1.   , 0.724],\n",
       "       [0.724, 1.   ]])"
      ]
     },
     "execution_count": 34,
     "metadata": {},
     "output_type": "execute_result"
    },
    {
     "name": "stdout",
     "output_type": "stream",
     "text": [
      "- df['english'] : 1.0\n",
      "- df['mathematics'] : 0.9999999999999998\n",
      "- 상관계수 : 0.7237414863069243, 0.7237414863069243\n",
      "\n",
      "3. df.corr()-----------------\n"
     ]
    },
    {
     "data": {
      "text/html": [
       "<div>\n",
       "<style scoped>\n",
       "    .dataframe tbody tr th:only-of-type {\n",
       "        vertical-align: middle;\n",
       "    }\n",
       "\n",
       "    .dataframe tbody tr th {\n",
       "        vertical-align: top;\n",
       "    }\n",
       "\n",
       "    .dataframe thead th {\n",
       "        text-align: right;\n",
       "    }\n",
       "</style>\n",
       "<table border=\"1\" class=\"dataframe\">\n",
       "  <thead>\n",
       "    <tr style=\"text-align: right;\">\n",
       "      <th></th>\n",
       "      <th>english</th>\n",
       "      <th>mathematics</th>\n",
       "    </tr>\n",
       "  </thead>\n",
       "  <tbody>\n",
       "    <tr>\n",
       "      <th>english</th>\n",
       "      <td>1.000</td>\n",
       "      <td>0.724</td>\n",
       "    </tr>\n",
       "    <tr>\n",
       "      <th>mathematics</th>\n",
       "      <td>0.724</td>\n",
       "      <td>1.000</td>\n",
       "    </tr>\n",
       "  </tbody>\n",
       "</table>\n",
       "</div>"
      ],
      "text/plain": [
       "             english  mathematics\n",
       "english        1.000        0.724\n",
       "mathematics    0.724        1.000"
      ]
     },
     "execution_count": 34,
     "metadata": {},
     "output_type": "execute_result"
    }
   ],
   "source": [
    "## 상관계수 구하기\n",
    "# 방법 1. 공분산𝘅𝘆 ÷ (표준편차𝘅)(표준편차𝘆)으로 계산하기\n",
    "print('1. np.cov(x,y,ddof=0)-----------------')\n",
    "np_cov_arr = np.cov(df['english'],df['mathematics'],ddof=0)/ (np.std(df['english']) * np.std(df['mathematics']))\n",
    "np_cov_arr\n",
    "print(f'- df[\\'english\\'] : {np_cov_arr[0,0]}')\n",
    "print(f'- df[\\'mathematics\\'] : {np_cov_arr[1,1]}')\n",
    "print(f'- 상관계수 : {np_cov_arr[0,1]}, {np_cov_arr[1,0]}')\n",
    "\n",
    "print()\n",
    "print('2. np.corrcoef(x,y)-----------------')\n",
    "# 방법 2. np.corrcoef(x,y) \n",
    "np_corr_arr = np.corrcoef(df['english'],df['mathematics'])\n",
    "np_corr_arr\n",
    "print(f'- df[\\'english\\'] : {np_corr_arr[0,0]}')\n",
    "print(f'- df[\\'mathematics\\'] : {np_corr_arr[1,1]}')\n",
    "print(f'- 상관계수 : {np_corr_arr[0,1]}, {np_corr_arr[1,0]}')\n",
    "\n",
    "print()\n",
    "print('3. df.corr()-----------------')\n",
    "# 방법 3. pandas.DataFrame.corr()\n",
    "df_corr_DF = df.corr()\n",
    "df_corr_DF"
   ]
  },
  {
   "cell_type": "markdown",
   "id": "34864593",
   "metadata": {},
   "source": [
    "## 2차원 데이터의 시각화"
   ]
  },
  {
   "cell_type": "code",
   "execution_count": 23,
   "id": "f5cb02d7",
   "metadata": {},
   "outputs": [],
   "source": [
    "get_ipython().run_line_magic('matplotlib','inline')\n",
    "\n",
    "from matplotlib import rc \n",
    "rc('font', family='AppleGothic')\n",
    "plt.rcParams['axes.unicode_minus'] = False"
   ]
  },
  {
   "cell_type": "markdown",
   "id": "e6b08c33",
   "metadata": {
    "heading_collapsed": true
   },
   "source": [
    "### 산점도"
   ]
  },
  {
   "cell_type": "code",
   "execution_count": 36,
   "id": "923b5f1b",
   "metadata": {
    "hidden": true
   },
   "outputs": [
    {
     "data": {
      "text/plain": [
       "<matplotlib.collections.PathCollection at 0x7fbb5bb9e550>"
      ]
     },
     "execution_count": 36,
     "metadata": {},
     "output_type": "execute_result"
    },
    {
     "data": {
      "text/plain": [
       "Text(0.5, 1.0, '영어점수/수학점수의 산점도')"
      ]
     },
     "execution_count": 36,
     "metadata": {},
     "output_type": "execute_result"
    },
    {
     "data": {
      "text/plain": [
       "Text(0.5, 0, 'english')"
      ]
     },
     "execution_count": 36,
     "metadata": {},
     "output_type": "execute_result"
    },
    {
     "data": {
      "text/plain": [
       "Text(0, 0.5, 'mathematics')"
      ]
     },
     "execution_count": 36,
     "metadata": {},
     "output_type": "execute_result"
    },
    {
     "data": {
      "image/png": "[encoded data removed]",
      "text/plain": [
       "<Figure size 576x576 with 1 Axes>"
      ]
     },
     "metadata": {
      "needs_background": "light"
     },
     "output_type": "display_data"
    }
   ],
   "source": [
    "e_score = np.array(df['english'])\n",
    "m_score = np.array(df['mathematics'])\n",
    "\n",
    "fig = plt.figure(figsize=(8,8)) # figsize가 가로 8인치 * 세로 8인치인 figure생성\n",
    "ax = fig.add_subplot(1,1,1) # 가로 1개, 세로 1개인 figure 추가, 첫번째칸에 ax라는 axes칸 생성\n",
    "\n",
    "# 산점도\n",
    "ax.scatter(e_score,m_score)\n",
    "ax.set_title('영어점수/수학점수의 산점도',size=20,color=\"yellow\")\n",
    "ax.set_xlabel('english', size=20,color='skyblue')\n",
    "ax.set_ylabel('mathematics',size=20,color='skyblue')"
   ]
  },
  {
   "cell_type": "markdown",
   "id": "f7284963",
   "metadata": {},
   "source": [
    "### 회귀직선\n",
    "- **y = 𝝱₀+𝝱₁x** (x: 영어점수, y: 수학점수)"
   ]
  },
  {
   "cell_type": "code",
   "execution_count": 44,
   "id": "f76870aa",
   "metadata": {},
   "outputs": [
    {
     "data": {
      "text/plain": [
       "array([ 0.621, 42.601])"
      ]
     },
     "execution_count": 44,
     "metadata": {},
     "output_type": "execute_result"
    },
    {
     "data": {
      "text/plain": [
       "array([37.   , 37.857, 38.714, 39.571, 40.429, 41.286, 42.143, 43.   ,\n",
       "       43.857, 44.714, 45.571, 46.429, 47.286, 48.143, 49.   , 49.857,\n",
       "       50.714, 51.571, 52.429, 53.286, 54.143, 55.   , 55.857, 56.714,\n",
       "       57.571, 58.429, 59.286, 60.143, 61.   , 61.857, 62.714, 63.571,\n",
       "       64.429, 65.286, 66.143, 67.   , 67.857, 68.714, 69.571, 70.429,\n",
       "       71.286, 72.143, 73.   , 73.857, 74.714, 75.571, 76.429, 77.286,\n",
       "       78.143, 79.   ])"
      ]
     },
     "execution_count": 44,
     "metadata": {},
     "output_type": "execute_result"
    },
    {
     "data": {
      "text/plain": [
       "array([65.594, 66.127, 66.659, 67.192, 67.725, 68.257, 68.79 , 69.323,\n",
       "       69.855, 70.388, 70.92 , 71.453, 71.986, 72.518, 73.051, 73.584,\n",
       "       74.116, 74.649, 75.182, 75.714, 76.247, 76.78 , 77.312, 77.845,\n",
       "       78.378, 78.91 , 79.443, 79.975, 80.508, 81.041, 81.573, 82.106,\n",
       "       82.639, 83.171, 83.704, 84.237, 84.769, 85.302, 85.835, 86.367,\n",
       "       86.9  , 87.433, 87.965, 88.498, 89.031, 89.563, 90.096, 90.628,\n",
       "       91.161, 91.694])"
      ]
     },
     "execution_count": 44,
     "metadata": {},
     "output_type": "execute_result"
    }
   ],
   "source": [
    "# 계수 𝝱₀(절편)와 𝝱₁(기울기)를 구한다 \n",
    "poly_fit = np.polyfit(df['english'],df['mathematics'],1) # 1차식의 계수를 구함\n",
    "poly_fit # 0.621(𝝱₁,기울기), 42.601(𝝱₀,절편) \n",
    "\n",
    "# 𝝱₀+𝝱₁x를 반환하는 함수 작성 (y = 42.601+(0.621)x)\n",
    "poly_ld = np.poly1d(poly_fit)\n",
    "\n",
    "# 직선을 그리기 위한 x좌표\n",
    "xs = np.linspace(df['english'].min(), df['english'].max())\n",
    "xs # 37 ~ 79\n",
    "\n",
    "# x좌표에 대응하는 y좌표\n",
    "ys = poly_ld(xs)\n",
    "ys # 65 ~ 91"
   ]
  },
  {
   "cell_type": "code",
   "execution_count": 52,
   "id": "4d5ab435",
   "metadata": {},
   "outputs": [
    {
     "data": {
      "text/plain": [
       "Text(0.5, 0, 'english')"
      ]
     },
     "execution_count": 52,
     "metadata": {},
     "output_type": "execute_result"
    },
    {
     "data": {
      "text/plain": [
       "Text(0, 0.5, 'mathematics')"
      ]
     },
     "execution_count": 52,
     "metadata": {},
     "output_type": "execute_result"
    },
    {
     "data": {
      "text/plain": [
       "<matplotlib.collections.PathCollection at 0x7fbb6b610c70>"
      ]
     },
     "execution_count": 52,
     "metadata": {},
     "output_type": "execute_result"
    },
    {
     "data": {
      "text/plain": [
       "[<matplotlib.lines.Line2D at 0x7fbb5c311160>]"
      ]
     },
     "execution_count": 52,
     "metadata": {},
     "output_type": "execute_result"
    },
    {
     "data": {
      "text/plain": [
       "<matplotlib.legend.Legend at 0x7fbb796a2f40>"
      ]
     },
     "execution_count": 52,
     "metadata": {},
     "output_type": "execute_result"
    },
    {
     "data": {
      "image/png": "[encoded data removed]",
      "text/plain": [
       "<Figure size 432x288 with 1 Axes>"
      ]
     },
     "metadata": {
      "needs_background": "light"
     },
     "output_type": "display_data"
    }
   ],
   "source": [
    "# 회귀직선 그리기\n",
    "plt.xlabel('english',size=20,color=\"skyblue\")\n",
    "plt.ylabel('mathematics',size=20,color=\"skyblue\")\n",
    "plt.scatter(df['english'],df['mathematics'], label='score')\n",
    "plt.plot(xs, ys, color='grey',\n",
    "        label=f'{poly_fit[1]:.2f} + {poly_fit[0]:.2f}x')\n",
    "# 범례 표시\n",
    "plt.legend(loc='upper left')\n",
    "plt.show()"
   ]
  },
  {
   "cell_type": "markdown",
   "id": "b308ff41",
   "metadata": {},
   "source": [
    "### 히트맵\n",
    "- 히스토그램의 2차원 버전, 색을 이용해 표현하는 그래프\n",
    "    - 예시) 영어점수 35-80, 수학점수 55-95까지 5점 간격"
   ]
  },
  {
   "cell_type": "code",
   "execution_count": 60,
   "id": "798cce66",
   "metadata": {
    "scrolled": true
   },
   "outputs": [
    {
     "data": {
      "text/plain": [
       "Text(0.5, 0, 'english')"
      ]
     },
     "execution_count": 60,
     "metadata": {},
     "output_type": "execute_result"
    },
    {
     "data": {
      "text/plain": [
       "Text(0, 0.5, 'mathematics')"
      ]
     },
     "execution_count": 60,
     "metadata": {},
     "output_type": "execute_result"
    },
    {
     "data": {
      "text/plain": [
       "([<matplotlib.axis.XTick at 0x7fbb7aa50520>,\n",
       "  <matplotlib.axis.XTick at 0x7fbb7aa50640>,\n",
       "  <matplotlib.axis.XTick at 0x7fbb7aa5e790>,\n",
       "  <matplotlib.axis.XTick at 0x7fbb7aa3feb0>,\n",
       "  <matplotlib.axis.XTick at 0x7fbb6befa3a0>,\n",
       "  <matplotlib.axis.XTick at 0x7fbb7aa62400>,\n",
       "  <matplotlib.axis.XTick at 0x7fbb7aa62a90>,\n",
       "  <matplotlib.axis.XTick at 0x7fbb7aa47820>,\n",
       "  <matplotlib.axis.XTick at 0x7fbb7aa48130>,\n",
       "  <matplotlib.axis.XTick at 0x7fbb7aa3fa60>],\n",
       " [Text(0, 0, ''),\n",
       "  Text(0, 0, ''),\n",
       "  Text(0, 0, ''),\n",
       "  Text(0, 0, ''),\n",
       "  Text(0, 0, ''),\n",
       "  Text(0, 0, ''),\n",
       "  Text(0, 0, ''),\n",
       "  Text(0, 0, ''),\n",
       "  Text(0, 0, ''),\n",
       "  Text(0, 0, '')])"
      ]
     },
     "execution_count": 60,
     "metadata": {},
     "output_type": "execute_result"
    },
    {
     "data": {
      "text/plain": [
       "([<matplotlib.axis.YTick at 0x7fbb7aa365e0>,\n",
       "  <matplotlib.axis.YTick at 0x7fbb7aa5b2e0>,\n",
       "  <matplotlib.axis.YTick at 0x7fbb7aa50730>,\n",
       "  <matplotlib.axis.YTick at 0x7fbb7aa62f10>,\n",
       "  <matplotlib.axis.YTick at 0x7fbb5c40c970>,\n",
       "  <matplotlib.axis.YTick at 0x7fbb7aa5bb20>,\n",
       "  <matplotlib.axis.YTick at 0x7fbb7aa5b160>,\n",
       "  <matplotlib.axis.YTick at 0x7fbb7a490f10>,\n",
       "  <matplotlib.axis.YTick at 0x7fbb7aa62b20>],\n",
       " [Text(0, 0, ''),\n",
       "  Text(0, 0, ''),\n",
       "  Text(0, 0, ''),\n",
       "  Text(0, 0, ''),\n",
       "  Text(0, 0, ''),\n",
       "  Text(0, 0, ''),\n",
       "  Text(0, 0, ''),\n",
       "  Text(0, 0, ''),\n",
       "  Text(0, 0, '')])"
      ]
     },
     "execution_count": 60,
     "metadata": {},
     "output_type": "execute_result"
    },
    {
     "data": {
      "text/plain": [
       "<matplotlib.colorbar.Colorbar at 0x7fbb6befa070>"
      ]
     },
     "execution_count": 60,
     "metadata": {},
     "output_type": "execute_result"
    },
    {
     "data": {
      "image/png": "[encoded data removed]",
      "text/plain": [
       "<Figure size 720x576 with 2 Axes>"
      ]
     },
     "metadata": {
      "needs_background": "light"
     },
     "output_type": "display_data"
    }
   ],
   "source": [
    "fig = plt.figure(figsize=(10,8))\n",
    "ax = fig.add_subplot(1,1,1)\n",
    "\n",
    "c = ax.hist2d(e_score,m_score,bins=(9,8), range=[(35,80),(55,95)])\n",
    "plt.xlabel('english',color='skyblue',size=20)\n",
    "plt.ylabel('mathematics',color='skyblue',size=20)\n",
    "plt.xticks(c[1]) #영어점수 범위\n",
    "plt.yticks(c[2]) #수학점수 범위\n",
    "\n",
    "plt.colorbar(c[3])\n",
    "plt.show()"
   ]
  },
  {
   "cell_type": "markdown",
   "id": "82a705c0",
   "metadata": {},
   "source": [
    "## 앤스컴의 예"
   ]
  },
  {
   "cell_type": "code",
   "execution_count": 62,
   "id": "05ba69da",
   "metadata": {},
   "outputs": [
    {
     "data": {
      "text/plain": [
       "(4, 11, 2)"
      ]
     },
     "execution_count": 62,
     "metadata": {},
     "output_type": "execute_result"
    },
    {
     "data": {
      "text/plain": [
       "array([[10.  ,  8.04],\n",
       "       [ 8.  ,  6.95],\n",
       "       [13.  ,  7.58],\n",
       "       [ 9.  ,  8.81],\n",
       "       [11.  ,  8.33],\n",
       "       [14.  ,  9.96],\n",
       "       [ 6.  ,  7.24],\n",
       "       [ 4.  ,  4.26],\n",
       "       [12.  , 10.84],\n",
       "       [ 7.  ,  4.82],\n",
       "       [ 5.  ,  5.68]])"
      ]
     },
     "execution_count": 62,
     "metadata": {},
     "output_type": "execute_result"
    }
   ],
   "source": [
    "# npy 형식으로 저장된 NumPy array를 읽어들인다.\n",
    "anscombe_data = np.load('./data/ch3_anscombe.npy')\n",
    "anscombe_data.shape\n",
    "anscombe_data[0]"
   ]
  },
  {
   "cell_type": "code",
   "execution_count": 72,
   "id": "09d6bddd",
   "metadata": {},
   "outputs": [
    {
     "name": "stdout",
     "output_type": "stream",
     "text": [
      "dataX :  [10.  8. 13.  9. 11. 14.  6.  4. 12.  7.  5.]\n",
      "dataY :  [ 8.04  6.95  7.58  8.81  8.33  9.96  7.24  4.26 10.84  4.82  5.68]\n",
      "\n",
      "dataX :  [10.  8. 13.  9. 11. 14.  6.  4. 12.  7.  5.]\n",
      "dataY :  [9.14 8.14 8.74 8.77 9.26 8.1  6.13 3.1  9.13 7.26 4.74]\n",
      "\n",
      "dataX :  [10.  8. 13.  9. 11. 14.  6.  4. 12.  7.  5.]\n",
      "dataY :  [ 7.46  6.77 12.74  7.11  7.81  8.84  6.08  5.39  8.15  6.42  5.73]\n",
      "\n",
      "dataX :  [ 8.  8.  8.  8.  8.  8.  8. 19.  8.  8.  8.]\n",
      "dataY :  [ 6.58  5.76  7.71  8.84  8.47  7.04  5.25 12.5   5.56  7.91  6.89]\n",
      "\n"
     ]
    },
    {
     "data": {
      "text/html": [
       "<div>\n",
       "<style scoped>\n",
       "    .dataframe tbody tr th:only-of-type {\n",
       "        vertical-align: middle;\n",
       "    }\n",
       "\n",
       "    .dataframe tbody tr th {\n",
       "        vertical-align: top;\n",
       "    }\n",
       "\n",
       "    .dataframe thead th {\n",
       "        text-align: right;\n",
       "    }\n",
       "</style>\n",
       "<table border=\"1\" class=\"dataframe\">\n",
       "  <thead>\n",
       "    <tr style=\"text-align: right;\">\n",
       "      <th></th>\n",
       "      <th>data1</th>\n",
       "      <th>data2</th>\n",
       "      <th>data3</th>\n",
       "      <th>data4</th>\n",
       "    </tr>\n",
       "  </thead>\n",
       "  <tbody>\n",
       "    <tr>\n",
       "      <th>X_mean</th>\n",
       "      <td>9.00</td>\n",
       "      <td>9.00</td>\n",
       "      <td>9.00</td>\n",
       "      <td>9.00</td>\n",
       "    </tr>\n",
       "    <tr>\n",
       "      <th>X_variance</th>\n",
       "      <td>10.00</td>\n",
       "      <td>10.00</td>\n",
       "      <td>10.00</td>\n",
       "      <td>10.00</td>\n",
       "    </tr>\n",
       "    <tr>\n",
       "      <th>Y_mean</th>\n",
       "      <td>7.50</td>\n",
       "      <td>7.50</td>\n",
       "      <td>7.50</td>\n",
       "      <td>7.50</td>\n",
       "    </tr>\n",
       "    <tr>\n",
       "      <th>Y_variance</th>\n",
       "      <td>3.75</td>\n",
       "      <td>3.75</td>\n",
       "      <td>3.75</td>\n",
       "      <td>3.75</td>\n",
       "    </tr>\n",
       "    <tr>\n",
       "      <th>X&amp;Y_correlation</th>\n",
       "      <td>0.82</td>\n",
       "      <td>0.82</td>\n",
       "      <td>0.82</td>\n",
       "      <td>0.82</td>\n",
       "    </tr>\n",
       "    <tr>\n",
       "      <th>X&amp;Y_regression line</th>\n",
       "      <td>3.00+0.50x</td>\n",
       "      <td>3.00+0.50x</td>\n",
       "      <td>3.00+0.50x</td>\n",
       "      <td>3.00+0.50x</td>\n",
       "    </tr>\n",
       "  </tbody>\n",
       "</table>\n",
       "</div>"
      ],
      "text/plain": [
       "                          data1       data2       data3       data4\n",
       "X_mean                     9.00        9.00        9.00        9.00\n",
       "X_variance                10.00       10.00       10.00       10.00\n",
       "Y_mean                     7.50        7.50        7.50        7.50\n",
       "Y_variance                 3.75        3.75        3.75        3.75\n",
       "X&Y_correlation            0.82        0.82        0.82        0.82\n",
       "X&Y_regression line  3.00+0.50x  3.00+0.50x  3.00+0.50x  3.00+0.50x"
      ]
     },
     "execution_count": 72,
     "metadata": {},
     "output_type": "execute_result"
    }
   ],
   "source": [
    "# 각 데이터의 평균, 분산, 상관계수, 회귀직선 계산하여 DataFrame으로 정리\n",
    "stats_df = pd.DataFrame(index=['X_mean', 'X_variance', 'Y_mean',\n",
    "                               'Y_variance', 'X&Y_correlation',\n",
    "                               'X&Y_regression line'])\n",
    "for i, data in enumerate(anscombe_data):\n",
    "    dataX = data[:, 0]\n",
    "    print('dataX : ',dataX)\n",
    "    dataY = data[:, 1]\n",
    "    print('dataY : ',dataY)\n",
    "    print()\n",
    "    poly_fit = np.polyfit(dataX, dataY, 1)\n",
    "    stats_df[f'data{i+1}'] =\\\n",
    "        [f'{np.mean(dataX):.2f}',\n",
    "         f'{np.var(dataX):.2f}',\n",
    "         f'{np.mean(dataY):.2f}',\n",
    "         f'{np.var(dataY):.2f}',\n",
    "         f'{np.corrcoef(dataX, dataY)[0, 1]:.2f}',\n",
    "         f'{poly_fit[1]:.2f}+{poly_fit[0]:.2f}x']\n",
    "stats_df"
   ]
  },
  {
   "cell_type": "code",
   "execution_count": 73,
   "id": "b58b9758",
   "metadata": {},
   "outputs": [
    {
     "data": {
      "text/plain": [
       "(4.000, 20.000)"
      ]
     },
     "execution_count": 73,
     "metadata": {},
     "output_type": "execute_result"
    },
    {
     "data": {
      "text/plain": [
       "(3.000, 13.000)"
      ]
     },
     "execution_count": 73,
     "metadata": {},
     "output_type": "execute_result"
    },
    {
     "data": {
      "text/plain": [
       "Text(0.5, 1.0, 'data1')"
      ]
     },
     "execution_count": 73,
     "metadata": {},
     "output_type": "execute_result"
    },
    {
     "data": {
      "text/plain": [
       "<matplotlib.collections.PathCollection at 0x7fbb69bd9f10>"
      ]
     },
     "execution_count": 73,
     "metadata": {},
     "output_type": "execute_result"
    },
    {
     "data": {
      "text/plain": [
       "[<matplotlib.lines.Line2D at 0x7fbb89b1f7c0>]"
      ]
     },
     "execution_count": 73,
     "metadata": {},
     "output_type": "execute_result"
    },
    {
     "data": {
      "text/plain": [
       "(4.000, 20.000)"
      ]
     },
     "execution_count": 73,
     "metadata": {},
     "output_type": "execute_result"
    },
    {
     "data": {
      "text/plain": [
       "(3.000, 13.000)"
      ]
     },
     "execution_count": 73,
     "metadata": {},
     "output_type": "execute_result"
    },
    {
     "data": {
      "text/plain": [
       "Text(0.5, 1.0, 'data2')"
      ]
     },
     "execution_count": 73,
     "metadata": {},
     "output_type": "execute_result"
    },
    {
     "data": {
      "text/plain": [
       "<matplotlib.collections.PathCollection at 0x7fbb7a960520>"
      ]
     },
     "execution_count": 73,
     "metadata": {},
     "output_type": "execute_result"
    },
    {
     "data": {
      "text/plain": [
       "[<matplotlib.lines.Line2D at 0x7fbb7a119a90>]"
      ]
     },
     "execution_count": 73,
     "metadata": {},
     "output_type": "execute_result"
    },
    {
     "data": {
      "text/plain": [
       "(4.000, 20.000)"
      ]
     },
     "execution_count": 73,
     "metadata": {},
     "output_type": "execute_result"
    },
    {
     "data": {
      "text/plain": [
       "(3.000, 13.000)"
      ]
     },
     "execution_count": 73,
     "metadata": {},
     "output_type": "execute_result"
    },
    {
     "data": {
      "text/plain": [
       "Text(0.5, 1.0, 'data3')"
      ]
     },
     "execution_count": 73,
     "metadata": {},
     "output_type": "execute_result"
    },
    {
     "data": {
      "text/plain": [
       "<matplotlib.collections.PathCollection at 0x7fbb7a850eb0>"
      ]
     },
     "execution_count": 73,
     "metadata": {},
     "output_type": "execute_result"
    },
    {
     "data": {
      "text/plain": [
       "[<matplotlib.lines.Line2D at 0x7fbb69a20520>]"
      ]
     },
     "execution_count": 73,
     "metadata": {},
     "output_type": "execute_result"
    },
    {
     "data": {
      "text/plain": [
       "(4.000, 20.000)"
      ]
     },
     "execution_count": 73,
     "metadata": {},
     "output_type": "execute_result"
    },
    {
     "data": {
      "text/plain": [
       "(3.000, 13.000)"
      ]
     },
     "execution_count": 73,
     "metadata": {},
     "output_type": "execute_result"
    },
    {
     "data": {
      "text/plain": [
       "Text(0.5, 1.0, 'data4')"
      ]
     },
     "execution_count": 73,
     "metadata": {},
     "output_type": "execute_result"
    },
    {
     "data": {
      "text/plain": [
       "<matplotlib.collections.PathCollection at 0x7fbb5bb86d60>"
      ]
     },
     "execution_count": 73,
     "metadata": {},
     "output_type": "execute_result"
    },
    {
     "data": {
      "text/plain": [
       "[<matplotlib.lines.Line2D at 0x7fbb5c47c9d0>]"
      ]
     },
     "execution_count": 73,
     "metadata": {},
     "output_type": "execute_result"
    },
    {
     "data": {
      "image/png": "[encoded data removed]",
      "text/plain": [
       "<Figure size 720x720 with 4 Axes>"
      ]
     },
     "metadata": {
      "needs_background": "light"
     },
     "output_type": "display_data"
    }
   ],
   "source": [
    "# 그래프를 그리기 위한 영역을 2x2개 생성\n",
    "fig, axes = plt.subplots(nrows=2, ncols=2, figsize=(10, 10),\n",
    "                         sharex=True, sharey=True)\n",
    "\n",
    "xs = np.linspace(0, 30, 100)\n",
    "for i, data in enumerate(anscombe_data):\n",
    "    poly_fit = np.polyfit(data[:,0], data[:,1], 1)\n",
    "    poly_1d = np.poly1d(poly_fit)\n",
    "    ys = poly_1d(xs)\n",
    "    # 그리는 영역을 선택\n",
    "    ax = axes[i//2, i%2]\n",
    "    ax.set_xlim([4, 20])\n",
    "    ax.set_ylim([3, 13])\n",
    "    # 타이틀을 부여\n",
    "    ax.set_title(f'data{i+1}')\n",
    "    ax.scatter(data[:,0], data[:,1])\n",
    "    ax.plot(xs, ys, color='gray')\n",
    "\n",
    "# 그래프 사이의 간격을 좁힘\n",
    "plt.tight_layout()\n",
    "plt.show()"
   ]
  },
  {
   "cell_type": "code",
   "execution_count": null,
   "id": "5237bce7",
   "metadata": {},
   "outputs": [],
   "source": []
  }
 ],
 "metadata": {
  "kernelspec": {
   "display_name": "Python 3 (ipykernel)",
   "language": "python",
   "name": "python3"
  },
  "language_info": {
   "codemirror_mode": {
    "name": "ipython",
    "version": 3
   },
   "file_extension": ".py",
   "mimetype": "text/x-python",
   "name": "python",
   "nbconvert_exporter": "python",
   "pygments_lexer": "ipython3",
   "version": "3.9.7"
  },
  "toc": {
   "base_numbering": 1,
   "nav_menu": {},
   "number_sections": true,
   "sideBar": true,
   "skip_h1_title": false,
   "title_cell": "Table of Contents",
   "title_sidebar": "Contents",
   "toc_cell": false,
   "toc_position": {},
   "toc_section_display": true,
   "toc_window_display": true
  }
 },
 "nbformat": 4,
 "nbformat_minor": 5
}
