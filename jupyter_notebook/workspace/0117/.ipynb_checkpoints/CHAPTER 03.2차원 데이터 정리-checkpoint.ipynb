{
 "cells": [
  {
   "cell_type": "code",
   "execution_count": 4,
   "id": "54c3cf0c",
   "metadata": {},
   "outputs": [
    {
     "data": {
      "text/plain": [
       "'%.3f'"
      ]
     },
     "execution_count": 4,
     "metadata": {},
     "output_type": "execute_result"
    }
   ],
   "source": [
    "import numpy as np\n",
    "import pandas as pd\n",
    "import math\n",
    "from scipy.stats import *\n",
    "import scipy as sp\n",
    "import matplotlib.pyplot as plt\n",
    "\n",
    "# 그래프가 Jupyter notebook 위에 표시\n",
    "%matplotlib inline\n",
    "# Jupyter Notebook의 출력을 소수점 이하 3자리로 제한\n",
    "%precision 3\n",
    "\n",
    "# Dataframe의 출력을 소수점 이하 3자리로 제한\n",
    "pd.set_option('precision', 3)"
   ]
  },
  {
   "cell_type": "code",
   "execution_count": 2,
   "id": "6c128420",
   "metadata": {},
   "outputs": [],
   "source": [
    "# 여러 변수 출력 코드\n",
    "from IPython.core.interactiveshell import InteractiveShell\n",
    "InteractiveShell.ast_node_interactivity=\"all\""
   ]
  },
  {
   "cell_type": "code",
   "execution_count": 3,
   "id": "adb859f9",
   "metadata": {},
   "outputs": [
    {
     "data": {
      "text/html": [
       "<div>\n",
       "<style scoped>\n",
       "    .dataframe tbody tr th:only-of-type {\n",
       "        vertical-align: middle;\n",
       "    }\n",
       "\n",
       "    .dataframe tbody tr th {\n",
       "        vertical-align: top;\n",
       "    }\n",
       "\n",
       "    .dataframe thead th {\n",
       "        text-align: right;\n",
       "    }\n",
       "</style>\n",
       "<table border=\"1\" class=\"dataframe\">\n",
       "  <thead>\n",
       "    <tr style=\"text-align: right;\">\n",
       "      <th></th>\n",
       "      <th>english</th>\n",
       "      <th>mathematics</th>\n",
       "    </tr>\n",
       "    <tr>\n",
       "      <th>student</th>\n",
       "      <th></th>\n",
       "      <th></th>\n",
       "    </tr>\n",
       "  </thead>\n",
       "  <tbody>\n",
       "    <tr>\n",
       "      <th>A</th>\n",
       "      <td>42</td>\n",
       "      <td>65</td>\n",
       "    </tr>\n",
       "    <tr>\n",
       "      <th>B</th>\n",
       "      <td>69</td>\n",
       "      <td>80</td>\n",
       "    </tr>\n",
       "    <tr>\n",
       "      <th>C</th>\n",
       "      <td>56</td>\n",
       "      <td>63</td>\n",
       "    </tr>\n",
       "    <tr>\n",
       "      <th>D</th>\n",
       "      <td>41</td>\n",
       "      <td>63</td>\n",
       "    </tr>\n",
       "    <tr>\n",
       "      <th>E</th>\n",
       "      <td>57</td>\n",
       "      <td>76</td>\n",
       "    </tr>\n",
       "    <tr>\n",
       "      <th>F</th>\n",
       "      <td>48</td>\n",
       "      <td>60</td>\n",
       "    </tr>\n",
       "    <tr>\n",
       "      <th>G</th>\n",
       "      <td>65</td>\n",
       "      <td>81</td>\n",
       "    </tr>\n",
       "    <tr>\n",
       "      <th>H</th>\n",
       "      <td>49</td>\n",
       "      <td>66</td>\n",
       "    </tr>\n",
       "    <tr>\n",
       "      <th>I</th>\n",
       "      <td>65</td>\n",
       "      <td>78</td>\n",
       "    </tr>\n",
       "    <tr>\n",
       "      <th>J</th>\n",
       "      <td>58</td>\n",
       "      <td>82</td>\n",
       "    </tr>\n",
       "  </tbody>\n",
       "</table>\n",
       "</div>"
      ],
      "text/plain": [
       "         english  mathematics\n",
       "student                      \n",
       "A             42           65\n",
       "B             69           80\n",
       "C             56           63\n",
       "D             41           63\n",
       "E             57           76\n",
       "F             48           60\n",
       "G             65           81\n",
       "H             49           66\n",
       "I             65           78\n",
       "J             58           82"
      ]
     },
     "execution_count": 3,
     "metadata": {},
     "output_type": "execute_result"
    }
   ],
   "source": [
    "df = pd.read_csv('./data/ch2_scores_em.csv',\n",
    "                index_col='student number')\n",
    "en_scores = np.array(df['english'])[:10]\n",
    "ma_scores = np.array(df['mathematics'])[:10]\n",
    "scores_df = pd.DataFrame({'english':en_scores,\n",
    "                         'mathematics':ma_scores},\n",
    "                         index=pd.Index(['A','B','C','D','E','F','G','H','I','J'],\n",
    "                                       name='student'))\n",
    "scores_df"
   ]
  },
  {
   "cell_type": "markdown",
   "id": "da4f9266",
   "metadata": {},
   "source": [
    "# CHAPTER 03 2차원 데이터 정리\n",
    "- 3.1 두 데이터 사이의 관계를 나타내는 지표\n",
    "- 3.2 2차원 데이터의 시각화\n",
    "- 3.3 앤스컴의 예"
   ]
  },
  {
   "cell_type": "markdown",
   "id": "4c6bcd67",
   "metadata": {},
   "source": [
    "## 두 데이터 사이의 관계를 나타내는 지표\n",
    "\n",
    "### 공분산\n",
    "- 두 변수 사이의 관계성 척도\n",
    "- 예) 영어/수학 점수의 공분산표 \n",
    "    - 직사각형 가로 : 영어 점수의 편차\n",
    "    - 직사각형 세로 : 수학 점수의 편차\n",
    "    \n",
    "<img src='./images/3_1_0001.png' width='500px' align='left'>"
   ]
  },
  {
   "cell_type": "code",
   "execution_count": 15,
   "id": "f9b2f4e8",
   "metadata": {},
   "outputs": [
    {
     "name": "stdout",
     "output_type": "stream",
     "text": [
      "1. 편차 직접 계산하여 공분산 구하기\n",
      "영어점수, 수학점수, 영어점수편차, 수학점수편차, 각 공분산 테이블\n"
     ]
    },
    {
     "data": {
      "text/html": [
       "<div>\n",
       "<style scoped>\n",
       "    .dataframe tbody tr th:only-of-type {\n",
       "        vertical-align: middle;\n",
       "    }\n",
       "\n",
       "    .dataframe tbody tr th {\n",
       "        vertical-align: top;\n",
       "    }\n",
       "\n",
       "    .dataframe thead th {\n",
       "        text-align: right;\n",
       "    }\n",
       "</style>\n",
       "<table border=\"1\" class=\"dataframe\">\n",
       "  <thead>\n",
       "    <tr style=\"text-align: right;\">\n",
       "      <th></th>\n",
       "      <th>english</th>\n",
       "      <th>mathematics</th>\n",
       "      <th>eng_dev.</th>\n",
       "      <th>math_dev.</th>\n",
       "      <th>productOfDev.</th>\n",
       "    </tr>\n",
       "    <tr>\n",
       "      <th>student number</th>\n",
       "      <th></th>\n",
       "      <th></th>\n",
       "      <th></th>\n",
       "      <th></th>\n",
       "      <th></th>\n",
       "    </tr>\n",
       "  </thead>\n",
       "  <tbody>\n",
       "    <tr>\n",
       "      <th>1</th>\n",
       "      <td>42</td>\n",
       "      <td>65</td>\n",
       "      <td>-16.38</td>\n",
       "      <td>-13.88</td>\n",
       "      <td>227.354</td>\n",
       "    </tr>\n",
       "    <tr>\n",
       "      <th>2</th>\n",
       "      <td>69</td>\n",
       "      <td>80</td>\n",
       "      <td>10.62</td>\n",
       "      <td>1.12</td>\n",
       "      <td>11.894</td>\n",
       "    </tr>\n",
       "    <tr>\n",
       "      <th>3</th>\n",
       "      <td>56</td>\n",
       "      <td>63</td>\n",
       "      <td>-2.38</td>\n",
       "      <td>-15.88</td>\n",
       "      <td>37.794</td>\n",
       "    </tr>\n",
       "    <tr>\n",
       "      <th>4</th>\n",
       "      <td>41</td>\n",
       "      <td>63</td>\n",
       "      <td>-17.38</td>\n",
       "      <td>-15.88</td>\n",
       "      <td>275.994</td>\n",
       "    </tr>\n",
       "    <tr>\n",
       "      <th>5</th>\n",
       "      <td>57</td>\n",
       "      <td>76</td>\n",
       "      <td>-1.38</td>\n",
       "      <td>-2.88</td>\n",
       "      <td>3.974</td>\n",
       "    </tr>\n",
       "  </tbody>\n",
       "</table>\n",
       "</div>"
      ],
      "text/plain": [
       "                english  mathematics  eng_dev.  math_dev.  productOfDev.\n",
       "student number                                                          \n",
       "1                    42           65    -16.38     -13.88        227.354\n",
       "2                    69           80     10.62       1.12         11.894\n",
       "3                    56           63     -2.38     -15.88         37.794\n",
       "4                    41           63    -17.38     -15.88        275.994\n",
       "5                    57           76     -1.38      -2.88          3.974"
      ]
     },
     "execution_count": 15,
     "metadata": {},
     "output_type": "execute_result"
    },
    {
     "name": "stdout",
     "output_type": "stream",
     "text": [
      "공분산 58.4856\n",
      "----------------------------------------------\n",
      "2. numpy.cov()으로 공분산 구하기\n"
     ]
    },
    {
     "data": {
      "text/plain": [
       "array([[94.116, 58.486],\n",
       "       [58.486, 69.386]])"
      ]
     },
     "execution_count": 15,
     "metadata": {},
     "output_type": "execute_result"
    },
    {
     "name": "stdout",
     "output_type": "stream",
     "text": [
      "대각요소(공분산) : 58.485600000000005 58.485600000000005\n",
      "영어과목의 분산 : 94.1156\n",
      "수학과목의 분산 : 69.38560000000001\n",
      "영어과목의 분산 확인 : 94.11560000000001\n",
      "수학과목의 분산 확인 : 69.38559999999995\n"
     ]
    }
   ],
   "source": [
    "## 공분산 구하기\n",
    "# 방법 1. 편차 직접 계산하여 공분산 구하기\n",
    "\n",
    "print('1. 편차 직접 계산하여 공분산 구하기')\n",
    "summary_df = df.copy()\n",
    "summary_df['eng_dev.'] = summary_df['english'] - summary_df['english'].mean() # 영어점수 편차\n",
    "summary_df['math_dev.'] = summary_df['mathematics'] - summary_df['mathematics'].mean() # 수학점수 편차\n",
    "summary_df['productOfDev.'] = summary_df['eng_dev.'] * summary_df['math_dev.'] # 각 공분산 구하기\n",
    "print('영어점수, 수학점수, 영어점수편차, 수학점수편차, 각 공분산 테이블')\n",
    "summary_df.head()\n",
    "\n",
    "print('공분산',summary_df['productOfDev.'].mean())\n",
    " # 공분산\n",
    "# 결과 : 58.486(>0)이므로 양의 상관관계\n",
    "print('----------------------------------------------')\n",
    "\n",
    "# 방법 2. numpy의 공분산 함수 : cov(data1, data2, ddof=)\n",
    "# 반환값 : 공분산 행렬 \n",
    "# 반환 행렬 중 [0,1]과 [1,0] 의 원소가 공분산 값\n",
    "print('2. numpy.cov()으로 공분산 구하기')\n",
    "cov_mat = np.cov(df['english'],df['mathematics'], ddof=0) # 모집단의 공분산\n",
    "cov_mat\n",
    "print('대각요소(공분산) :',cov_mat[0,1],cov_mat[1,0])\n",
    "print('영어과목의 분산 :',cov_mat[0,0])\n",
    "print('수학과목의 분산 :',cov_mat[1,1])\n",
    "print('영어과목의 분산 확인 :',np.var(df['english'],ddof=0))\n",
    "print('수학과목의 분산 확인 :',np.var(df['mathematics'],ddof=0))"
   ]
  },
  {
   "cell_type": "markdown",
   "id": "58eabe86",
   "metadata": {},
   "source": [
    "### 상관계수\n",
    "- 공분산 : 각 데이터의 단위 제곱이므로 직관적으로 비교,이해가 어려움\n",
    "    - 예시) 키와 점수간의 공분산 (cm X 점수)\n",
    "- 상관계수 : 단위에 의존하지 않는 상관성을 나타내는 지표\n",
    "    - 공분산𝘅𝘆 ÷ (표준편차𝘅)(표준편차𝘆) -> 단위에 의존하지 않음\n",
    "    - 양의 상관관계 : 1에 가까움\n",
    "    - 음의 상관관계 : -1에 가까움\n",
    "    - 무상관관계 : 0\n",
    "\n",
    "<img src='./images/3_1_0002.png' width='500px' align='left'>  "
   ]
  },
  {
   "cell_type": "code",
   "execution_count": 34,
   "id": "744cc939",
   "metadata": {},
   "outputs": [
    {
     "name": "stdout",
     "output_type": "stream",
     "text": [
      "1. np.cov(x,y,ddof=0)-----------------\n"
     ]
    },
    {
     "data": {
      "text/plain": [
       "array([[1.165, 0.724],\n",
       "       [0.724, 0.859]])"
      ]
     },
     "execution_count": 34,
     "metadata": {},
     "output_type": "execute_result"
    },
    {
     "name": "stdout",
     "output_type": "stream",
     "text": [
      "- df['english'] : 1.1646518840307354\n",
      "- df['mathematics'] : 0.8586256663571502\n",
      "- 상관계수 : 0.7237414863069245, 0.7237414863069245\n",
      "\n",
      "2. np.corrcoef(x,y)-----------------\n"
     ]
    },
    {
     "data": {
      "text/plain": [
       "array([[1.   , 0.724],\n",
       "       [0.724, 1.   ]])"
      ]
     },
     "execution_count": 34,
     "metadata": {},
     "output_type": "execute_result"
    },
    {
     "name": "stdout",
     "output_type": "stream",
     "text": [
      "- df['english'] : 1.0\n",
      "- df['mathematics'] : 0.9999999999999998\n",
      "- 상관계수 : 0.7237414863069243, 0.7237414863069243\n",
      "\n",
      "3. df.corr()-----------------\n"
     ]
    },
    {
     "data": {
      "text/html": [
       "<div>\n",
       "<style scoped>\n",
       "    .dataframe tbody tr th:only-of-type {\n",
       "        vertical-align: middle;\n",
       "    }\n",
       "\n",
       "    .dataframe tbody tr th {\n",
       "        vertical-align: top;\n",
       "    }\n",
       "\n",
       "    .dataframe thead th {\n",
       "        text-align: right;\n",
       "    }\n",
       "</style>\n",
       "<table border=\"1\" class=\"dataframe\">\n",
       "  <thead>\n",
       "    <tr style=\"text-align: right;\">\n",
       "      <th></th>\n",
       "      <th>english</th>\n",
       "      <th>mathematics</th>\n",
       "    </tr>\n",
       "  </thead>\n",
       "  <tbody>\n",
       "    <tr>\n",
       "      <th>english</th>\n",
       "      <td>1.000</td>\n",
       "      <td>0.724</td>\n",
       "    </tr>\n",
       "    <tr>\n",
       "      <th>mathematics</th>\n",
       "      <td>0.724</td>\n",
       "      <td>1.000</td>\n",
       "    </tr>\n",
       "  </tbody>\n",
       "</table>\n",
       "</div>"
      ],
      "text/plain": [
       "             english  mathematics\n",
       "english        1.000        0.724\n",
       "mathematics    0.724        1.000"
      ]
     },
     "execution_count": 34,
     "metadata": {},
     "output_type": "execute_result"
    }
   ],
   "source": [
    "## 상관계수 구하기\n",
    "# 방법 1. 공분산𝘅𝘆 ÷ (표준편차𝘅)(표준편차𝘆)으로 계산하기\n",
    "print('1. np.cov(x,y,ddof=0)-----------------')\n",
    "np_cov_arr = np.cov(df['english'],df['mathematics'],ddof=0)/ (np.std(df['english']) * np.std(df['mathematics']))\n",
    "np_cov_arr\n",
    "print(f'- df[\\'english\\'] : {np_cov_arr[0,0]}')\n",
    "print(f'- df[\\'mathematics\\'] : {np_cov_arr[1,1]}')\n",
    "print(f'- 상관계수 : {np_cov_arr[0,1]}, {np_cov_arr[1,0]}')\n",
    "\n",
    "print()\n",
    "print('2. np.corrcoef(x,y)-----------------')\n",
    "# 방법 2. np.corrcoef(x,y) \n",
    "np_corr_arr = np.corrcoef(df['english'],df['mathematics'])\n",
    "np_corr_arr\n",
    "print(f'- df[\\'english\\'] : {np_corr_arr[0,0]}')\n",
    "print(f'- df[\\'mathematics\\'] : {np_corr_arr[1,1]}')\n",
    "print(f'- 상관계수 : {np_corr_arr[0,1]}, {np_corr_arr[1,0]}')\n",
    "\n",
    "print()\n",
    "print('3. df.corr()-----------------')\n",
    "# 방법 3. pandas.DataFrame.corr()\n",
    "df_corr_DF = df.corr()\n",
    "df_corr_DF"
   ]
  },
  {
   "cell_type": "code",
   "execution_count": null,
   "id": "45e9f45e",
   "metadata": {},
   "outputs": [],
   "source": []
  }
 ],
 "metadata": {
  "kernelspec": {
   "display_name": "Python 3 (ipykernel)",
   "language": "python",
   "name": "python3"
  },
  "language_info": {
   "codemirror_mode": {
    "name": "ipython",
    "version": 3
   },
   "file_extension": ".py",
   "mimetype": "text/x-python",
   "name": "python",
   "nbconvert_exporter": "python",
   "pygments_lexer": "ipython3",
   "version": "3.9.7"
  },
  "toc": {
   "base_numbering": 1,
   "nav_menu": {},
   "number_sections": true,
   "sideBar": true,
   "skip_h1_title": false,
   "title_cell": "Table of Contents",
   "title_sidebar": "Contents",
   "toc_cell": false,
   "toc_position": {},
   "toc_section_display": true,
   "toc_window_display": false
  }
 },
 "nbformat": 4,
 "nbformat_minor": 5
}
