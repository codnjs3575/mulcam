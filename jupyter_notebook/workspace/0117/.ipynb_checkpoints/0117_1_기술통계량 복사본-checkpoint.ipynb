{
 "cells": [
  {
   "cell_type": "markdown",
   "id": "6c0eb269",
   "metadata": {},
   "source": [
    "# 탐색적 데이터 분석(EDA)\n",
    "- Exploring Data Analysis\n",
    "- 데이터 특성을 파악하고 상세화\n",
    "- 데이터 유형(속성)에 따라 데이터의 특성을 파악한 후 분석 방향 결정"
   ]
  },
  {
   "cell_type": "code",
   "execution_count": 1,
   "id": "760e2914",
   "metadata": {},
   "outputs": [],
   "source": [
    "import numpy as np\n",
    "import pandas as pd\n",
    "import math\n",
    "from scipy.stats import *\n",
    "import scipy as sp\n",
    "\n",
    "# Jupyter Notebook의 출력을 소수점 이하 3자리로 제한\n",
    "%precision 3\n",
    "\n",
    "# Dataframe의 출력을 소수점 이하 3자리로 제한\n",
    "pd.set_option('precision', 3)"
   ]
  },
  {
   "cell_type": "code",
   "execution_count": 2,
   "id": "4a4ab2a7",
   "metadata": {},
   "outputs": [],
   "source": [
    "# 여러 변수 출력 코드\n",
    "from IPython.core.interactiveshell import InteractiveShell\n",
    "InteractiveShell.ast_node_interactivity=\"all\""
   ]
  },
  {
   "cell_type": "markdown",
   "id": "0f0148e8",
   "metadata": {},
   "source": [
    "**참고 사이트**\n",
    "- scipy.stats\n",
    "    - https://docs.scipy.org/doc/scipy/reference/stats.html\n",
    "- numpy의 statistics\n",
    "    - https://numpy.org/doc/stable/reference/routines.statistics.html\n",
    "- math\n",
    "    - https://docs.python.org/ko/3/library/math.html#number-theoretic-and-representation-functions"
   ]
  },
  {
   "cell_type": "markdown",
   "id": "96e76dd4",
   "metadata": {},
   "source": [
    "## 위치 통계량(measure of location)\n",
    "- 중심 경향성\n",
    "\n",
    "### 평균(mean)\n",
    "- 가장 많이 사용되는 대표값\n",
    "    - 모든 데이터의 합을 데이터의 개수로 나눈 값(산술평균)\n",
    "- 특징\n",
    "    - 계산이 쉽고, 수학적으로 활용하기 편리하며 각 자료에 대해 유일한 값을 가짐\n",
    "    - 분산의 계산, 모수 추정, 가설검정 등 통계분석의 대표적인 통계량으로 널리 사용됨\n",
    "    - 데이터의 극단적인 값이 포함될 경우 평균이 왜곡되는 경향이 있음\n",
    "    - 이러한 경우, 대표값으로 중앙값을 사용"
   ]
  },
  {
   "cell_type": "markdown",
   "id": "693c964a",
   "metadata": {},
   "source": [
    "**산술 평균(arithmetic mean)**"
   ]
  },
  {
   "cell_type": "code",
   "execution_count": 4,
   "id": "08fc26ba",
   "metadata": {},
   "outputs": [
    {
     "data": {
      "text/plain": [
       "3.0"
      ]
     },
     "execution_count": 4,
     "metadata": {},
     "output_type": "execute_result"
    },
    {
     "data": {
      "text/plain": [
       "3.0"
      ]
     },
     "execution_count": 4,
     "metadata": {},
     "output_type": "execute_result"
    },
    {
     "data": {
      "text/plain": [
       "3.000"
      ]
     },
     "execution_count": 4,
     "metadata": {},
     "output_type": "execute_result"
    }
   ],
   "source": [
    "x = [1,2,3,4,5]\n",
    "np.mean(x)\n",
    "np.array(x).mean()\n",
    "pd.Series(x).mean()"
   ]
  },
  {
   "cell_type": "markdown",
   "id": "54d465cc",
   "metadata": {},
   "source": [
    "- 교재, 31쪽 예제"
   ]
  },
  {
   "cell_type": "code",
   "execution_count": 5,
   "id": "f8f7a960",
   "metadata": {},
   "outputs": [
    {
     "data": {
      "text/html": [
       "<div>\n",
       "<style scoped>\n",
       "    .dataframe tbody tr th:only-of-type {\n",
       "        vertical-align: middle;\n",
       "    }\n",
       "\n",
       "    .dataframe tbody tr th {\n",
       "        vertical-align: top;\n",
       "    }\n",
       "\n",
       "    .dataframe thead th {\n",
       "        text-align: right;\n",
       "    }\n",
       "</style>\n",
       "<table border=\"1\" class=\"dataframe\">\n",
       "  <thead>\n",
       "    <tr style=\"text-align: right;\">\n",
       "      <th></th>\n",
       "      <th>english</th>\n",
       "      <th>mathematics</th>\n",
       "    </tr>\n",
       "    <tr>\n",
       "      <th>student number</th>\n",
       "      <th></th>\n",
       "      <th></th>\n",
       "    </tr>\n",
       "  </thead>\n",
       "  <tbody>\n",
       "    <tr>\n",
       "      <th>1</th>\n",
       "      <td>42</td>\n",
       "      <td>65</td>\n",
       "    </tr>\n",
       "    <tr>\n",
       "      <th>2</th>\n",
       "      <td>69</td>\n",
       "      <td>80</td>\n",
       "    </tr>\n",
       "    <tr>\n",
       "      <th>3</th>\n",
       "      <td>56</td>\n",
       "      <td>63</td>\n",
       "    </tr>\n",
       "    <tr>\n",
       "      <th>4</th>\n",
       "      <td>41</td>\n",
       "      <td>63</td>\n",
       "    </tr>\n",
       "    <tr>\n",
       "      <th>5</th>\n",
       "      <td>57</td>\n",
       "      <td>76</td>\n",
       "    </tr>\n",
       "  </tbody>\n",
       "</table>\n",
       "</div>"
      ],
      "text/plain": [
       "                english  mathematics\n",
       "student number                      \n",
       "1                    42           65\n",
       "2                    69           80\n",
       "3                    56           63\n",
       "4                    41           63\n",
       "5                    57           76"
      ]
     },
     "execution_count": 5,
     "metadata": {},
     "output_type": "execute_result"
    }
   ],
   "source": [
    "df = pd.read_csv('./data/ch2_scores_em.csv',\n",
    "                index_col = 'student number')\n",
    "\n",
    "# df의 처음 5행 표시\n",
    "df.head()"
   ]
  },
  {
   "cell_type": "code",
   "execution_count": 6,
   "id": "56328ee9",
   "metadata": {},
   "outputs": [
    {
     "data": {
      "text/plain": [
       "(50, 2)"
      ]
     },
     "execution_count": 6,
     "metadata": {},
     "output_type": "execute_result"
    }
   ],
   "source": [
    "df.shape"
   ]
  },
  {
   "cell_type": "code",
   "execution_count": 8,
   "id": "4116e145",
   "metadata": {},
   "outputs": [
    {
     "data": {
      "text/plain": [
       "58.380"
      ]
     },
     "execution_count": 8,
     "metadata": {},
     "output_type": "execute_result"
    }
   ],
   "source": [
    "# sum(),len() 함수를 이용하여 산술평균 계산\n",
    "# 영어 과목의 평균 계산\n",
    "sum(df['english'])/len(df['english'])"
   ]
  },
  {
   "cell_type": "code",
   "execution_count": 9,
   "id": "767c72f9",
   "metadata": {},
   "outputs": [
    {
     "data": {
      "text/plain": [
       "58.380"
      ]
     },
     "execution_count": 9,
     "metadata": {},
     "output_type": "execute_result"
    }
   ],
   "source": [
    "# numpy의 mean() 함수를 이용하여 산술평균 계산\n",
    "np.mean(df['english'])"
   ]
  },
  {
   "cell_type": "code",
   "execution_count": 10,
   "id": "3ca85536",
   "metadata": {},
   "outputs": [
    {
     "data": {
      "text/plain": [
       "58.380"
      ]
     },
     "execution_count": 10,
     "metadata": {},
     "output_type": "execute_result"
    }
   ],
   "source": [
    "# pandas의 데이터프레임에서 mean() 함수를 이용하여 산술평균 계산\n",
    "df['english'].mean()"
   ]
  },
  {
   "cell_type": "code",
   "execution_count": 11,
   "id": "47b581bd",
   "metadata": {},
   "outputs": [
    {
     "name": "stderr",
     "output_type": "stream",
     "text": [
      "/var/folders/qk/0ttws_bs3s1fydtrkp_804nc0000gn/T/ipykernel_17956/1100671673.py:2: DeprecationWarning: scipy.mean is deprecated and will be removed in SciPy 2.0.0, use numpy.mean instead\n",
      "  sp.mean(df['english'])\n"
     ]
    },
    {
     "data": {
      "text/plain": [
       "58.380"
      ]
     },
     "execution_count": 11,
     "metadata": {},
     "output_type": "execute_result"
    }
   ],
   "source": [
    "# scipy의 mean() 함수를 이용하여 산술평균 계산\n",
    "sp.mean(df['english'])"
   ]
  },
  {
   "attachments": {},
   "cell_type": "markdown",
   "id": "7f35ec1d",
   "metadata": {},
   "source": [
    "**기하평균**\n",
    "- n개의 양수 값을 모두 곱한 것의 n 제곱근\n",
    "- 성장률의 평균\n",
    "\n",
    "예. 회사의 연 평균 매출 증가율\n",
    "- 1차년도에 200%, 2차년도에 800%, 3차년도에 300% 성장을 했다면 3개년도의 연 평균 성장율은?"
   ]
  },
  {
   "cell_type": "code",
   "execution_count": 12,
   "id": "e6a9e5e6",
   "metadata": {},
   "outputs": [],
   "source": [
    "data = [2,8,3]"
   ]
  },
  {
   "cell_type": "code",
   "execution_count": 13,
   "id": "c965bdf0",
   "metadata": {},
   "outputs": [
    {
     "data": {
      "text/plain": [
       "4.333333333333333"
      ]
     },
     "execution_count": 13,
     "metadata": {},
     "output_type": "execute_result"
    }
   ],
   "source": [
    "# 산술 평균\n",
    "np.mean(data)"
   ]
  },
  {
   "cell_type": "markdown",
   "id": "ec0063e2",
   "metadata": {},
   "source": [
    "- 매년 평균 430% 성장으로 나타남\n",
    "    - 1차년도에 430% 2차년도 430% 3차년도 430% 라면 전년대비 성장\n",
    "    - 이 회사는 3개년 동안 430 * 430 * 430 성장한게 되므로 총 79,507,000 성장한 상황이 됨\n",
    "- 실제 성장은 200 * 800 * 300 이므로 48,000,000 성장한 것과는 차이가 많이 남\n",
    "- 곱하기를 해서 나오는 값에 대한 평균은 산술평균보다는 기하평균 사용"
   ]
  },
  {
   "cell_type": "code",
   "execution_count": 15,
   "id": "7a88fcab",
   "metadata": {},
   "outputs": [
    {
     "data": {
      "text/plain": [
       "3.634"
      ]
     },
     "execution_count": 15,
     "metadata": {},
     "output_type": "execute_result"
    }
   ],
   "source": [
    "# 기하 평균\n",
    "# math.prod(data) : data를 다 곱해줌\n",
    "math.prod(data) **(1/len(data))\n"
   ]
  },
  {
   "cell_type": "code",
   "execution_count": 16,
   "id": "f167a3e0",
   "metadata": {},
   "outputs": [
    {
     "data": {
      "text/plain": [
       "3.634241185664279"
      ]
     },
     "execution_count": 16,
     "metadata": {},
     "output_type": "execute_result"
    }
   ],
   "source": [
    "# scipy.stats.gmean(a[,axis,dtype,weights]) 이용하여 기하 평균 계산\n",
    "gmean(data)"
   ]
  },
  {
   "attachments": {},
   "cell_type": "markdown",
   "id": "93f979f0",
   "metadata": {},
   "source": [
    "**조화 평균**\n",
    "- 비율 및 변화율에 대한 평균을 계산할 때 사용\n",
    "- 주어진 수들의 역수들의 산술평균에서 역수를 취한 값\n"
   ]
  },
  {
   "attachments": {},
   "cell_type": "markdown",
   "id": "bf38ceb2",
   "metadata": {},
   "source": [
    "**예.**\n",
    "100km 떨어진 도시까지 차로 다녀오면서 가는 길에는 시속 80km, 오는 길은 시속 120km로 달렸을 때 평균 속력은 얼마나 되는가?\n",
    "- 움직인 거리 : 200km\n",
    "- 움직인 시간 : 100/80 + 100/120\n"
   ]
  },
  {
   "cell_type": "code",
   "execution_count": 20,
   "id": "6c59804d",
   "metadata": {},
   "outputs": [
    {
     "data": {
      "text/plain": [
       "array([0.013, 0.008])"
      ]
     },
     "execution_count": 20,
     "metadata": {},
     "output_type": "execute_result"
    },
    {
     "data": {
      "text/plain": [
       "95.99999999999999"
      ]
     },
     "execution_count": 20,
     "metadata": {},
     "output_type": "execute_result"
    }
   ],
   "source": [
    "# 조화평균 계산\n",
    "data = np.array([80,120])\n",
    "1/data\n",
    "len(data)/np.sum(1/data) # 역수의 합을 분모"
   ]
  },
  {
   "cell_type": "code",
   "execution_count": 19,
   "id": "22dd7338",
   "metadata": {
    "scrolled": true
   },
   "outputs": [
    {
     "data": {
      "text/plain": [
       "95.99999999999999"
      ]
     },
     "execution_count": 19,
     "metadata": {},
     "output_type": "execute_result"
    }
   ],
   "source": [
    "# scipt.stat.hmean(a[,axis,dtype]) 이용하여 조화평균 계산\n",
    "hmean(data)"
   ]
  },
  {
   "cell_type": "markdown",
   "id": "8b42d24f",
   "metadata": {},
   "source": [
    "**가중평균**\n",
    "- numpy.average(a[,axis,weights,returned]) 이용"
   ]
  },
  {
   "cell_type": "code",
   "execution_count": 23,
   "id": "e611be71",
   "metadata": {},
   "outputs": [
    {
     "data": {
      "text/plain": [
       "2.5"
      ]
     },
     "execution_count": 23,
     "metadata": {},
     "output_type": "execute_result"
    },
    {
     "data": {
      "text/plain": [
       "4.0"
      ]
     },
     "execution_count": 23,
     "metadata": {},
     "output_type": "execute_result"
    }
   ],
   "source": [
    "np.average(np.arange(1,5))\n",
    "np.average(np.arange(1,11), weights=np.arange(10,0,-1))"
   ]
  },
  {
   "cell_type": "code",
   "execution_count": 24,
   "id": "7bf3e20f",
   "metadata": {},
   "outputs": [
    {
     "data": {
      "text/plain": [
       "5.5"
      ]
     },
     "execution_count": 24,
     "metadata": {},
     "output_type": "execute_result"
    }
   ],
   "source": [
    "np.mean(np.arange(1,11))"
   ]
  },
  {
   "attachments": {},
   "cell_type": "markdown",
   "id": "bacfdcc4",
   "metadata": {},
   "source": [
    "**중앙값(median)**\n",
    "- 중위수, 중간값\n",
    "- 데이터를 크기 순서대로 나열할 때 가운데 위치하는 숫자\n",
    "- 데이터의 개수가 홀수일 경우 : 가운데 위치하는 유일한 숫자\n",
    "- 데이터의 개수가 짝수일 경우 : 가운데 위치하는 2개의 숫자의 평균값\n",
    "\n",
    "\n",
    "\n",
    "- 특징\n",
    "    - 극단적인 값에 영향을 받지 않는 장점\n",
    "    - 가운데 위치하는 한 개 또는 두 개의 데이터만으로 계산\n",
    "    \n",
    "    \n",
    "- 극단적인 값이 포함된 데이터의 대표값 비교\n",
    "    - 평균 : 모든 데이터를 전부 고려하여 계산한 값, 무게 중심\n",
    "    - 중앙값 : 데이터의 개수와 순서만을 고려하여 계산\n",
    "    \n",
    "    \n",
    "- 예. 세 개의 추(10kg,20kg,60kg)가 있는 경우\n",
    "    - 평균은 세 무게의 균형을 나타내는 시소의 중심\n",
    "    - 중앙값은 개수(3)의 중앙(2)을 나타냄\n",
    "    - 만약 60kg의 추를 80kg으로 대체할 경우 평균을 나타내는 시소의 중심은 오른쪽으로 이동하지만, 중앙값은 변화하지 않고 그대로 20kg이 됨\n",
    "    \n"
   ]
  },
  {
   "cell_type": "code",
   "execution_count": 25,
   "id": "b77e9c30",
   "metadata": {},
   "outputs": [
    {
     "data": {
      "text/plain": [
       "array([42, 69, 56, 41, 57, 48, 65, 49, 65, 58, 70, 47, 51, 64, 62, 70, 71,\n",
       "       68, 73, 37, 65, 65, 61, 52, 57, 57, 75, 61, 47, 54, 66, 54, 54, 42,\n",
       "       37, 79, 56, 62, 62, 55, 63, 57, 57, 67, 55, 45, 66, 55, 64, 66])"
      ]
     },
     "execution_count": 25,
     "metadata": {},
     "output_type": "execute_result"
    }
   ],
   "source": [
    "# 예제 데이터\n",
    "scores = np.array(df['english'])\n",
    "scores"
   ]
  },
  {
   "cell_type": "code",
   "execution_count": 26,
   "id": "1bdd270d",
   "metadata": {},
   "outputs": [
    {
     "data": {
      "text/plain": [
       "array([37, 37, 41, 42, 42, 45, 47, 47, 48, 49, 51, 52, 54, 54, 54, 55, 55,\n",
       "       55, 56, 56, 57, 57, 57, 57, 57, 58, 61, 61, 62, 62, 62, 63, 64, 64,\n",
       "       65, 65, 65, 65, 66, 66, 66, 67, 68, 69, 70, 70, 71, 73, 75, 79])"
      ]
     },
     "execution_count": 26,
     "metadata": {},
     "output_type": "execute_result"
    }
   ],
   "source": [
    "# 순서 통계량\n",
    "sorted_scores = np.sort(scores)\n",
    "sorted_scores"
   ]
  },
  {
   "cell_type": "code",
   "execution_count": 28,
   "id": "ca4985af",
   "metadata": {},
   "outputs": [
    {
     "data": {
      "text/plain": [
       "57.5"
      ]
     },
     "execution_count": 28,
     "metadata": {},
     "output_type": "execute_result"
    }
   ],
   "source": [
    "# median 계산식\n",
    "n = len(sorted_scores)\n",
    "if n%2 == 0 :\n",
    "    # 짝수인 경우\n",
    "        x1 = sorted_scores[n//2-1]\n",
    "        x2 = sorted_scores[n//2]\n",
    "        median = (x1+x2)/2\n",
    "else :\n",
    "    # 홀수인 경우\n",
    "    median = sorted_scores[n+1//2-1]\n",
    "median"
   ]
  },
  {
   "cell_type": "code",
   "execution_count": 29,
   "id": "c2366a5f",
   "metadata": {},
   "outputs": [
    {
     "data": {
      "text/plain": [
       "(57, 58)"
      ]
     },
     "execution_count": 29,
     "metadata": {},
     "output_type": "execute_result"
    }
   ],
   "source": [
    "sorted_scores[24], sorted_scores[25]"
   ]
  },
  {
   "cell_type": "code",
   "execution_count": 30,
   "id": "2cb8f48c",
   "metadata": {},
   "outputs": [
    {
     "data": {
      "text/plain": [
       "57.5"
      ]
     },
     "execution_count": 30,
     "metadata": {},
     "output_type": "execute_result"
    }
   ],
   "source": [
    "# numpy의 median() 함수\n",
    "np.median(scores)"
   ]
  },
  {
   "cell_type": "code",
   "execution_count": 31,
   "id": "ddaad9f0",
   "metadata": {},
   "outputs": [
    {
     "data": {
      "text/plain": [
       "57.500"
      ]
     },
     "execution_count": 31,
     "metadata": {},
     "output_type": "execute_result"
    }
   ],
   "source": [
    "# pandas.DataFrame의 median() 함수\n",
    "df['english'].median()"
   ]
  },
  {
   "cell_type": "markdown",
   "id": "fb35c1ec",
   "metadata": {},
   "source": [
    "**절사 평균(trimmed mean)**\n",
    "- 평균의 장점과 중앙값의 장점을 갖는 대표값\n",
    "- 예.\n",
    "    - 체조, 다이빙, 피겨스케이팅 등에서 심판의 주관적인 편견을 배제, 보완하기 위해 제일 높은 점수와 제일 낮은 점수를 제외(중앙값을 장점)한 나머지 심판들의 점수에 대한 평균(평균의 장점)으로 판정\n",
    "- 절사비율(%)\n",
    "    - 전체 데이터의 개수에 대해 몇 %의 데이터(상위+하위)를 배제할 것인가 결정\n",
    "    - 예. 5개의 데이터에 대해 40% 절사평균\n",
    "        - 가장 낮은 점수와 가장 높은 점수 배제 시 절사비율은 40%(2/5)\n",
    "        \n",
    "**예**\n",
    "- 평균이 2백만원, 표준편차 50만원인 정규분포를 따르는 소득 데이터 100개 생성"
   ]
  },
  {
   "cell_type": "code",
   "execution_count": 32,
   "id": "a873b7fd",
   "metadata": {},
   "outputs": [
    {
     "data": {
      "text/plain": [
       "array([2894314.237, 2218254.925, 2048248.734, 1068253.648, 1861305.899,\n",
       "       1822620.51 , 1958629.259, 1686499.662, 1978090.916, 1761390.985])"
      ]
     },
     "execution_count": 32,
     "metadata": {},
     "output_type": "execute_result"
    }
   ],
   "source": [
    "np.random.seed(3)\n",
    "income = np.random.normal(2000000, 500000, 100) # 평균, 표준편차, 개수\n",
    "income[:10]"
   ]
  },
  {
   "cell_type": "code",
   "execution_count": 33,
   "id": "9f624dd1",
   "metadata": {},
   "outputs": [
    {
     "data": {
      "text/plain": [
       "1945681.4627969689"
      ]
     },
     "execution_count": 33,
     "metadata": {},
     "output_type": "execute_result"
    }
   ],
   "source": [
    "# 평균 소득\n",
    "np.mean(income)"
   ]
  },
  {
   "cell_type": "markdown",
   "id": "3c34eb17",
   "metadata": {},
   "source": [
    "- 소득이 10억인 사람 추가"
   ]
  },
  {
   "cell_type": "code",
   "execution_count": 34,
   "id": "1102f728",
   "metadata": {},
   "outputs": [],
   "source": [
    "income = np.append(income,10**9)"
   ]
  },
  {
   "cell_type": "code",
   "execution_count": 39,
   "id": "39582a57",
   "metadata": {
    "scrolled": true
   },
   "outputs": [
    {
     "data": {
      "text/plain": [
       "11827407.38890789"
      ]
     },
     "execution_count": 39,
     "metadata": {},
     "output_type": "execute_result"
    }
   ],
   "source": [
    "# 평균 소득\n",
    "np.mean(income)"
   ]
  },
  {
   "cell_type": "code",
   "execution_count": 38,
   "id": "f6a758c4",
   "metadata": {},
   "outputs": [
    {
     "data": {
      "text/plain": [
       "1919743.318406538"
      ]
     },
     "execution_count": 38,
     "metadata": {},
     "output_type": "execute_result"
    }
   ],
   "source": [
    "# 중앙값\n",
    "np.median(income)"
   ]
  },
  {
   "cell_type": "markdown",
   "id": "c7a36622",
   "metadata": {},
   "source": [
    "- 절사 평균 계산\n",
    "    - scipy.stats.trim_mean(a, proportiontocut[,axis]) 이용"
   ]
  },
  {
   "cell_type": "code",
   "execution_count": 40,
   "id": "fee4398e",
   "metadata": {},
   "outputs": [
    {
     "data": {
      "text/plain": [
       "1941471.0812132563"
      ]
     },
     "execution_count": 40,
     "metadata": {},
     "output_type": "execute_result"
    }
   ],
   "source": [
    "# scipy.stats.trim_mean(a, proportiontocut[,axis]) 이용\n",
    "trim_mean(income, 0.2)"
   ]
  },
  {
   "cell_type": "markdown",
   "id": "2941a3f5",
   "metadata": {},
   "source": [
    "### 최빈값(mode)\n",
    "- 자료 중 가장 자주 나타나는 (빈도가 가장 많은) 관측치\n",
    "    - 평균, 중위수와 달리 자료에 따라 존재하지 않을수도 있고, 유일한 값이 아닐 수도 있음\n",
    "    - 질적 변수에도 활용\n",
    "- 중앙값과 최빈값의 특징\n",
    "    - 자료 속에 극단적인 이상치가 있는 경우 극단적 관찰치에 덜 민감한 중앙값을 사용\n",
    "    - 자료의 분포가 비대칭인 경우 평균의 보조 자료로 활용\n",
    "    - 개방 구간을 갖는 도수분포표의 경우 중앙값 또는 최빈값을 대표값으로 사용\n",
    "    - 명목자료와 서열자료의 경우 최빈값 사용\n",
    "    \n",
    "    \n",
    "**최빈값 계산**\n",
    "- 한 변수가 가장 많이 취한 값을 의미, 범주형 변수에 대해서만 적용"
   ]
  },
  {
   "cell_type": "code",
   "execution_count": 41,
   "id": "7dd7a751",
   "metadata": {},
   "outputs": [
    {
     "data": {
      "text/plain": [
       "array(['C', 'A', 'B', 'A', 'A', 'A', 'B', 'B', 'C', 'B'], dtype='<U1')"
      ]
     },
     "execution_count": 41,
     "metadata": {},
     "output_type": "execute_result"
    },
    {
     "data": {
      "text/plain": [
       "1000"
      ]
     },
     "execution_count": 41,
     "metadata": {},
     "output_type": "execute_result"
    }
   ],
   "source": [
    "np.random.seed(3)\n",
    "data = np.random.choice(['A','B','C'],1000)\n",
    "# A,B,C라는 요소로 이뤄진 데이터\n",
    "data[:10]\n",
    "len(data)"
   ]
  },
  {
   "cell_type": "markdown",
   "id": "65495fda",
   "metadata": {},
   "source": [
    "**scipy.stats.mode(a[,axis,nan_policy]) 함수 이용하여 최빈값 계산**\n",
    "- mode(a) : 최빈값과 빈도 반환\n",
    "- mode(a).mode : 최빈값\n",
    "- mode(a).count : 빈도"
   ]
  },
  {
   "cell_type": "code",
   "execution_count": 42,
   "id": "a2781068",
   "metadata": {},
   "outputs": [
    {
     "data": {
      "text/plain": [
       "ModeResult(mode=array(['A'], dtype='<U1'), count=array([350]))"
      ]
     },
     "execution_count": 42,
     "metadata": {},
     "output_type": "execute_result"
    }
   ],
   "source": [
    "mode(data)"
   ]
  },
  {
   "cell_type": "code",
   "execution_count": 43,
   "id": "41f69bac",
   "metadata": {},
   "outputs": [
    {
     "data": {
      "text/plain": [
       "array(['A'], dtype='<U1')"
      ]
     },
     "execution_count": 43,
     "metadata": {},
     "output_type": "execute_result"
    }
   ],
   "source": [
    "# 최빈값\n",
    "mode(data).mode # 어떤 데이터가 가장 많은지"
   ]
  },
  {
   "cell_type": "code",
   "execution_count": 44,
   "id": "a9e2e610",
   "metadata": {},
   "outputs": [
    {
     "data": {
      "text/plain": [
       "array([350])"
      ]
     },
     "execution_count": 44,
     "metadata": {},
     "output_type": "execute_result"
    }
   ],
   "source": [
    "# 최빈값의 빈도\n",
    "mode(data).count #가장 많은 데이터의 개수"
   ]
  },
  {
   "cell_type": "markdown",
   "id": "eb0fc0ba",
   "metadata": {},
   "source": [
    "**pandas_Series의 value_counts()를 이용하여 첫번째 결과가 최빈값**"
   ]
  },
  {
   "cell_type": "code",
   "execution_count": 45,
   "id": "16f41a26",
   "metadata": {},
   "outputs": [
    {
     "data": {
      "text/plain": [
       "A    350\n",
       "B    328\n",
       "C    322\n",
       "dtype: int64"
      ]
     },
     "execution_count": 45,
     "metadata": {},
     "output_type": "execute_result"
    }
   ],
   "source": [
    "pd.Series(data).value_counts()"
   ]
  },
  {
   "cell_type": "code",
   "execution_count": 46,
   "id": "6105efe6",
   "metadata": {},
   "outputs": [
    {
     "data": {
      "text/plain": [
       "'A'"
      ]
     },
     "execution_count": 46,
     "metadata": {},
     "output_type": "execute_result"
    },
    {
     "data": {
      "text/plain": [
       "350"
      ]
     },
     "execution_count": 46,
     "metadata": {},
     "output_type": "execute_result"
    }
   ],
   "source": [
    "pd.Series(data).value_counts().index[0] # 최빈값 (mode(data).mode)\n",
    "pd.Series(data).value_counts()[0] # 빈도 (mode(data).count)"
   ]
  },
  {
   "cell_type": "markdown",
   "id": "4fd9a805",
   "metadata": {},
   "source": [
    "**예제 데이터 생성**"
   ]
  },
  {
   "cell_type": "code",
   "execution_count": 47,
   "id": "08274b73",
   "metadata": {},
   "outputs": [
    {
     "data": {
      "text/plain": [
       "array([ 78.287, 119.947, 105.66 ,  69.874,  88.428, 133.029,  51.466,\n",
       "        91.422, 125.319,  82.665])"
      ]
     },
     "execution_count": 47,
     "metadata": {},
     "output_type": "execute_result"
    }
   ],
   "source": [
    "np.random.seed(123)\n",
    "data = np.random.normal(100, 20, size=1000)\n",
    "data[:10]"
   ]
  },
  {
   "cell_type": "markdown",
   "id": "8df9c9b0",
   "metadata": {},
   "source": [
    "### 최소값, 최대값"
   ]
  },
  {
   "cell_type": "code",
   "execution_count": 49,
   "id": "58a728ec",
   "metadata": {
    "scrolled": true
   },
   "outputs": [
    {
     "data": {
      "text/plain": [
       "(35.37889984161376, 171.43158436052622)"
      ]
     },
     "execution_count": 49,
     "metadata": {},
     "output_type": "execute_result"
    }
   ],
   "source": [
    "sorted(data)[0], sorted(data)[-1] # 가장 처음 값(최소값) , 가장 마지막 값(최대값)"
   ]
  },
  {
   "cell_type": "code",
   "execution_count": 50,
   "id": "8972df48",
   "metadata": {},
   "outputs": [
    {
     "data": {
      "text/plain": [
       "35.37889984161376"
      ]
     },
     "execution_count": 50,
     "metadata": {},
     "output_type": "execute_result"
    },
    {
     "data": {
      "text/plain": [
       "171.43158436052622"
      ]
     },
     "execution_count": 50,
     "metadata": {},
     "output_type": "execute_result"
    }
   ],
   "source": [
    "# numpy의 min(), max() 함수 이용\n",
    "np.min(data)\n",
    "np.max(data)"
   ]
  },
  {
   "cell_type": "markdown",
   "id": "25f7c7fb",
   "metadata": {},
   "source": [
    "### 사분위수(quartile)\n",
    "- 자료를 크기 순으로 늘어 놓은 수 4등분하여 각각의 경계에 있는 수\n",
    "    - 제 1사분위수(하사분위수, Q1, the first quartile)\n",
    "        - 자료의 ¼, 25%에 해당하는 값\n",
    "        - Q1 = (n+1)1/4 = (n+1)25/100 번째 순위 값\n",
    "    - 제 2사분위수(중위수, Q2, the second quartile)\n",
    "        - 자료의 2/4, 50%에 해당하는 값\n",
    "    - 제 3사분위수(상사분위수, Q3, the third quartile)\n",
    "        - 자료의 ¾, 75%에 해당하는 값\n",
    "        - Q3 = (n+1)3/4 = (n+1)75/100 번째 순위 값\n",
    "\n",
    "### 백분위수(percentile)\n",
    "- 크기 순으로 나열한 수들을 백등분하여 각각의 경계에 있는 수\n",
    "    - 제 25백분위수\n",
    "        - 자료의 ¼, 25%에 해당하는 값\n",
    "        - 제1사분위수와 같음(Q1)\n",
    "        - Q1 = (n+1)1/4 = (n+1)25/100 번째 순위 값\n",
    "    - 제 50백분위수\n",
    "        - 자료의 2/4, 50%에 해당하는 값\n",
    "        - 제2사분위수(중앙값)\n",
    "    - 제 75백분위수\n",
    "        - 자료의 ¾, 75%에 해당하는 값\n",
    "        - Q3 = (n+1)3/4 = (n+1)75/100 번째 순위 값\n",
    "\n",
    "**numpy.percentile(a, q[,axis,out, ...]) 함수 이용하여 사분위수, 백분위수 계산**"
   ]
  },
  {
   "cell_type": "code",
   "execution_count": 51,
   "id": "f76dba3a",
   "metadata": {},
   "outputs": [
    {
     "data": {
      "text/plain": [
       "86.30886819268538"
      ]
     },
     "execution_count": 51,
     "metadata": {},
     "output_type": "execute_result"
    }
   ],
   "source": [
    "# 제1사분위수(하사분위수, Q1)\n",
    "np.percentile(data,25)"
   ]
  },
  {
   "cell_type": "code",
   "execution_count": 52,
   "id": "2b242dcc",
   "metadata": {},
   "outputs": [
    {
     "data": {
      "text/plain": [
       "113.37731495435875"
      ]
     },
     "execution_count": 52,
     "metadata": {},
     "output_type": "execute_result"
    }
   ],
   "source": [
    "# 제3사분위수(상사분위수, Q3)\n",
    "np.percentile(data,75)"
   ]
  },
  {
   "cell_type": "code",
   "execution_count": 53,
   "id": "0b5eb2c4",
   "metadata": {},
   "outputs": [
    {
     "data": {
      "text/plain": [
       "99.17628889574436"
      ]
     },
     "execution_count": 53,
     "metadata": {},
     "output_type": "execute_result"
    }
   ],
   "source": [
    "# 제2사분위수(중위수, Q2)\n",
    "np.percentile(data,50)"
   ]
  },
  {
   "attachments": {},
   "cell_type": "markdown",
   "id": "e846ed39",
   "metadata": {},
   "source": [
    "### 5가 통계량\n",
    "- 최소값, 제1사분위수, 중위수, 제3사분위수, 최대값\n",
    "- 상자-수염그림(boxplot)\n"
   ]
  },
  {
   "cell_type": "code",
   "execution_count": 54,
   "id": "cf01a30b",
   "metadata": {},
   "outputs": [
    {
     "data": {
      "text/plain": [
       "{'whiskers': [<matplotlib.lines.Line2D at 0x7fb2d1fa1100>,\n",
       "  <matplotlib.lines.Line2D at 0x7fb2d1fa13d0>],\n",
       " 'caps': [<matplotlib.lines.Line2D at 0x7fb2d1fa1760>,\n",
       "  <matplotlib.lines.Line2D at 0x7fb2d1fa1af0>],\n",
       " 'boxes': [<matplotlib.lines.Line2D at 0x7fb2d1f8bc70>],\n",
       " 'medians': [<matplotlib.lines.Line2D at 0x7fb2d1fa1e80>],\n",
       " 'fliers': [<matplotlib.lines.Line2D at 0x7fb2d1fac250>],\n",
       " 'means': []}"
      ]
     },
     "execution_count": 54,
     "metadata": {},
     "output_type": "execute_result"
    },
    {
     "data": {
      "image/png": "[encoded data removed]",
      "text/plain": [
       "<Figure size 432x288 with 1 Axes>"
      ]
     },
     "metadata": {
      "needs_background": "light"
     },
     "output_type": "display_data"
    }
   ],
   "source": [
    "import matplotlib.pyplot as plt\n",
    "\n",
    "plt.boxplot(data)"
   ]
  },
  {
   "cell_type": "markdown",
   "id": "fe19c71d",
   "metadata": {},
   "source": [
    "### 기술통계량 계산 함수 : describe()\n",
    "\n",
    "- 관측값수, 범위, 평균, 분산, 왜도, 첨도 계산\n",
    "- pandas.Series.describe(percentiles=None, include=None, exclude=None, datatime_is_numeric=False)\n",
    "- pandas.DataFrame.describe(percentiles=None, include=None, exclude=None, datatime_is_numeric=False)\n",
    "- scipt.stats.descirbe(a[,axis,ddof=1,bias,nan_policy])"
   ]
  },
  {
   "cell_type": "code",
   "execution_count": 55,
   "id": "8b5e2b50",
   "metadata": {},
   "outputs": [
    {
     "data": {
      "text/plain": [
       "DescribeResult(nobs=1000, minmax=(35.37889984161376, 171.43158436052622), mean=99.20871727838417, variance=401.03130940853094, skewness=-0.029040113501245676, kurtosis=-0.02543852877769215)"
      ]
     },
     "execution_count": 55,
     "metadata": {},
     "output_type": "execute_result"
    },
    {
     "data": {
      "text/plain": [
       "DescribeResult(nobs=50, minmax=(37, 79), mean=58.38, variance=96.03632653061224, skewness=-0.3167932532496243, kurtosis=-0.38870454364589113)"
      ]
     },
     "execution_count": 55,
     "metadata": {},
     "output_type": "execute_result"
    }
   ],
   "source": [
    "describe(data)\n",
    "describe(df['english']) # 표본집단 데이터에 대한 기술통계량"
   ]
  },
  {
   "cell_type": "code",
   "execution_count": 56,
   "id": "23cfa924",
   "metadata": {},
   "outputs": [
    {
     "data": {
      "text/plain": [
       "count    50.00\n",
       "mean     58.38\n",
       "std       9.80\n",
       "min      37.00\n",
       "25%      54.00\n",
       "50%      57.50\n",
       "75%      65.00\n",
       "max      79.00\n",
       "Name: english, dtype: float64"
      ]
     },
     "execution_count": 56,
     "metadata": {},
     "output_type": "execute_result"
    }
   ],
   "source": [
    "df['english'].describe()"
   ]
  },
  {
   "cell_type": "code",
   "execution_count": 57,
   "id": "0ecca31c",
   "metadata": {},
   "outputs": [
    {
     "data": {
      "text/plain": [
       "DescribeResult(nobs=50, minmax=(37, 79), mean=58.38, variance=94.1156, skewness=-0.3167932532496243, kurtosis=-0.38870454364589113)"
      ]
     },
     "execution_count": 57,
     "metadata": {},
     "output_type": "execute_result"
    }
   ],
   "source": [
    "describe(df['english'], ddof=0) # ddof= 0 : 모집단 데이터에 대한 기술통계량"
   ]
  }
 ],
 "metadata": {
  "kernelspec": {
   "display_name": "Python 3 (ipykernel)",
   "language": "python",
   "name": "python3"
  },
  "language_info": {
   "codemirror_mode": {
    "name": "ipython",
    "version": 3
   },
   "file_extension": ".py",
   "mimetype": "text/x-python",
   "name": "python",
   "nbconvert_exporter": "python",
   "pygments_lexer": "ipython3",
   "version": "3.9.7"
  }
 },
 "nbformat": 4,
 "nbformat_minor": 5
}
