{
 "cells": [
  {
   "cell_type": "markdown",
   "id": "eb8cc0e2",
   "metadata": {},
   "source": [
    "# 0107_1~2_Numpy 연산과 인덱싱\n",
    "> 1. 통계를 위한 연산\n",
    "> 2. 행렬 연산\n",
    "\n",
    "# 1. 통계를 위한 연산\n",
    "- 배열의 합, 평균, 표준편차, 분산, 최소값, 최대값, 누적합, 누적곱 등\n",
    "- http://numpy.org/doc/stable/reference/routines.statistics.html"
   ]
  },
  {
   "cell_type": "code",
   "execution_count": 1,
   "id": "b3743dc0",
   "metadata": {},
   "outputs": [],
   "source": [
    "import numpy as np"
   ]
  },
  {
   "cell_type": "code",
   "execution_count": 2,
   "id": "94fc08e3",
   "metadata": {},
   "outputs": [
    {
     "data": {
      "text/plain": [
       "array([0, 1, 2, 3, 4])"
      ]
     },
     "execution_count": 2,
     "metadata": {},
     "output_type": "execute_result"
    }
   ],
   "source": [
    "arr1 = np.arange(5)\n",
    "arr1"
   ]
  },
  {
   "cell_type": "code",
   "execution_count": 5,
   "id": "44d62a7f",
   "metadata": {},
   "outputs": [
    {
     "data": {
      "text/plain": [
       "[10, 2.0]"
      ]
     },
     "execution_count": 5,
     "metadata": {},
     "output_type": "execute_result"
    }
   ],
   "source": [
    "# 합 : (sum),  (산술)평균 : (min)\n",
    "[arr1.sum(),arr1.mean()]"
   ]
  },
  {
   "cell_type": "code",
   "execution_count": 6,
   "id": "2ef81c0b",
   "metadata": {},
   "outputs": [
    {
     "data": {
      "text/plain": [
       "[1.4142135623730951, 2.0]"
      ]
     },
     "execution_count": 6,
     "metadata": {},
     "output_type": "execute_result"
    }
   ],
   "source": [
    "# 표준편차 : std(), 분산 : var()\n",
    "[arr1.std(),arr1.var()]"
   ]
  },
  {
   "cell_type": "code",
   "execution_count": 7,
   "id": "e8f4bd1e",
   "metadata": {},
   "outputs": [
    {
     "data": {
      "text/plain": [
       "[0, 4]"
      ]
     },
     "execution_count": 7,
     "metadata": {},
     "output_type": "execute_result"
    }
   ],
   "source": [
    "# 최소값 : min(), 최대값 : max()\n",
    "[arr1.min(),arr1.max()]"
   ]
  },
  {
   "cell_type": "code",
   "execution_count": 9,
   "id": "10ef327a",
   "metadata": {},
   "outputs": [
    {
     "data": {
      "text/plain": [
       "array([1, 2, 3, 4])"
      ]
     },
     "execution_count": 9,
     "metadata": {},
     "output_type": "execute_result"
    }
   ],
   "source": [
    "# 누적합 : cumsum(), 누적곱 : cumprod()\n",
    "arr2 = np.arange(1,5)\n",
    "arr2"
   ]
  },
  {
   "cell_type": "code",
   "execution_count": 10,
   "id": "ca5af403",
   "metadata": {},
   "outputs": [
    {
     "data": {
      "text/plain": [
       "array([ 1,  3,  6, 10])"
      ]
     },
     "execution_count": 10,
     "metadata": {},
     "output_type": "execute_result"
    }
   ],
   "source": [
    "# 누적합 : cumsum()\n",
    "arr2.cumsum()"
   ]
  },
  {
   "cell_type": "code",
   "execution_count": 11,
   "id": "5bfc014f",
   "metadata": {},
   "outputs": [
    {
     "data": {
      "text/plain": [
       "array([ 1,  2,  6, 24])"
      ]
     },
     "execution_count": 11,
     "metadata": {},
     "output_type": "execute_result"
    }
   ],
   "source": [
    "# 누적곱 : cumprod()\n",
    "arr2.cumprod()"
   ]
  },
  {
   "cell_type": "markdown",
   "id": "96678bd9",
   "metadata": {},
   "source": [
    "# 2. 행렬 연산\n",
    "\n",
    "- 선형 대수(Linear algebra)를 위한 행렬(2차원 배열)연산\n",
    "- 행렬 곱, 전치 행렬, 역행렬, 행렬식 등\n",
    "    - 행렬곱(matrix product) : A.dot(B) or np.dot(A,B)\n",
    "    - 전치행렬(transpose matrix) : A.transpose() or np.transpose(A)\n",
    "    - 역행렬(inverse matrix) : np.linalg.inv(A)\n",
    "    - 행렬식(determinant) : np.linalg.det(A)"
   ]
  },
  {
   "cell_type": "code",
   "execution_count": 12,
   "id": "f4d2696b",
   "metadata": {},
   "outputs": [
    {
     "data": {
      "text/plain": [
       "array([[1, 2],\n",
       "       [3, 4]])"
      ]
     },
     "execution_count": 12,
     "metadata": {},
     "output_type": "execute_result"
    }
   ],
   "source": [
    "A = np.arange(1,5).reshape(2,2)\n",
    "# A = np.array([1,2],[3,4])\n",
    "# A = np.array([1,2,3,4]).reshape(2,2)\n",
    "A"
   ]
  },
  {
   "cell_type": "code",
   "execution_count": 14,
   "id": "0c33040e",
   "metadata": {},
   "outputs": [
    {
     "data": {
      "text/plain": [
       "array([[3, 2],\n",
       "       [0, 1]])"
      ]
     },
     "execution_count": 14,
     "metadata": {},
     "output_type": "execute_result"
    }
   ],
   "source": [
    "B = np.array([[3,2],[0,1]])\n",
    "# B = np.array([3,2,0,1]).reshape(2,2)\n",
    "B"
   ]
  },
  {
   "cell_type": "markdown",
   "id": "561e6c7d",
   "metadata": {},
   "source": [
    "## 1) 행렬의 곱 (matrix product)"
   ]
  },
  {
   "cell_type": "code",
   "execution_count": 16,
   "id": "2b556b26",
   "metadata": {},
   "outputs": [
    {
     "data": {
      "text/plain": [
       "array([[ 3,  4],\n",
       "       [ 9, 10]])"
      ]
     },
     "execution_count": 16,
     "metadata": {},
     "output_type": "execute_result"
    }
   ],
   "source": [
    "# 행렬의 곱\n",
    "# 방법 1\n",
    "A.dot(B)"
   ]
  },
  {
   "cell_type": "code",
   "execution_count": 17,
   "id": "abfd692d",
   "metadata": {},
   "outputs": [
    {
     "data": {
      "text/plain": [
       "array([[ 3,  4],\n",
       "       [ 9, 10]])"
      ]
     },
     "execution_count": 17,
     "metadata": {},
     "output_type": "execute_result"
    }
   ],
   "source": [
    "# 방법 2\n",
    "np.dot(A,B)"
   ]
  },
  {
   "cell_type": "markdown",
   "id": "906d42f0",
   "metadata": {},
   "source": [
    "## 2) 전치행렬(transpose matrix)"
   ]
  },
  {
   "cell_type": "code",
   "execution_count": 19,
   "id": "540b6ab4",
   "metadata": {},
   "outputs": [
    {
     "data": {
      "text/plain": [
       "(array([[1, 2],\n",
       "        [3, 4]]),\n",
       " array([[1, 3],\n",
       "        [2, 4]]))"
      ]
     },
     "execution_count": 19,
     "metadata": {},
     "output_type": "execute_result"
    }
   ],
   "source": [
    "# 전치행렬\n",
    "# 방법 1\n",
    "A,A.transpose()"
   ]
  },
  {
   "cell_type": "code",
   "execution_count": 21,
   "id": "17ecbf11",
   "metadata": {},
   "outputs": [
    {
     "data": {
      "text/plain": [
       "array([[1, 3],\n",
       "       [2, 4]])"
      ]
     },
     "execution_count": 21,
     "metadata": {},
     "output_type": "execute_result"
    }
   ],
   "source": [
    "# 방법 2\n",
    "np.transpose(A)"
   ]
  },
  {
   "cell_type": "markdown",
   "id": "296b9cec",
   "metadata": {},
   "source": [
    "## 3) 역행렬(inverse matrix)"
   ]
  },
  {
   "cell_type": "code",
   "execution_count": 22,
   "id": "aecd5743",
   "metadata": {
    "scrolled": true
   },
   "outputs": [
    {
     "data": {
      "text/plain": [
       "(array([[1, 2],\n",
       "        [3, 4]]),\n",
       " array([[-2. ,  1. ],\n",
       "        [ 1.5, -0.5]]))"
      ]
     },
     "execution_count": 22,
     "metadata": {},
     "output_type": "execute_result"
    }
   ],
   "source": [
    "# 역행렬 \n",
    "A, np.linalg.inv(A)"
   ]
  },
  {
   "cell_type": "code",
   "execution_count": 24,
   "id": "4f03788c",
   "metadata": {},
   "outputs": [
    {
     "data": {
      "text/plain": [
       "array([[1.00000000e+00, 1.11022302e-16],\n",
       "       [0.00000000e+00, 1.00000000e+00]])"
      ]
     },
     "execution_count": 24,
     "metadata": {},
     "output_type": "execute_result"
    }
   ],
   "source": [
    "np.dot(A,np.linalg.inv(A)) # [1,0],[0,1] # 대각요소만 1"
   ]
  },
  {
   "cell_type": "markdown",
   "id": "a8e219e8",
   "metadata": {},
   "source": [
    "## 4) 행렬식(determinant)"
   ]
  },
  {
   "cell_type": "code",
   "execution_count": 23,
   "id": "5ceb8e58",
   "metadata": {
    "scrolled": true
   },
   "outputs": [
    {
     "data": {
      "text/plain": [
       "(array([[1, 2],\n",
       "        [3, 4]]),\n",
       " -2.0000000000000004)"
      ]
     },
     "execution_count": 23,
     "metadata": {},
     "output_type": "execute_result"
    }
   ],
   "source": [
    "# 행렬식 \n",
    "A, np.linalg.det(A)"
   ]
  }
 ],
 "metadata": {
  "kernelspec": {
   "display_name": "Python 3 (ipykernel)",
   "language": "python",
   "name": "python3"
  },
  "language_info": {
   "codemirror_mode": {
    "name": "ipython",
    "version": 3
   },
   "file_extension": ".py",
   "mimetype": "text/x-python",
   "name": "python",
   "nbconvert_exporter": "python",
   "pygments_lexer": "ipython3",
   "version": "3.9.7"
  }
 },
 "nbformat": 4,
 "nbformat_minor": 5
}
