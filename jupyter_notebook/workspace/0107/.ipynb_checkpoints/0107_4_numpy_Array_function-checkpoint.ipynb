{
 "cells": [
  {
   "cell_type": "markdown",
   "id": "6defd5bc",
   "metadata": {},
   "source": [
    "# 0107_4_Numpy array_function\n",
    "> 4. array에 적용되는 다양한 함수"
   ]
  },
  {
   "cell_type": "markdown",
   "id": "fd10dfa0",
   "metadata": {},
   "source": [
    "# 4. array에 적용되는 다양한 함수\n",
    "## A) 하나의 array에 적용되는 함수\n",
    "### 1. random.randn(d0,d1,...,dn) : 표준 정규 난수 생성"
   ]
  },
  {
   "cell_type": "code",
   "execution_count": 3,
   "id": "1173f111",
   "metadata": {},
   "outputs": [],
   "source": [
    "import numpy as np"
   ]
  },
  {
   "cell_type": "code",
   "execution_count": 4,
   "id": "9625a6f8",
   "metadata": {},
   "outputs": [
    {
     "data": {
      "text/plain": [
       "array([[ 1.76652859,  0.31186576,  0.53283724],\n",
       "       [ 0.84221933,  0.09779725,  0.77962964],\n",
       "       [ 0.71329193, -0.34832029,  1.06046698],\n",
       "       [ 0.95692202, -0.55008957,  0.10835651],\n",
       "       [ 0.76919125,  1.27557385,  1.76781356]])"
      ]
     },
     "execution_count": 4,
     "metadata": {},
     "output_type": "execute_result"
    }
   ],
   "source": [
    "# 5행 3열의 실수난수 배열 생성\n",
    "data = np.random.randn(5,3)\n",
    "data"
   ]
  },
  {
   "cell_type": "markdown",
   "id": "8d569566",
   "metadata": {},
   "source": [
    "### 2. 수학 관련 함수\n",
    "- 제곱근,절대값, 삼각함수, 지수로그함수, 반올림함수 등\n",
    "https://numpy.org/doc/stable/reference/routines.math.html\n",
    "\n",
    "#### 1) 절대값, 제곱근, 제곱"
   ]
  },
  {
   "cell_type": "code",
   "execution_count": 5,
   "id": "5cad18d8",
   "metadata": {},
   "outputs": [
    {
     "data": {
      "text/plain": [
       "array([[1.76652859, 0.31186576, 0.53283724],\n",
       "       [0.84221933, 0.09779725, 0.77962964],\n",
       "       [0.71329193, 0.34832029, 1.06046698],\n",
       "       [0.95692202, 0.55008957, 0.10835651],\n",
       "       [0.76919125, 1.27557385, 1.76781356]])"
      ]
     },
     "execution_count": 5,
     "metadata": {},
     "output_type": "execute_result"
    }
   ],
   "source": [
    "# 각 성분의 절대값 계산하기\n",
    "np.abs(data)"
   ]
  },
  {
   "cell_type": "code",
   "execution_count": 6,
   "id": "72302aab",
   "metadata": {},
   "outputs": [
    {
     "data": {
      "text/plain": [
       "array([[1.32910819, 0.55844942, 0.72995701],\n",
       "       [0.91772509, 0.31272552, 0.88296639],\n",
       "       [0.84456612, 0.59018665, 1.02978978],\n",
       "       [0.97822391, 0.74168024, 0.3291755 ],\n",
       "       [0.87703549, 1.12941306, 1.3295915 ]])"
      ]
     },
     "execution_count": 6,
     "metadata": {},
     "output_type": "execute_result"
    }
   ],
   "source": [
    "# 각 성분의 제곱근 계산하기 : data ** 0.5\n",
    "np.sqrt(np.abs(data))"
   ]
  },
  {
   "cell_type": "code",
   "execution_count": 7,
   "id": "ef0bf02f",
   "metadata": {},
   "outputs": [
    {
     "data": {
      "text/plain": [
       "array([[3.12062324, 0.09726025, 0.28391553],\n",
       "       [0.7093334 , 0.0095643 , 0.60782237],\n",
       "       [0.50878537, 0.12132702, 1.12459022],\n",
       "       [0.91569974, 0.30259854, 0.01174113],\n",
       "       [0.59165518, 1.62708865, 3.12516479]])"
      ]
     },
     "execution_count": 7,
     "metadata": {},
     "output_type": "execute_result"
    }
   ],
   "source": [
    "# 각 성분의 제곱 계산하기\n",
    "np.square(data)"
   ]
  },
  {
   "cell_type": "markdown",
   "id": "1fc56d10",
   "metadata": {},
   "source": [
    "#### 2) 지수함수"
   ]
  },
  {
   "cell_type": "code",
   "execution_count": 9,
   "id": "f1f478f9",
   "metadata": {},
   "outputs": [
    {
     "data": {
      "text/plain": [
       "array([[5.85050853, 1.36597131, 1.70375944],\n",
       "       [2.32151347, 1.10273918, 2.18066448],\n",
       "       [2.04069804, 0.70587276, 2.88771919],\n",
       "       [2.60367007, 0.57689813, 1.11444499],\n",
       "       [2.15802025, 3.58075564, 5.85803112]])"
      ]
     },
     "execution_count": 9,
     "metadata": {},
     "output_type": "execute_result"
    }
   ],
   "source": [
    "# 각 성분을 자연대수 e의 지수로 삼은 값을 계산하기 : e^x\n",
    "np.exp(data)"
   ]
  },
  {
   "cell_type": "markdown",
   "id": "886912a2",
   "metadata": {},
   "source": [
    "#### 3) 로그함수\n",
    "    - 자연로그 : log()\n",
    "    - 상용로그 : log10()\n",
    "    - 밑이 2인 로그 : log2()"
   ]
  },
  {
   "cell_type": "code",
   "execution_count": 11,
   "id": "11e70780",
   "metadata": {},
   "outputs": [
    {
     "data": {
      "text/plain": [
       "array([[ 0.56901637, -1.16518245, -0.62953926],\n",
       "       [-0.17171481, -2.32485882, -0.2489363 ],\n",
       "       [-0.33786451, -1.05463286,  0.05870936],\n",
       "       [-0.04403338, -0.59767416, -2.22232845],\n",
       "       [-0.26241564,  0.24339616,  0.56974351]])"
      ]
     },
     "execution_count": 11,
     "metadata": {},
     "output_type": "execute_result"
    }
   ],
   "source": [
    "# 자연로그\n",
    "np.log(abs(data))"
   ]
  },
  {
   "cell_type": "code",
   "execution_count": 12,
   "id": "931576c4",
   "metadata": {},
   "outputs": [
    {
     "data": {
      "text/plain": [
       "array([[ 0.24712067, -0.50603231, -0.27340543],\n",
       "       [-0.07457479, -1.00967335, -0.10811166],\n",
       "       [-0.14673269, -0.45802123,  0.02549715],\n",
       "       [-0.01912345, -0.25956659, -0.96514498],\n",
       "       [-0.11396566,  0.10570561,  0.24743646]])"
      ]
     },
     "execution_count": 12,
     "metadata": {},
     "output_type": "execute_result"
    }
   ],
   "source": [
    "# 상용로그\n",
    "np.log10(abs(data))"
   ]
  },
  {
   "cell_type": "code",
   "execution_count": 13,
   "id": "c9f175ac",
   "metadata": {},
   "outputs": [
    {
     "data": {
      "text/plain": [
       "array([[ 0.8209171 , -1.68100294, -0.90823317],\n",
       "       [-0.2477321 , -3.35406228, -0.35913916],\n",
       "       [-0.48743545, -1.52151359,  0.0846997 ],\n",
       "       [-0.06352674, -0.86226154, -3.20614224],\n",
       "       [-0.37858574,  0.35114643,  0.82196613]])"
      ]
     },
     "execution_count": 13,
     "metadata": {},
     "output_type": "execute_result"
    }
   ],
   "source": [
    "# 밑이 2인 로그\n",
    "np.log2(abs(data))"
   ]
  },
  {
   "cell_type": "markdown",
   "id": "3171ba74",
   "metadata": {},
   "source": [
    "#### 4) 각 성분의 부호 계산 : sign() (+인 경우 1, -인 경우 -1, 0인 경우 0)\n",
    "\n",
    "- 반올림 함수"
   ]
  },
  {
   "cell_type": "code",
   "execution_count": 14,
   "id": "27fcda72",
   "metadata": {},
   "outputs": [
    {
     "data": {
      "text/plain": [
       "array([[ 1.76652859,  0.31186576,  0.53283724],\n",
       "       [ 0.84221933,  0.09779725,  0.77962964],\n",
       "       [ 0.71329193, -0.34832029,  1.06046698],\n",
       "       [ 0.95692202, -0.55008957,  0.10835651],\n",
       "       [ 0.76919125,  1.27557385,  1.76781356]])"
      ]
     },
     "execution_count": 14,
     "metadata": {},
     "output_type": "execute_result"
    }
   ],
   "source": [
    "data"
   ]
  },
  {
   "cell_type": "code",
   "execution_count": 15,
   "id": "5209584f",
   "metadata": {},
   "outputs": [
    {
     "data": {
      "text/plain": [
       "array([[ 1.,  0.,  0.],\n",
       "       [ 0.,  0.,  0.],\n",
       "       [ 0., -1.,  1.],\n",
       "       [ 0., -1.,  0.],\n",
       "       [ 0.,  1.,  1.]])"
      ]
     },
     "execution_count": 15,
     "metadata": {},
     "output_type": "execute_result"
    }
   ],
   "source": [
    "#각 성분의 소수 첫 번째 자리에서 내림한 값을 계산하기\n",
    "np.floor(data)"
   ]
  },
  {
   "cell_type": "markdown",
   "id": "6ba83872",
   "metadata": {},
   "source": [
    "#### 5) NaN 여부 확인"
   ]
  },
  {
   "cell_type": "code",
   "execution_count": 16,
   "id": "868dd0ec",
   "metadata": {},
   "outputs": [
    {
     "data": {
      "text/plain": [
       "array([[False, False, False],\n",
       "       [False, False, False],\n",
       "       [False, False, False],\n",
       "       [False, False, False],\n",
       "       [False, False, False]])"
      ]
     },
     "execution_count": 16,
     "metadata": {},
     "output_type": "execute_result"
    }
   ],
   "source": [
    "# 각 성분이 NaN인 경우 True를, 아닌 경우 False를 반환하기\n",
    "np.isnan(data)"
   ]
  },
  {
   "cell_type": "code",
   "execution_count": 17,
   "id": "d78a5a7a",
   "metadata": {
    "scrolled": true
   },
   "outputs": [
    {
     "name": "stderr",
     "output_type": "stream",
     "text": [
      "/var/folders/qk/0ttws_bs3s1fydtrkp_804nc0000gn/T/ipykernel_64466/2717603986.py:2: RuntimeWarning: invalid value encountered in log\n",
      "  np.isnan(np.log(data))\n"
     ]
    },
    {
     "data": {
      "text/plain": [
       "array([[False, False, False],\n",
       "       [False, False, False],\n",
       "       [False,  True, False],\n",
       "       [False,  True, False],\n",
       "       [False, False, False]])"
      ]
     },
     "execution_count": 17,
     "metadata": {},
     "output_type": "execute_result"
    }
   ],
   "source": [
    "# 로그변환한 배열 중 NaN 확인\n",
    "np.isnan(np.log(data))"
   ]
  },
  {
   "cell_type": "markdown",
   "id": "9f474cc6",
   "metadata": {},
   "source": [
    "#### 6) 무한대(inf) 확인"
   ]
  },
  {
   "cell_type": "code",
   "execution_count": 18,
   "id": "11b7c09d",
   "metadata": {},
   "outputs": [
    {
     "data": {
      "text/plain": [
       "array([[False, False, False],\n",
       "       [False, False, False],\n",
       "       [False, False, False],\n",
       "       [False, False, False],\n",
       "       [False, False, False]])"
      ]
     },
     "execution_count": 18,
     "metadata": {},
     "output_type": "execute_result"
    }
   ],
   "source": [
    "# 각 성분이 무한대인 경우 True를, 아닌 경우 False를 반환하기\n",
    "np.isinf(data)"
   ]
  },
  {
   "cell_type": "markdown",
   "id": "745b5b54",
   "metadata": {},
   "source": [
    "#### 7) 삼각함수 : 각 성분에 대해 삼각함수 값을 계산하기(cos,cosh,sin,sinh,tan,tanh)"
   ]
  },
  {
   "cell_type": "code",
   "execution_count": 20,
   "id": "5caa872b",
   "metadata": {},
   "outputs": [
    {
     "data": {
      "text/plain": [
       "array([[-0.19448486,  0.95176275,  0.86136928],\n",
       "       [ 0.66580857,  0.99522166,  0.71117396],\n",
       "       [ 0.75621198,  0.93994736,  0.48846465],\n",
       "       [ 0.57603872,  0.8524777 ,  0.99413517],\n",
       "       [ 0.71847343,  0.29095271, -0.19574514]])"
      ]
     },
     "execution_count": 20,
     "metadata": {},
     "output_type": "execute_result"
    }
   ],
   "source": [
    "# cos()\n",
    "np.cos(data)"
   ]
  },
  {
   "cell_type": "code",
   "execution_count": null,
   "id": "34272f92",
   "metadata": {},
   "outputs": [],
   "source": [
    "# tan()"
   ]
  },
  {
   "cell_type": "markdown",
   "id": "8d06c3fb",
   "metadata": {},
   "source": [
    "#### 8) Sums,produncts,differences함수"
   ]
  },
  {
   "cell_type": "code",
   "execution_count": 21,
   "id": "fd66e0be",
   "metadata": {},
   "outputs": [
    {
     "data": {
      "text/plain": [
       "array([[ 1.76652859,  0.31186576,  0.53283724],\n",
       "       [ 0.84221933,  0.09779725,  0.77962964],\n",
       "       [ 0.71329193, -0.34832029,  1.06046698],\n",
       "       [ 0.95692202, -0.55008957,  0.10835651],\n",
       "       [ 0.76919125,  1.27557385,  1.76781356]])"
      ]
     },
     "execution_count": 21,
     "metadata": {},
     "output_type": "execute_result"
    }
   ],
   "source": [
    "data"
   ]
  },
  {
   "cell_type": "code",
   "execution_count": 22,
   "id": "89cc2ce0",
   "metadata": {},
   "outputs": [
    {
     "data": {
      "text/plain": [
       "10.084084045447256"
      ]
     },
     "execution_count": 22,
     "metadata": {},
     "output_type": "execute_result"
    }
   ],
   "source": [
    "# 전체 성분의 합을 계산\n",
    "np.sum(data)"
   ]
  },
  {
   "cell_type": "code",
   "execution_count": 23,
   "id": "059b3c32",
   "metadata": {},
   "outputs": [
    {
     "data": {
      "text/plain": [
       "array([5.04815311, 0.786827  , 4.24910393])"
      ]
     },
     "execution_count": 23,
     "metadata": {},
     "output_type": "execute_result"
    }
   ],
   "source": [
    "# 열 간의 행 값들의 합을 계산 ( axis = 0 )\n",
    "np.sum(data,axis=0)"
   ]
  },
  {
   "cell_type": "code",
   "execution_count": 25,
   "id": "527b955a",
   "metadata": {},
   "outputs": [
    {
     "data": {
      "text/plain": [
       "array([2.61123159, 1.71964622, 1.42543862, 0.51518896, 3.81257866])"
      ]
     },
     "execution_count": 25,
     "metadata": {},
     "output_type": "execute_result"
    }
   ],
   "source": [
    "# 행 간의 열 값들의 합을 계산 ( axis = 1 )\n",
    "np.sum(data,axis=1)"
   ]
  },
  {
   "cell_type": "markdown",
   "id": "e8d22583",
   "metadata": {},
   "source": [
    "#### 9) 평균(mean), 표준편차(std), 분산(var)"
   ]
  },
  {
   "cell_type": "code",
   "execution_count": 26,
   "id": "8d0a82df",
   "metadata": {},
   "outputs": [
    {
     "data": {
      "text/plain": [
       "0.6722722696964837"
      ]
     },
     "execution_count": 26,
     "metadata": {},
     "output_type": "execute_result"
    }
   ],
   "source": [
    "# 전체 성분의 평균 계산\n",
    "np.mean(data)"
   ]
  },
  {
   "cell_type": "code",
   "execution_count": 27,
   "id": "872fe4dd",
   "metadata": {},
   "outputs": [
    {
     "data": {
      "text/plain": [
       "array([0.87041053, 0.57321541, 0.47514621, 0.17172965, 1.27085955])"
      ]
     },
     "execution_count": 27,
     "metadata": {},
     "output_type": "execute_result"
    }
   ],
   "source": [
    "# 행 별 평균 계산 ( axis = 1 )\n",
    "np.mean(data,axis=1)"
   ]
  },
  {
   "cell_type": "code",
   "execution_count": 28,
   "id": "c0837331",
   "metadata": {},
   "outputs": [
    {
     "data": {
      "text/plain": [
       "array([1.00963062, 0.1573654 , 0.84982079])"
      ]
     },
     "execution_count": 28,
     "metadata": {},
     "output_type": "execute_result"
    }
   ],
   "source": [
    "# 열 별 평균 계산 ( axis = 0 )\n",
    "np.mean(data,axis=0)"
   ]
  },
  {
   "cell_type": "code",
   "execution_count": 29,
   "id": "1aef9c3c",
   "metadata": {},
   "outputs": [
    {
     "data": {
      "text/plain": [
       "0.6520695092019018"
      ]
     },
     "execution_count": 29,
     "metadata": {},
     "output_type": "execute_result"
    }
   ],
   "source": [
    "# 전체 성분의 표준편차 계산\n",
    "np.std(data)"
   ]
  },
  {
   "cell_type": "code",
   "execution_count": 30,
   "id": "e260113d",
   "metadata": {},
   "outputs": [
    {
     "data": {
      "text/plain": [
       "array([0.38712452, 0.63781179, 0.55538405])"
      ]
     },
     "execution_count": 30,
     "metadata": {},
     "output_type": "execute_result"
    }
   ],
   "source": [
    "# 열 별 표준편차 계산\n",
    "np.std(data,axis=0)"
   ]
  },
  {
   "cell_type": "code",
   "execution_count": 32,
   "id": "198594bf",
   "metadata": {},
   "outputs": [
    {
     "data": {
      "text/plain": [
       "array([0.64004051, 0.3371411 , 0.59928036, 0.61686471, 0.40769948])"
      ]
     },
     "execution_count": 32,
     "metadata": {},
     "output_type": "execute_result"
    }
   ],
   "source": [
    "# 행 별 표준편차 계산\n",
    "np.std(data,axis=1)"
   ]
  },
  {
   "cell_type": "markdown",
   "id": "2bd21e91",
   "metadata": {},
   "source": [
    "#### 10) 최대값(max),최소값(min)"
   ]
  },
  {
   "cell_type": "code",
   "execution_count": 33,
   "id": "fdda3006",
   "metadata": {
    "scrolled": true
   },
   "outputs": [
    {
     "data": {
      "text/plain": [
       "array([ 0.71329193, -0.55008957,  0.10835651])"
      ]
     },
     "execution_count": 33,
     "metadata": {},
     "output_type": "execute_result"
    }
   ],
   "source": [
    "# 열 방향에서 최소값\n",
    "np.min(data,axis=0)"
   ]
  },
  {
   "cell_type": "code",
   "execution_count": 34,
   "id": "3251976c",
   "metadata": {},
   "outputs": [
    {
     "data": {
      "text/plain": [
       "array([1.76652859, 1.27557385, 1.76781356])"
      ]
     },
     "execution_count": 34,
     "metadata": {},
     "output_type": "execute_result"
    }
   ],
   "source": [
    "# 열 방향에서 최대값\n",
    "np.max(data,axis=0)"
   ]
  },
  {
   "cell_type": "code",
   "execution_count": 35,
   "id": "49bf3950",
   "metadata": {},
   "outputs": [
    {
     "data": {
      "text/plain": [
       "array([ 0.31186576,  0.09779725, -0.34832029, -0.55008957,  0.76919125])"
      ]
     },
     "execution_count": 35,
     "metadata": {},
     "output_type": "execute_result"
    }
   ],
   "source": [
    "# 행 방향에서 최소값\n",
    "np.min(data,axis=1)"
   ]
  },
  {
   "cell_type": "code",
   "execution_count": 36,
   "id": "a0466d1b",
   "metadata": {},
   "outputs": [
    {
     "data": {
      "text/plain": [
       "array([1.76652859, 0.84221933, 1.06046698, 0.95692202, 1.76781356])"
      ]
     },
     "execution_count": 36,
     "metadata": {},
     "output_type": "execute_result"
    }
   ],
   "source": [
    "# 행 방향에서 최대값\n",
    "np.max(data,axis=1)"
   ]
  },
  {
   "cell_type": "markdown",
   "id": "36cb4502",
   "metadata": {},
   "source": [
    "#### 11) 최대값, 최소값 위치 인덱스: argmax(),argmin()"
   ]
  },
  {
   "cell_type": "code",
   "execution_count": 37,
   "id": "2b2515ce",
   "metadata": {},
   "outputs": [
    {
     "data": {
      "text/plain": [
       "array([[ 1.76652859,  0.31186576,  0.53283724],\n",
       "       [ 0.84221933,  0.09779725,  0.77962964],\n",
       "       [ 0.71329193, -0.34832029,  1.06046698],\n",
       "       [ 0.95692202, -0.55008957,  0.10835651],\n",
       "       [ 0.76919125,  1.27557385,  1.76781356]])"
      ]
     },
     "execution_count": 37,
     "metadata": {},
     "output_type": "execute_result"
    }
   ],
   "source": [
    "data"
   ]
  },
  {
   "cell_type": "code",
   "execution_count": 40,
   "id": "25d59c54",
   "metadata": {},
   "outputs": [
    {
     "data": {
      "text/plain": [
       "(1.7678135607294982, 14)"
      ]
     },
     "execution_count": 40,
     "metadata": {},
     "output_type": "execute_result"
    }
   ],
   "source": [
    "# 전체 성분의 최대값이 위치한 인덱스를 반환(argmin,argmax)\n",
    "np.max(data),np.argmax(data)"
   ]
  },
  {
   "cell_type": "code",
   "execution_count": 41,
   "id": "563a89f0",
   "metadata": {},
   "outputs": [
    {
     "data": {
      "text/plain": [
       "(-0.5500895716513464, 10)"
      ]
     },
     "execution_count": 41,
     "metadata": {},
     "output_type": "execute_result"
    }
   ],
   "source": [
    "# 전체 성분의 최소값이 위치한 인덱스를 반환(argmin,argmax)\n",
    "np.min(data),np.argmin(data)"
   ]
  },
  {
   "cell_type": "code",
   "execution_count": 42,
   "id": "63f796e5",
   "metadata": {},
   "outputs": [
    {
     "data": {
      "text/plain": [
       "array([0, 0, 2, 0, 2])"
      ]
     },
     "execution_count": 42,
     "metadata": {},
     "output_type": "execute_result"
    }
   ],
   "source": [
    "# 행 방향으로 최대값이 위치한 인덱스 반환\n",
    "np.argmax(data,axis=1)"
   ]
  },
  {
   "cell_type": "code",
   "execution_count": 43,
   "id": "841bfff7",
   "metadata": {},
   "outputs": [
    {
     "data": {
      "text/plain": [
       "array([0, 4, 4])"
      ]
     },
     "execution_count": 43,
     "metadata": {},
     "output_type": "execute_result"
    }
   ],
   "source": [
    "# 열 방향으로 최대값이 위치한 인덱스 반환\n",
    "np.argmax(data,axis=0)"
   ]
  },
  {
   "cell_type": "markdown",
   "id": "7b8bf2f0",
   "metadata": {},
   "source": [
    "#### 12) 누적합(cumsum), 누적곱(cumprod)"
   ]
  },
  {
   "cell_type": "code",
   "execution_count": 46,
   "id": "3745c262",
   "metadata": {},
   "outputs": [
    {
     "data": {
      "text/plain": [
       "array([[ 1.76652859,  0.31186576,  0.53283724],\n",
       "       [ 0.84221933,  0.09779725,  0.77962964],\n",
       "       [ 0.71329193, -0.34832029,  1.06046698],\n",
       "       [ 0.95692202, -0.55008957,  0.10835651],\n",
       "       [ 0.76919125,  1.27557385,  1.76781356]])"
      ]
     },
     "execution_count": 46,
     "metadata": {},
     "output_type": "execute_result"
    }
   ],
   "source": [
    "data"
   ]
  },
  {
   "cell_type": "code",
   "execution_count": 44,
   "id": "022cedbd",
   "metadata": {},
   "outputs": [
    {
     "data": {
      "text/plain": [
       "array([ 1.76652859,  2.07839434,  2.61123159,  3.45345092,  3.55124817,\n",
       "        4.33087781,  5.04416973,  4.69584945,  5.75631643,  6.71323844,\n",
       "        6.16314887,  6.27150538,  7.04069664,  8.31627048, 10.08408405])"
      ]
     },
     "execution_count": 44,
     "metadata": {},
     "output_type": "execute_result"
    }
   ],
   "source": [
    "# 맨 처음 성분부터 각 성분까지의 누적합/누적곱을 계산 (cumsum/cumprod)\n",
    "np.cumsum(data)"
   ]
  },
  {
   "cell_type": "code",
   "execution_count": 45,
   "id": "860b84c6",
   "metadata": {},
   "outputs": [
    {
     "data": {
      "text/plain": [
       "array([[ 1.76652859,  0.31186576,  0.53283724],\n",
       "       [ 2.60874792,  0.40966301,  1.31246688],\n",
       "       [ 3.32203985,  0.06134272,  2.37293386],\n",
       "       [ 4.27896186, -0.48874685,  2.48129037],\n",
       "       [ 5.04815311,  0.786827  ,  4.24910393]])"
      ]
     },
     "execution_count": 45,
     "metadata": {},
     "output_type": "execute_result"
    }
   ],
   "source": [
    "# 열 기준 누적합\n",
    "np.cumsum(data,axis=0)"
   ]
  },
  {
   "cell_type": "code",
   "execution_count": 47,
   "id": "590b158f",
   "metadata": {},
   "outputs": [
    {
     "data": {
      "text/plain": [
       "array([ 1.76652859e+00,  5.50919777e-01,  2.93550574e-01,  2.47233969e-01,\n",
       "        2.41788024e-02,  1.88505109e-02,  1.34459173e-02, -4.68348576e-03,\n",
       "       -4.96668201e-03, -4.75272736e-03,  2.61442576e-03,  2.83290056e-04,\n",
       "        2.17904232e-04,  2.77952941e-04,  4.91368978e-04])"
      ]
     },
     "execution_count": 47,
     "metadata": {},
     "output_type": "execute_result"
    }
   ],
   "source": [
    "# 누적곱\n",
    "np.cumprod(data)"
   ]
  },
  {
   "cell_type": "code",
   "execution_count": 48,
   "id": "68ee3f90",
   "metadata": {},
   "outputs": [
    {
     "data": {
      "text/plain": [
       "array([[ 1.76652859,  0.55091978,  0.29355057],\n",
       "       [ 0.84221933,  0.08236674,  0.06421555],\n",
       "       [ 0.71329193, -0.24845405, -0.26347732],\n",
       "       [ 0.95692202, -0.52639282, -0.05703809],\n",
       "       [ 0.76919125,  0.98116024,  1.73450839]])"
      ]
     },
     "execution_count": 48,
     "metadata": {},
     "output_type": "execute_result"
    }
   ],
   "source": [
    "# 행 기준 누적곱\n",
    "np.cumprod(data,axis=1)"
   ]
  },
  {
   "cell_type": "code",
   "execution_count": 50,
   "id": "1e729787",
   "metadata": {},
   "outputs": [
    {
     "data": {
      "text/plain": [
       "array([[ 1.76652859,  0.31186576,  0.53283724],\n",
       "       [ 0.84221933,  0.09779725,  0.77962964],\n",
       "       [ 0.71329193, -0.34832029,  1.06046698],\n",
       "       [ 0.95692202, -0.55008957,  0.10835651],\n",
       "       [ 0.76919125,  1.27557385,  1.76781356]])"
      ]
     },
     "execution_count": 50,
     "metadata": {},
     "output_type": "execute_result"
    }
   ],
   "source": [
    "data"
   ]
  },
  {
   "cell_type": "code",
   "execution_count": 49,
   "id": "c826b607",
   "metadata": {},
   "outputs": [
    {
     "data": {
      "text/plain": [
       "array([[ 0.31186576,  0.53283724,  1.76652859],\n",
       "       [ 0.09779725,  0.77962964,  0.84221933],\n",
       "       [-0.34832029,  0.71329193,  1.06046698],\n",
       "       [-0.55008957,  0.10835651,  0.95692202],\n",
       "       [ 0.76919125,  1.27557385,  1.76781356]])"
      ]
     },
     "execution_count": 49,
     "metadata": {},
     "output_type": "execute_result"
    }
   ],
   "source": [
    "# 전체 성분에 대해서 오름차순으로 정렬\n",
    "np.sort(data) # 행 별로 정렬 #오름차순"
   ]
  },
  {
   "cell_type": "code",
   "execution_count": 53,
   "id": "e6933be2",
   "metadata": {},
   "outputs": [
    {
     "data": {
      "text/plain": [
       "array([[ 0.76919125,  1.27557385,  1.76781356],\n",
       "       [-0.55008957,  0.10835651,  0.95692202],\n",
       "       [-0.34832029,  0.71329193,  1.06046698],\n",
       "       [ 0.09779725,  0.77962964,  0.84221933],\n",
       "       [ 0.31186576,  0.53283724,  1.76652859]])"
      ]
     },
     "execution_count": 53,
     "metadata": {},
     "output_type": "execute_result"
    }
   ],
   "source": [
    "# 전체 성분에 대해서 맨 끝 행부터 오름차순으로 정렬 : [::-1]\n",
    "# np.sort(data) 정렬 후 마지막 행부터 표시\n",
    "np.sort(data)[::-1] #맨 끝 행 -> 첫 행으로 출력 # 오름차순"
   ]
  },
  {
   "cell_type": "code",
   "execution_count": 57,
   "id": "023ea75c",
   "metadata": {},
   "outputs": [
    {
     "data": {
      "text/plain": [
       "array([[ 1.76652859,  0.31186576,  0.53283724],\n",
       "       [ 0.84221933,  0.09779725,  0.77962964],\n",
       "       [ 0.71329193, -0.34832029,  1.06046698],\n",
       "       [ 0.95692202, -0.55008957,  0.10835651],\n",
       "       [ 0.76919125,  1.27557385,  1.76781356]])"
      ]
     },
     "execution_count": 57,
     "metadata": {},
     "output_type": "execute_result"
    }
   ],
   "source": [
    "data"
   ]
  },
  {
   "cell_type": "code",
   "execution_count": 56,
   "id": "0d7c158d",
   "metadata": {},
   "outputs": [
    {
     "data": {
      "text/plain": [
       "array([[ 0.71329193, -0.55008957,  0.10835651],\n",
       "       [ 0.76919125, -0.34832029,  0.53283724],\n",
       "       [ 0.84221933,  0.09779725,  0.77962964],\n",
       "       [ 0.95692202,  0.31186576,  1.06046698],\n",
       "       [ 1.76652859,  1.27557385,  1.76781356]])"
      ]
     },
     "execution_count": 56,
     "metadata": {},
     "output_type": "execute_result"
    }
   ],
   "source": [
    "# 열 별로 오름차순으로 정렬\n",
    "np.sort(data,axis=0)"
   ]
  },
  {
   "cell_type": "code",
   "execution_count": 58,
   "id": "4051c2cd",
   "metadata": {},
   "outputs": [
    {
     "data": {
      "text/plain": [
       "array([[ 0.31186576,  0.53283724,  1.76652859],\n",
       "       [ 0.09779725,  0.77962964,  0.84221933],\n",
       "       [-0.34832029,  0.71329193,  1.06046698],\n",
       "       [-0.55008957,  0.10835651,  0.95692202],\n",
       "       [ 0.76919125,  1.27557385,  1.76781356]])"
      ]
     },
     "execution_count": 58,
     "metadata": {},
     "output_type": "execute_result"
    }
   ],
   "source": [
    "# 행 별로 오름차순으로 정렬\n",
    "np.sort(data,axis=1)"
   ]
  },
  {
   "cell_type": "markdown",
   "id": "d944beee",
   "metadata": {},
   "source": [
    "## B) 두 개의 array에 적용되는 함수"
   ]
  },
  {
   "cell_type": "code",
   "execution_count": 63,
   "id": "ca9bd0f2",
   "metadata": {},
   "outputs": [
    {
     "data": {
      "text/plain": [
       "(array([[-1.03695445, -1.42237436,  0.49460304],\n",
       "        [-0.92410004, -1.57938894, -2.04714513],\n",
       "        [ 0.21957772,  1.96761966, -0.68717314],\n",
       "        [-1.0014389 , -0.58392618,  0.60710405],\n",
       "        [-0.46156581,  1.99195227, -1.33441292]]),\n",
       " array([[-0.88249743, -0.25551945,  0.01522084],\n",
       "        [-0.14189801,  0.31786247,  1.47403988],\n",
       "        [-0.73310123, -0.67112846,  0.76958046],\n",
       "        [-1.30953822, -0.41497795,  1.2473727 ],\n",
       "        [-1.24128596, -1.05701561,  0.70890408]]))"
      ]
     },
     "execution_count": 63,
     "metadata": {},
     "output_type": "execute_result"
    }
   ],
   "source": [
    "# 5행 3열의 실수 난수 배열 생성\n",
    "data1 = np.random.randn(5,3)\n",
    "data2 = np.random.randn(5,3)\n",
    "data1,data2"
   ]
  },
  {
   "cell_type": "markdown",
   "id": "3765162d",
   "metadata": {},
   "source": [
    "### 1. 두 개의 array에 대해 동일한 위치의 성분끼리 연산\n",
    "#### 1) add(),subtract(),multiply(),divide()"
   ]
  },
  {
   "cell_type": "code",
   "execution_count": 64,
   "id": "4f978ef2",
   "metadata": {},
   "outputs": [
    {
     "data": {
      "text/plain": [
       "array([[-1.91945188, -1.67789381,  0.50982387],\n",
       "       [-1.06599806, -1.26152647, -0.57310525],\n",
       "       [-0.5135235 ,  1.2964912 ,  0.08240732],\n",
       "       [-2.31097713, -0.99890413,  1.85447675],\n",
       "       [-1.70285178,  0.93493666, -0.62550884]])"
      ]
     },
     "execution_count": 64,
     "metadata": {},
     "output_type": "execute_result"
    }
   ],
   "source": [
    "# 두 배열의 합\n",
    "np.add(data1,data2)"
   ]
  },
  {
   "cell_type": "code",
   "execution_count": 66,
   "id": "6879a849",
   "metadata": {},
   "outputs": [
    {
     "data": {
      "text/plain": [
       "array([[-0.15445701, -1.1668549 ,  0.4793822 ],\n",
       "       [-0.78220203, -1.8972514 , -3.52118502],\n",
       "       [ 0.95267895,  2.63874812, -1.4567536 ],\n",
       "       [ 0.30809932, -0.16894824, -0.64026865],\n",
       "       [ 0.77972015,  3.04896789, -2.043317  ]])"
      ]
     },
     "execution_count": 66,
     "metadata": {},
     "output_type": "execute_result"
    }
   ],
   "source": [
    "# 두 배열의 차\n",
    "np.subtract(data1,data2)"
   ]
  },
  {
   "cell_type": "code",
   "execution_count": 67,
   "id": "31044174",
   "metadata": {},
   "outputs": [
    {
     "data": {
      "text/plain": [
       "array([[ 0.91510964,  0.36344431,  0.00752827],\n",
       "       [ 0.13112796, -0.50202846, -3.01757358],\n",
       "       [-0.1609727 , -1.32052555, -0.52883502],\n",
       "       [ 1.31142252,  0.24231649,  0.75728502],\n",
       "       [ 0.57293516, -2.10552465, -0.94597077]])"
      ]
     },
     "execution_count": 67,
     "metadata": {},
     "output_type": "execute_result"
    }
   ],
   "source": [
    "# 두 배열의 곱\n",
    "np.multiply(data1,data2)"
   ]
  },
  {
   "cell_type": "code",
   "execution_count": 68,
   "id": "ce10bbf2",
   "metadata": {},
   "outputs": [
    {
     "data": {
      "text/plain": [
       "array([[ 1.17502262,  5.56659915, 32.49512951],\n",
       "       [ 6.51242413, -4.96878087, -1.38879901],\n",
       "       [-0.29951897, -2.93180781, -0.89291916],\n",
       "       [ 0.76472674,  1.40712582,  0.48670622],\n",
       "       [ 0.37184487, -1.88450601, -1.88236033]])"
      ]
     },
     "execution_count": 68,
     "metadata": {},
     "output_type": "execute_result"
    }
   ],
   "source": [
    "# 두 배열의 나눗셈\n",
    "np.divide(data1,data2)"
   ]
  },
  {
   "cell_type": "markdown",
   "id": "233bff94",
   "metadata": {},
   "source": [
    "#### 2) maximum(), minimum() (최대값/최소값)"
   ]
  },
  {
   "cell_type": "code",
   "execution_count": 69,
   "id": "4248d516",
   "metadata": {},
   "outputs": [
    {
     "data": {
      "text/plain": [
       "(array([[-1.03695445, -1.42237436,  0.49460304],\n",
       "        [-0.92410004, -1.57938894, -2.04714513],\n",
       "        [ 0.21957772,  1.96761966, -0.68717314],\n",
       "        [-1.0014389 , -0.58392618,  0.60710405],\n",
       "        [-0.46156581,  1.99195227, -1.33441292]]),\n",
       " array([[-0.88249743, -0.25551945,  0.01522084],\n",
       "        [-0.14189801,  0.31786247,  1.47403988],\n",
       "        [-0.73310123, -0.67112846,  0.76958046],\n",
       "        [-1.30953822, -0.41497795,  1.2473727 ],\n",
       "        [-1.24128596, -1.05701561,  0.70890408]]))"
      ]
     },
     "execution_count": 69,
     "metadata": {},
     "output_type": "execute_result"
    }
   ],
   "source": [
    "data1,data2"
   ]
  },
  {
   "cell_type": "code",
   "execution_count": 71,
   "id": "c18f1013",
   "metadata": {},
   "outputs": [
    {
     "data": {
      "text/plain": [
       "array([[-0.88249743, -0.25551945,  0.49460304],\n",
       "       [-0.14189801,  0.31786247,  1.47403988],\n",
       "       [ 0.21957772,  1.96761966,  0.76958046],\n",
       "       [-1.0014389 , -0.41497795,  1.2473727 ],\n",
       "       [-0.46156581,  1.99195227,  0.70890408]])"
      ]
     },
     "execution_count": 71,
     "metadata": {},
     "output_type": "execute_result"
    }
   ],
   "source": [
    "# 두개의 array에 대해 동일한 위치의 성분끼리 비교하여\n",
    "# 최대값 또는 최소값 계산하기(maximum,minimum)\n",
    "np.maximum(data1,data2)"
   ]
  },
  {
   "cell_type": "code",
   "execution_count": 72,
   "id": "703a34e7",
   "metadata": {},
   "outputs": [
    {
     "data": {
      "text/plain": [
       "array([[-1.03695445, -1.42237436,  0.01522084],\n",
       "       [-0.92410004, -1.57938894, -2.04714513],\n",
       "       [-0.73310123, -0.67112846, -0.68717314],\n",
       "       [-1.30953822, -0.58392618,  0.60710405],\n",
       "       [-1.24128596, -1.05701561, -1.33441292]])"
      ]
     },
     "execution_count": 72,
     "metadata": {},
     "output_type": "execute_result"
    }
   ],
   "source": [
    "np.minimum(data1,data2)"
   ]
  }
 ],
 "metadata": {
  "kernelspec": {
   "display_name": "Python 3 (ipykernel)",
   "language": "python",
   "name": "python3"
  },
  "language_info": {
   "codemirror_mode": {
    "name": "ipython",
    "version": 3
   },
   "file_extension": ".py",
   "mimetype": "text/x-python",
   "name": "python",
   "nbconvert_exporter": "python",
   "pygments_lexer": "ipython3",
   "version": "3.9.7"
  }
 },
 "nbformat": 4,
 "nbformat_minor": 5
}
