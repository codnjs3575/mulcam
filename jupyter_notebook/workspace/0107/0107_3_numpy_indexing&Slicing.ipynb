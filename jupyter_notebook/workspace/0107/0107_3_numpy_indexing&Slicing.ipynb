{
 "cells": [
  {
   "cell_type": "markdown",
   "id": "46f361ff",
   "metadata": {},
   "source": [
    "# 0107_3_Numpy 인덱싱과 슬라이싱\n",
    "> 3. Array 인덱싱(indexing)과 슬라이싱(Slicing)"
   ]
  },
  {
   "cell_type": "markdown",
   "id": "78ac5938",
   "metadata": {},
   "source": [
    "# 3. Array 인덱싱(indexing)과 슬라이싱(Slicing)\n",
    "- 인덱싱(indexing) : 배열의 위치나 조건을 지정해 배열의 원소를 선택하는 것\n",
    "- 슬라이싱(Slicing) : 범위를 지정해 배열의 원소를 선택하는 것\n",
    "\n",
    "## A) 1차원 배열의 인덱싱\n",
    "###  1.       배열명[위치]\n",
    "   - 파이썬의 인덱싱과 동일 \n",
    "   - 0번째로 시작함"
   ]
  },
  {
   "cell_type": "code",
   "execution_count": 2,
   "id": "1d045559",
   "metadata": {},
   "outputs": [],
   "source": [
    "import numpy as np"
   ]
  },
  {
   "cell_type": "code",
   "execution_count": 3,
   "id": "ca626282",
   "metadata": {},
   "outputs": [
    {
     "data": {
      "text/plain": [
       "array([0, 1, 2, 3, 4, 5, 6, 7, 8, 9])"
      ]
     },
     "execution_count": 3,
     "metadata": {},
     "output_type": "execute_result"
    }
   ],
   "source": [
    "arr1 = np.arange(10)\n",
    "arr1"
   ]
  },
  {
   "cell_type": "code",
   "execution_count": 4,
   "id": "b36fc826",
   "metadata": {},
   "outputs": [
    {
     "data": {
      "text/plain": [
       "0"
      ]
     },
     "execution_count": 4,
     "metadata": {},
     "output_type": "execute_result"
    }
   ],
   "source": [
    "# 0번째 요소\n",
    "arr1[0]"
   ]
  },
  {
   "cell_type": "code",
   "execution_count": 5,
   "id": "ba532941",
   "metadata": {},
   "outputs": [
    {
     "data": {
      "text/plain": [
       "3"
      ]
     },
     "execution_count": 5,
     "metadata": {},
     "output_type": "execute_result"
    }
   ],
   "source": [
    "# 3번째 요소\n",
    "arr1[3]"
   ]
  },
  {
   "cell_type": "markdown",
   "id": "f53772d8",
   "metadata": {},
   "source": [
    "### 2. 배열명[[위치1, 위치2, ... , 위치n]]\n",
    "\n",
    "- shape \n",
    "    - (m, ) : 1차원\n",
    "    - (m,n) : 2차원\n",
    "    - (m,n,p) : 3차원  \n",
    "\n",
    "\n",
    "- 인덱스[] \n",
    "    - [ m] : 1차원\n",
    "    - [m,n] : 2차원\n",
    "    - [m,n,p] : 3차원\n"
   ]
  },
  {
   "cell_type": "code",
   "execution_count": 6,
   "id": "22650af9",
   "metadata": {},
   "outputs": [
    {
     "data": {
      "text/plain": [
       "array([1, 3, 4])"
      ]
     },
     "execution_count": 6,
     "metadata": {},
     "output_type": "execute_result"
    }
   ],
   "source": [
    "# 1,3,4번째 요소 \n",
    "# arr1[[1,3,4]] => 3차원 배열의 위치 1면 3행 4열\n",
    "# 여러 인덱스의 요소들을 지정할 때는 리스트로 줘야 한다.\n",
    "arr1[[1,3,4]]"
   ]
  },
  {
   "cell_type": "markdown",
   "id": "3db5fec0",
   "metadata": {},
   "source": [
    "## B) 2차원 배열의 인덱싱\n",
    "### 1. 배열명[행위치, 열위치]"
   ]
  },
  {
   "cell_type": "code",
   "execution_count": 7,
   "id": "ac580149",
   "metadata": {},
   "outputs": [
    {
     "data": {
      "text/plain": [
       "array([[ 1,  2,  3,  4],\n",
       "       [ 5,  6,  7,  8],\n",
       "       [ 9, 10, 11, 12]])"
      ]
     },
     "execution_count": 7,
     "metadata": {},
     "output_type": "execute_result"
    }
   ],
   "source": [
    "arr2 = np.arange(1,13).reshape(3,4)\n",
    "arr2"
   ]
  },
  {
   "cell_type": "code",
   "execution_count": 8,
   "id": "83ce9e01",
   "metadata": {},
   "outputs": [
    {
     "data": {
      "text/plain": [
       "12"
      ]
     },
     "execution_count": 8,
     "metadata": {},
     "output_type": "execute_result"
    }
   ],
   "source": [
    "# 2차원의 array에서 인덱싱을 하기 위해선 2개의 인자를 입력해야 합니다.\n",
    "arr2[2,3] #2행 3열의 요소 => 3,4"
   ]
  },
  {
   "cell_type": "code",
   "execution_count": 9,
   "id": "a52e4b6b",
   "metadata": {},
   "outputs": [
    {
     "data": {
      "text/plain": [
       "90"
      ]
     },
     "execution_count": 9,
     "metadata": {},
     "output_type": "execute_result"
    }
   ],
   "source": [
    "# 0행 0열의 값 변경\n",
    "arr2[0,0] = 90\n",
    "arr2[0,0]"
   ]
  },
  {
   "cell_type": "code",
   "execution_count": 10,
   "id": "e094b2e2",
   "metadata": {},
   "outputs": [
    {
     "data": {
      "text/plain": [
       "array([[90,  2,  3,  4],\n",
       "       [ 5,  6,  7,  8],\n",
       "       [ 9, 10, 11, 12]])"
      ]
     },
     "execution_count": 10,
     "metadata": {},
     "output_type": "execute_result"
    }
   ],
   "source": [
    "# 변경 확인\n",
    "arr2"
   ]
  },
  {
   "cell_type": "markdown",
   "id": "7fde62d8",
   "metadata": {},
   "source": [
    "### 2. 2차원배열명[행위치]\n",
    ": 2차원 배열에서 지정한 행 전체가 선택됨"
   ]
  },
  {
   "cell_type": "code",
   "execution_count": 11,
   "id": "d7022d3b",
   "metadata": {},
   "outputs": [
    {
     "data": {
      "text/plain": [
       "array([5, 6, 7, 8])"
      ]
     },
     "execution_count": 11,
     "metadata": {},
     "output_type": "execute_result"
    }
   ],
   "source": [
    "# 두번째 행(1행) 선택\n",
    "arr2[1]"
   ]
  },
  {
   "cell_type": "markdown",
   "id": "4171b31e",
   "metadata": {},
   "source": [
    "### 3. 2차원배열명[ : , 열위치]\n",
    ": 2차원 배열에서 지정한 열 전체가 선택됨"
   ]
  },
  {
   "cell_type": "code",
   "execution_count": 12,
   "id": "3a4ed74b",
   "metadata": {},
   "outputs": [
    {
     "data": {
      "text/plain": [
       "array([ 2,  6, 10])"
      ]
     },
     "execution_count": 12,
     "metadata": {},
     "output_type": "execute_result"
    }
   ],
   "source": [
    "# 두번째 열(1열) 선택\n",
    "arr2[:,1]"
   ]
  },
  {
   "cell_type": "markdown",
   "id": "3066f55b",
   "metadata": {},
   "source": [
    "### 4. 2차원 배열의 특정 행을 지정해서 행 전체를 변경 "
   ]
  },
  {
   "cell_type": "code",
   "execution_count": 13,
   "id": "e5b81b3a",
   "metadata": {},
   "outputs": [],
   "source": [
    "# 두번째 행 변경\n",
    "arr2[1] = np.array([50,-60,70,-80])"
   ]
  },
  {
   "cell_type": "code",
   "execution_count": 14,
   "id": "74c9987c",
   "metadata": {},
   "outputs": [
    {
     "data": {
      "text/plain": [
       "array([[ 90,   2,   3,   4],\n",
       "       [ 50, -60,  70, -80],\n",
       "       [  9,  10,  11,  12]])"
      ]
     },
     "execution_count": 14,
     "metadata": {},
     "output_type": "execute_result"
    }
   ],
   "source": [
    "# 변경 확인\n",
    "arr2"
   ]
  },
  {
   "cell_type": "markdown",
   "id": "9ee06955",
   "metadata": {},
   "source": [
    "### 5. 배열명[[ 행위치1, 행위치2, ..., 행위치n],[열위치1, 열위치2, ..., 열위치n]]\n",
    ": 지정한 (행위치1, 열위치1), (행위치2, 열위치2), ..., (행위치n, 열위치n)"
   ]
  },
  {
   "cell_type": "code",
   "execution_count": 15,
   "id": "93210712",
   "metadata": {},
   "outputs": [
    {
     "data": {
      "text/plain": [
       "array([90, 10])"
      ]
     },
     "execution_count": 15,
     "metadata": {},
     "output_type": "execute_result"
    }
   ],
   "source": [
    "arr2[[0,2],[0,1]] #0행,2행에서 0열,1열을 가져옴 (0,0),(2,1)"
   ]
  },
  {
   "cell_type": "code",
   "execution_count": 16,
   "id": "295c6f6a",
   "metadata": {},
   "outputs": [
    {
     "data": {
      "text/plain": [
       "array([[ 90,   2,   3,   4],\n",
       "       [ 50, -60,  70, -80],\n",
       "       [  9,  10,  11,  12]])"
      ]
     },
     "execution_count": 16,
     "metadata": {},
     "output_type": "execute_result"
    }
   ],
   "source": [
    "arr2"
   ]
  },
  {
   "cell_type": "markdown",
   "id": "757fd51c",
   "metadata": {},
   "source": [
    "### 6.배열명[조건]\n",
    ": 배열에서 조건을 만족하는 원소만 선택\n",
    "\n",
    "- 10이상인 원소 선택"
   ]
  },
  {
   "cell_type": "code",
   "execution_count": 17,
   "id": "eb9cd1fe",
   "metadata": {},
   "outputs": [
    {
     "data": {
      "text/plain": [
       "array([[ True, False, False, False],\n",
       "       [ True, False,  True, False],\n",
       "       [False, False,  True,  True]])"
      ]
     },
     "execution_count": 17,
     "metadata": {},
     "output_type": "execute_result"
    }
   ],
   "source": [
    "arr2 > 10"
   ]
  },
  {
   "cell_type": "code",
   "execution_count": 18,
   "id": "251c77dd",
   "metadata": {},
   "outputs": [
    {
     "data": {
      "text/plain": [
       "array([90, 50, 70, 11, 12])"
      ]
     },
     "execution_count": 18,
     "metadata": {},
     "output_type": "execute_result"
    }
   ],
   "source": [
    "arr2[arr2>10] # 10 이상인 것들만 가져와서 리스트로 "
   ]
  },
  {
   "cell_type": "markdown",
   "id": "2846f39e",
   "metadata": {},
   "source": [
    "- 짝수인 원소 선택"
   ]
  },
  {
   "cell_type": "code",
   "execution_count": 19,
   "id": "f60b90f6",
   "metadata": {},
   "outputs": [
    {
     "data": {
      "text/plain": [
       "array([ 90,   2,   4,  50, -60,  70, -80,  10,  12])"
      ]
     },
     "execution_count": 19,
     "metadata": {},
     "output_type": "execute_result"
    }
   ],
   "source": [
    "# 짝수인 원소 선택\n",
    "arr2[arr2 % 2 == 0]"
   ]
  },
  {
   "cell_type": "markdown",
   "id": "ea3c6761",
   "metadata": {},
   "source": [
    "## C) 1차원 배열의 슬라이싱(Slicing)\n",
    "### 1. 배열[시작위치 : 끝위치]\n",
    ": 시작위치에서 끝위치-1에 해당하는 배열의 원소를 반환"
   ]
  },
  {
   "cell_type": "code",
   "execution_count": 20,
   "id": "dfee95b0",
   "metadata": {},
   "outputs": [
    {
     "data": {
      "text/plain": [
       "array([0, 1, 2, 3, 4, 5, 6, 7, 8, 9])"
      ]
     },
     "execution_count": 20,
     "metadata": {},
     "output_type": "execute_result"
    }
   ],
   "source": [
    "arr1"
   ]
  },
  {
   "cell_type": "code",
   "execution_count": 21,
   "id": "68d11a3a",
   "metadata": {},
   "outputs": [
    {
     "data": {
      "text/plain": [
       "array([3, 4, 5, 6, 7, 8])"
      ]
     },
     "execution_count": 21,
     "metadata": {},
     "output_type": "execute_result"
    }
   ],
   "source": [
    "# 3번째 요소부터 8번째 요소\n",
    "arr1[3:9] # end+1"
   ]
  },
  {
   "cell_type": "markdown",
   "id": "70470010",
   "metadata": {},
   "source": [
    "### 2. 배열명[start:end+1:step] \n",
    ": start에서 end 범위까지의 자료중 step 간격의 인덱스 지정"
   ]
  },
  {
   "cell_type": "code",
   "execution_count": 22,
   "id": "b40b0033",
   "metadata": {},
   "outputs": [
    {
     "data": {
      "text/plain": [
       "array([3, 5, 7])"
      ]
     },
     "execution_count": 22,
     "metadata": {},
     "output_type": "execute_result"
    }
   ],
   "source": [
    "# 3번째 요소부터 8번째 요소까지 step 2\n",
    "arr1[3:9:2]"
   ]
  },
  {
   "cell_type": "code",
   "execution_count": 23,
   "id": "06e84557",
   "metadata": {},
   "outputs": [
    {
     "data": {
      "text/plain": [
       "array([0, 2, 4, 6, 8])"
      ]
     },
     "execution_count": 23,
     "metadata": {},
     "output_type": "execute_result"
    }
   ],
   "source": [
    "# 0번째 요소부터 8번째 요소까지 step 2\n",
    "arr1[:9:2] "
   ]
  },
  {
   "cell_type": "code",
   "execution_count": 24,
   "id": "dde48e3e",
   "metadata": {},
   "outputs": [
    {
     "data": {
      "text/plain": [
       "array([3, 5, 7, 9])"
      ]
     },
     "execution_count": 24,
     "metadata": {},
     "output_type": "execute_result"
    }
   ],
   "source": [
    "# 3번째 요소부터 마지막 요소까지 step 2\n",
    "arr1[3::2]"
   ]
  },
  {
   "cell_type": "code",
   "execution_count": 25,
   "id": "8bf9c164",
   "metadata": {},
   "outputs": [
    {
     "data": {
      "text/plain": [
       "array([0, 3, 6, 9])"
      ]
     },
     "execution_count": 25,
     "metadata": {},
     "output_type": "execute_result"
    }
   ],
   "source": [
    "# 0번째 요소부터 마지막 요소까지 step 3\n",
    "arr1[::3]"
   ]
  },
  {
   "cell_type": "code",
   "execution_count": 26,
   "id": "8898d93e",
   "metadata": {},
   "outputs": [
    {
     "data": {
      "text/plain": [
       "array([9, 8, 7, 6, 5, 4, 3, 2, 1, 0])"
      ]
     },
     "execution_count": 26,
     "metadata": {},
     "output_type": "execute_result"
    }
   ],
   "source": [
    "# 0번째 요소부터 마지막 요소까지 거꾸로\n",
    "arr1[::-1]"
   ]
  },
  {
   "cell_type": "code",
   "execution_count": 27,
   "id": "d26af13e",
   "metadata": {},
   "outputs": [
    {
     "data": {
      "text/plain": [
       "array([9, 7, 5, 3, 1])"
      ]
     },
     "execution_count": 27,
     "metadata": {},
     "output_type": "execute_result"
    }
   ],
   "source": [
    "# 0번째 요소부터 마지막 요소까지 거꾸로 step 2\n",
    "arr1[::-2]"
   ]
  },
  {
   "cell_type": "markdown",
   "id": "5b93e0d6",
   "metadata": {},
   "source": [
    "### 3. 배열[끝위치]\n",
    ": 처음부터 '끝위치-1' 원소 반환"
   ]
  },
  {
   "cell_type": "code",
   "execution_count": 28,
   "id": "6d4f96cc",
   "metadata": {},
   "outputs": [
    {
     "data": {
      "text/plain": [
       "array([0, 1, 2])"
      ]
     },
     "execution_count": 28,
     "metadata": {},
     "output_type": "execute_result"
    }
   ],
   "source": [
    "arr1[:3]"
   ]
  },
  {
   "cell_type": "markdown",
   "id": "f98c6c2c",
   "metadata": {},
   "source": [
    "### 4. 배열[시작위치:]\n",
    ": 처음부터 마지막 원소까지 반환"
   ]
  },
  {
   "cell_type": "code",
   "execution_count": 29,
   "id": "f9350d99",
   "metadata": {},
   "outputs": [
    {
     "data": {
      "text/plain": [
       "array([2, 3, 4, 5, 6, 7, 8, 9])"
      ]
     },
     "execution_count": 29,
     "metadata": {},
     "output_type": "execute_result"
    }
   ],
   "source": [
    "arr1[2:]"
   ]
  },
  {
   "cell_type": "markdown",
   "id": "a5791917",
   "metadata": {},
   "source": [
    "### 5. 배열[:]\n",
    ": 모든 원소 반환"
   ]
  },
  {
   "cell_type": "code",
   "execution_count": 30,
   "id": "f364e60e",
   "metadata": {},
   "outputs": [
    {
     "data": {
      "text/plain": [
       "array([0, 1, 2, 3, 4, 5, 6, 7, 8, 9])"
      ]
     },
     "execution_count": 30,
     "metadata": {},
     "output_type": "execute_result"
    }
   ],
   "source": [
    "arr1[:]"
   ]
  },
  {
   "cell_type": "markdown",
   "id": "94567ab4",
   "metadata": {},
   "source": [
    "### 6. 배열[행시작위치: 행끝위치, 열시작위치:열끝위치]"
   ]
  },
  {
   "cell_type": "code",
   "execution_count": 31,
   "id": "4df3b8ce",
   "metadata": {},
   "outputs": [
    {
     "data": {
      "text/plain": [
       "array([[ 90,   2,   3,   4],\n",
       "       [ 50, -60,  70, -80],\n",
       "       [  9,  10,  11,  12]])"
      ]
     },
     "execution_count": 31,
     "metadata": {},
     "output_type": "execute_result"
    }
   ],
   "source": [
    "arr2"
   ]
  },
  {
   "cell_type": "code",
   "execution_count": 32,
   "id": "48b091bb",
   "metadata": {},
   "outputs": [
    {
     "data": {
      "text/plain": [
       "array([ 9, 10, 11, 12])"
      ]
     },
     "execution_count": 32,
     "metadata": {},
     "output_type": "execute_result"
    }
   ],
   "source": [
    "# 2행의 모든 요소 꺼내기\n",
    "arr2[2,:] # == arr2[2]"
   ]
  },
  {
   "cell_type": "code",
   "execution_count": 33,
   "id": "a17c3510",
   "metadata": {},
   "outputs": [
    {
     "data": {
      "text/plain": [
       "array([  4, -80,  12])"
      ]
     },
     "execution_count": 33,
     "metadata": {},
     "output_type": "execute_result"
    }
   ],
   "source": [
    "# 3열의 모든 요소 꺼내기\n",
    "arr2[:,3]"
   ]
  },
  {
   "cell_type": "code",
   "execution_count": 34,
   "id": "88f8b011",
   "metadata": {},
   "outputs": [
    {
     "data": {
      "text/plain": [
       "array([[-60,  70],\n",
       "       [ 10,  11]])"
      ]
     },
     "execution_count": 34,
     "metadata": {},
     "output_type": "execute_result"
    }
   ],
   "source": [
    "# 1~2행, 1~2열의 요소\n",
    "arr2[1:3,1:3]"
   ]
  },
  {
   "cell_type": "markdown",
   "id": "b0e64015",
   "metadata": {},
   "source": [
    "### 7. 배열[행위치][열시작위치:열끝위치]\n",
    ": 특정 행을 선택한 후 열을 슬라이싱"
   ]
  },
  {
   "cell_type": "code",
   "execution_count": 35,
   "id": "e67e657e",
   "metadata": {},
   "outputs": [
    {
     "data": {
      "text/plain": [
       "array([[10, 20, 30],\n",
       "       [40, 50, 60],\n",
       "       [70, 80, 90]])"
      ]
     },
     "execution_count": 35,
     "metadata": {},
     "output_type": "execute_result"
    }
   ],
   "source": [
    "arr3 = np.arange(10,100,10).reshape(3,3)\n",
    "arr3"
   ]
  },
  {
   "cell_type": "code",
   "execution_count": 36,
   "id": "25a7314c",
   "metadata": {},
   "outputs": [
    {
     "data": {
      "text/plain": [
       "array([40, 50])"
      ]
     },
     "execution_count": 36,
     "metadata": {},
     "output_type": "execute_result"
    }
   ],
   "source": [
    "# 1행의 (0열과 1열) 요소 선택\n",
    "# 방법 1.\n",
    "arr3[1,:2]"
   ]
  },
  {
   "cell_type": "code",
   "execution_count": 37,
   "id": "0186c2f1",
   "metadata": {},
   "outputs": [
    {
     "data": {
      "text/plain": [
       "array([40, 50])"
      ]
     },
     "execution_count": 37,
     "metadata": {},
     "output_type": "execute_result"
    }
   ],
   "source": [
    "# 방법 2.\n",
    "arr3[1][:2]"
   ]
  },
  {
   "cell_type": "code",
   "execution_count": 38,
   "id": "7a7fcbca",
   "metadata": {},
   "outputs": [
    {
     "data": {
      "text/plain": [
       "80"
      ]
     },
     "execution_count": 38,
     "metadata": {},
     "output_type": "execute_result"
    }
   ],
   "source": [
    "arr3[2][1] "
   ]
  },
  {
   "cell_type": "markdown",
   "id": "a8e41ff5",
   "metadata": {},
   "source": [
    "### 8. 슬라이싱된 배열에 값을 지정"
   ]
  },
  {
   "cell_type": "code",
   "execution_count": 39,
   "id": "94f32208",
   "metadata": {},
   "outputs": [
    {
     "data": {
      "text/plain": [
       "(array([[10, 20, 30],\n",
       "        [40, 50, 60],\n",
       "        [70, 80, 90]]),\n",
       " array([[20, 30],\n",
       "        [50, 60]]),\n",
       " array([20, 30]),\n",
       " array([50, 60]))"
      ]
     },
     "execution_count": 39,
     "metadata": {},
     "output_type": "execute_result"
    }
   ],
   "source": [
    "# 0~1행, 1~2열의 요소 변경\n",
    "arr3,arr3[:2,1:3],arr3[0][1:3],arr3[1][1:3]"
   ]
  },
  {
   "cell_type": "code",
   "execution_count": 40,
   "id": "5202dc67",
   "metadata": {},
   "outputs": [
    {
     "data": {
      "text/plain": [
       "array([[10,  1,  2],\n",
       "       [40,  3,  4],\n",
       "       [70, 80, 90]])"
      ]
     },
     "execution_count": 40,
     "metadata": {},
     "output_type": "execute_result"
    }
   ],
   "source": [
    "arr3[:2,1:3] = np.array([[1,2],[3,4]])\n",
    "arr3"
   ]
  },
  {
   "cell_type": "markdown",
   "id": "a308d46a",
   "metadata": {},
   "source": [
    "## D) Array boolean 인덱싱 (Mask)\n",
    "- 다차원의 인덱싱을 응용하여 boolean 인덱싱\n",
    "- boolean 인덱싱을 통해 만들어낸 array를 통해 원하는 행 또는 열의 값만 뽑아냄\n",
    "- 가리고 싶은 부분은 가리고, 원하는 요소만 꺼냄"
   ]
  },
  {
   "cell_type": "code",
   "execution_count": 42,
   "id": "b249e74a",
   "metadata": {},
   "outputs": [
    {
     "data": {
      "text/plain": [
       "array(['Beomwoo', 'Beomwoo', 'Kim', 'Joan', 'Lee', 'Beomwoo', 'Park',\n",
       "       'Beomwoo'], dtype='<U7')"
      ]
     },
     "execution_count": 42,
     "metadata": {},
     "output_type": "execute_result"
    }
   ],
   "source": [
    "names = np.array(['Beomwoo','Beomwoo','Kim','Joan','Lee','Beomwoo','Park','Beomwoo'])\n",
    "names"
   ]
  },
  {
   "cell_type": "code",
   "execution_count": 43,
   "id": "e56c6e2b",
   "metadata": {},
   "outputs": [
    {
     "data": {
      "text/plain": [
       "(8,)"
      ]
     },
     "execution_count": 43,
     "metadata": {},
     "output_type": "execute_result"
    }
   ],
   "source": [
    "# names 크기 확인\n",
    "# names.size\n",
    "names.shape"
   ]
  },
  {
   "cell_type": "code",
   "execution_count": 44,
   "id": "bab290c2",
   "metadata": {},
   "outputs": [
    {
     "data": {
      "text/plain": [
       "array([[-2.01133057, -0.83120468, -1.20457008,  1.79512961],\n",
       "       [-0.55937897,  1.09484195,  0.21007492,  0.84312094],\n",
       "       [-0.44648162, -0.03874274,  0.14515349,  0.40167187],\n",
       "       [ 0.02438302, -0.51498839,  1.87589906,  0.05588363],\n",
       "       [-0.11903061, -0.49806042,  1.03685879, -0.02828617],\n",
       "       [ 0.69171869,  0.47195583, -1.08653881, -0.32793567],\n",
       "       [-0.5646625 , -1.40842561, -0.86766609, -0.09684767],\n",
       "       [ 0.97897538, -0.36071289, -0.57494245, -0.76098392]])"
      ]
     },
     "execution_count": 44,
     "metadata": {},
     "output_type": "execute_result"
    }
   ],
   "source": [
    "# 8행 4열의 실수 난수 배열 생성\n",
    "data = np.random.randn(8,4)\n",
    "data"
   ]
  },
  {
   "cell_type": "code",
   "execution_count": 45,
   "id": "c788cf52",
   "metadata": {},
   "outputs": [
    {
     "data": {
      "text/plain": [
       "(8, 4)"
      ]
     },
     "execution_count": 45,
     "metadata": {},
     "output_type": "execute_result"
    }
   ],
   "source": [
    "# 배열 크기 확인\n",
    "data.shape"
   ]
  },
  {
   "cell_type": "code",
   "execution_count": 46,
   "id": "5420ea1b",
   "metadata": {},
   "outputs": [
    {
     "data": {
      "text/plain": [
       "array([ True,  True, False, False, False,  True, False,  True])"
      ]
     },
     "execution_count": 46,
     "metadata": {},
     "output_type": "execute_result"
    }
   ],
   "source": [
    "# 요소가 Beomwoo인 항목에 대한 mask 생성\n",
    "names == 'Beomwoo'"
   ]
  },
  {
   "cell_type": "code",
   "execution_count": 47,
   "id": "bf28b31f",
   "metadata": {},
   "outputs": [
    {
     "data": {
      "text/plain": [
       "array([ True,  True, False, False, False,  True, False,  True])"
      ]
     },
     "execution_count": 47,
     "metadata": {},
     "output_type": "execute_result"
    }
   ],
   "source": [
    "names_mask_BW = (names == 'Beomwoo')\n",
    "names_mask_BW"
   ]
  },
  {
   "cell_type": "code",
   "execution_count": 48,
   "id": "2e71b6b0",
   "metadata": {},
   "outputs": [
    {
     "data": {
      "text/plain": [
       "array([[-2.01133057, -0.83120468, -1.20457008,  1.79512961],\n",
       "       [-0.55937897,  1.09484195,  0.21007492,  0.84312094],\n",
       "       [ 0.69171869,  0.47195583, -1.08653881, -0.32793567],\n",
       "       [ 0.97897538, -0.36071289, -0.57494245, -0.76098392]])"
      ]
     },
     "execution_count": 48,
     "metadata": {},
     "output_type": "execute_result"
    }
   ],
   "source": [
    "# 요소가 Beomwoo인 항목의 위치와 같은 행의 자료 가져오기 \n",
    "data[names_mask_BW, :] # ==data[names_mask_BW]"
   ]
  },
  {
   "cell_type": "code",
   "execution_count": 49,
   "id": "e8824c5f",
   "metadata": {},
   "outputs": [
    {
     "data": {
      "text/plain": [
       "array([False, False,  True, False, False, False, False, False])"
      ]
     },
     "execution_count": 49,
     "metadata": {},
     "output_type": "execute_result"
    }
   ],
   "source": [
    "# 요소가 Kim인 행의 데이터만 꺼내기\n",
    "names_mask_K = (names == 'Kim')\n",
    "names_mask_K"
   ]
  },
  {
   "cell_type": "code",
   "execution_count": 50,
   "id": "bfd2cb11",
   "metadata": {},
   "outputs": [
    {
     "data": {
      "text/plain": [
       "array([[-0.44648162, -0.03874274,  0.14515349,  0.40167187]])"
      ]
     },
     "execution_count": 50,
     "metadata": {},
     "output_type": "execute_result"
    }
   ],
   "source": [
    "# 방법 1\n",
    "data[names_mask_K]"
   ]
  },
  {
   "cell_type": "code",
   "execution_count": 51,
   "id": "fa191e2c",
   "metadata": {},
   "outputs": [
    {
     "data": {
      "text/plain": [
       "array([[-0.44648162, -0.03874274,  0.14515349,  0.40167187]])"
      ]
     },
     "execution_count": 51,
     "metadata": {},
     "output_type": "execute_result"
    }
   ],
   "source": [
    "# 방법 2\n",
    "data[names=='Kim', :]"
   ]
  },
  {
   "cell_type": "code",
   "execution_count": 52,
   "id": "f4f2d61d",
   "metadata": {},
   "outputs": [
    {
     "data": {
      "text/plain": [
       "array([[-0.5646625 , -1.40842561, -0.86766609, -0.09684767]])"
      ]
     },
     "execution_count": 52,
     "metadata": {},
     "output_type": "execute_result"
    }
   ],
   "source": [
    "# 논리 연산을 응용하여, 요소가 Kim 또는 Park인 행의 데이터만 꺼내기\n",
    "data[(names == 'kim') | (names == 'Park')]"
   ]
  },
  {
   "cell_type": "markdown",
   "id": "e6798c29",
   "metadata": {},
   "source": [
    " ### 1) 마스크 인덱싱 문제\n",
    " - 문제1. data array에서 0번째 열이 0보다 작은 행 데이터 가져오기"
   ]
  },
  {
   "cell_type": "code",
   "execution_count": 53,
   "id": "d7520bd9",
   "metadata": {},
   "outputs": [
    {
     "data": {
      "text/plain": [
       "array([[-2.01133057, -0.83120468, -1.20457008,  1.79512961],\n",
       "       [-0.55937897,  1.09484195,  0.21007492,  0.84312094],\n",
       "       [-0.44648162, -0.03874274,  0.14515349,  0.40167187],\n",
       "       [ 0.02438302, -0.51498839,  1.87589906,  0.05588363],\n",
       "       [-0.11903061, -0.49806042,  1.03685879, -0.02828617],\n",
       "       [ 0.69171869,  0.47195583, -1.08653881, -0.32793567],\n",
       "       [-0.5646625 , -1.40842561, -0.86766609, -0.09684767],\n",
       "       [ 0.97897538, -0.36071289, -0.57494245, -0.76098392]])"
      ]
     },
     "execution_count": 53,
     "metadata": {},
     "output_type": "execute_result"
    }
   ],
   "source": [
    "# 1단계. 마스크를 만든다\n",
    "#       data array에서 0번째 열이 0보다 작은 요소의 \n",
    "#       boolean 값을 선택하기 위한 마스크\n",
    "data"
   ]
  },
  {
   "cell_type": "code",
   "execution_count": 54,
   "id": "647390a8",
   "metadata": {},
   "outputs": [
    {
     "data": {
      "text/plain": [
       "array([[-2.01133057, -0.83120468, -1.20457008,  1.79512961],\n",
       "       [-0.55937897,  1.09484195,  0.21007492,  0.84312094],\n",
       "       [-0.44648162, -0.03874274,  0.14515349,  0.40167187],\n",
       "       [-0.11903061, -0.49806042,  1.03685879, -0.02828617],\n",
       "       [-0.5646625 , -1.40842561, -0.86766609, -0.09684767]])"
      ]
     },
     "execution_count": 54,
     "metadata": {},
     "output_type": "execute_result"
    }
   ],
   "source": [
    "data[data[:,0] < 0]"
   ]
  },
  {
   "cell_type": "markdown",
   "id": "d89dbeef",
   "metadata": {},
   "source": [
    "- 문제2. data array에서 0번째 열이 0보다 작은 행의 2,3번째 열 데이터 가져오기"
   ]
  },
  {
   "cell_type": "code",
   "execution_count": 55,
   "id": "3db4af8b",
   "metadata": {},
   "outputs": [
    {
     "data": {
      "text/plain": [
       "(array([[-1.20457008,  1.79512961],\n",
       "        [ 0.21007492,  0.84312094],\n",
       "        [ 0.14515349,  0.40167187],\n",
       "        [ 1.03685879, -0.02828617],\n",
       "        [-0.86766609, -0.09684767]]),\n",
       " array([[-1.20457008,  1.79512961],\n",
       "        [ 0.21007492,  0.84312094],\n",
       "        [ 0.14515349,  0.40167187],\n",
       "        [ 1.03685879, -0.02828617],\n",
       "        [-0.86766609, -0.09684767]]))"
      ]
     },
     "execution_count": 55,
     "metadata": {},
     "output_type": "execute_result"
    }
   ],
   "source": [
    "# 1. 마스크 생성 : 0번째 열의 값이 0보다 작은 행의 2,3번째 열 값\n",
    "data[data[:,0]<0][:,2:4],data[data[:,0]<0,2:4]"
   ]
  },
  {
   "cell_type": "code",
   "execution_count": 56,
   "id": "ca2b5755",
   "metadata": {},
   "outputs": [
    {
     "data": {
      "text/plain": [
       "array([ True,  True,  True, False,  True, False,  True, False])"
      ]
     },
     "execution_count": 56,
     "metadata": {},
     "output_type": "execute_result"
    }
   ],
   "source": [
    "mask = data[:,0] <0\n",
    "mask"
   ]
  },
  {
   "cell_type": "code",
   "execution_count": 57,
   "id": "bcb19cc8",
   "metadata": {},
   "outputs": [
    {
     "data": {
      "text/plain": [
       "array([[-1.20457008,  1.79512961],\n",
       "       [ 0.21007492,  0.84312094],\n",
       "       [ 0.14515349,  0.40167187],\n",
       "       [ 1.03685879, -0.02828617],\n",
       "       [-0.86766609, -0.09684767]])"
      ]
     },
     "execution_count": 57,
     "metadata": {},
     "output_type": "execute_result"
    }
   ],
   "source": [
    "# 2. 생성된 마스크로 데이터 가져오기\n",
    "data[mask,2:4]"
   ]
  }
 ],
 "metadata": {
  "kernelspec": {
   "display_name": "Python 3 (ipykernel)",
   "language": "python",
   "name": "python3"
  },
  "language_info": {
   "codemirror_mode": {
    "name": "ipython",
    "version": 3
   },
   "file_extension": ".py",
   "mimetype": "text/x-python",
   "name": "python",
   "nbconvert_exporter": "python",
   "pygments_lexer": "ipython3",
   "version": "3.9.7"
  }
 },
 "nbformat": 4,
 "nbformat_minor": 5
}
