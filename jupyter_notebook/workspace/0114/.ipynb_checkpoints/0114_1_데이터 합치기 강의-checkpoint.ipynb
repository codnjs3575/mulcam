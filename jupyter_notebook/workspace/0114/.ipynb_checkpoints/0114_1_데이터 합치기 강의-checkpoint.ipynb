{
 "cells": [
  {
   "cell_type": "markdown",
   "id": "13a14986",
   "metadata": {},
   "source": [
    "# pandas 데이터 합치기\n",
    "- pandas는 두 개 이상의 데이터 프레임을 하나로 합치는\n",
    "- 병합(merge)이나 연결(concate)을 지원\n",
    "- merge(), join(), concat()"
   ]
  },
  {
   "cell_type": "code",
   "execution_count": null,
   "id": "2612d224",
   "metadata": {},
   "outputs": [],
   "source": [
    "# 필요 모듈\n",
    "import pandas as pd\n",
    "import numpy as np\n",
    "import random"
   ]
  },
  {
   "cell_type": "code",
   "execution_count": null,
   "id": "9e9da66f",
   "metadata": {},
   "outputs": [],
   "source": [
    "# 여러 변수 출력 코드\n",
    "from IPython.core.interactiveshell import InteractiveShell\n",
    "InteractiveShell.ast_node_interactivity=\"all\""
   ]
  },
  {
   "cell_type": "markdown",
   "id": "081de5aa",
   "metadata": {},
   "source": [
    "## 1. 데이터 병합\n",
    "### 1) merge() 명령을 이용한 데이터 프레임 병합\n",
    "- merge :\n",
    "    - 두 데이터 프레임의 공통 열(column)이나 인덱스(index)를 기준으로 합침 \n",
    "    - \n",
    "    "
   ]
  },
  {
   "cell_type": "markdown",
   "id": "49de8109",
   "metadata": {},
   "source": [
    "### 2)"
   ]
  },
  {
   "cell_type": "markdown",
   "id": "5107b382",
   "metadata": {},
   "source": [
    "### 3)"
   ]
  },
  {
   "cell_type": "markdown",
   "id": "c56e5985",
   "metadata": {},
   "source": [
    "### 4)"
   ]
  },
  {
   "cell_type": "markdown",
   "id": "ce5668bd",
   "metadata": {},
   "source": [
    "## 2. \n",
    "### 1)\n",
    "### 2)\n",
    "### 3)"
   ]
  },
  {
   "cell_type": "markdown",
   "id": "ddf81f62",
   "metadata": {},
   "source": [
    "## 3. \n",
    "### 1)\n",
    "### 2)\n",
    "### 3)"
   ]
  }
 ],
 "metadata": {
  "kernelspec": {
   "display_name": "Python 3 (ipykernel)",
   "language": "python",
   "name": "python3"
  },
  "language_info": {
   "codemirror_mode": {
    "name": "ipython",
    "version": 3
   },
   "file_extension": ".py",
   "mimetype": "text/x-python",
   "name": "python",
   "nbconvert_exporter": "python",
   "pygments_lexer": "ipython3",
   "version": "3.9.7"
  }
 },
 "nbformat": 4,
 "nbformat_minor": 5
}
